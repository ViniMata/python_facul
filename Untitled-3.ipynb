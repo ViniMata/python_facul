{
 "cells": [
  {
   "attachments": {},
   "cell_type": "markdown",
   "metadata": {},
   "source": [
    "##### Estrutura de condição dentro de estrutura de condição."
   ]
  },
  {
   "cell_type": "code",
   "execution_count": 2,
   "metadata": {},
   "outputs": [
    {
     "name": "stdout",
     "output_type": "stream",
     "text": [
      "Você nao tem direito ao desconto\n"
     ]
    }
   ],
   "source": [
    "idade = int(input(\"Insira a sua idade\"))\n",
    "total_compra = float(input(\"Insira o valor da sua compra\"))\n",
    "\n",
    "if idade >= 65:\n",
    "    if total_compra >= 100:\n",
    "        print(\"Você tera 10% de desconto\")\n",
    "    else:\n",
    "        print(\"Você não tera direito ao desconto por causa do valor da compra\")\n",
    "else:\n",
    "    print(\"Você nao tem direito ao desconto\")"
   ]
  },
  {
   "attachments": {},
   "cell_type": "markdown",
   "metadata": {},
   "source": [
    "#2 Crie um programa para solicidtar a idade do carro e marca do carro. Se a faixa de idade estiver entre 2013 e 2015, solicite a marca do carro e, caso a marca do carro seja Volvo, print o carro é Volvo e foi fabricado entre 2013 e 2015. Carro entre os anos 2013 e 2015 mas não é volvo. Seu carro esta fora da faixa do ano.\n",
    "#3 verificação do horario do dia e tempreratura para sugerir uma atividade\n",
    "6<=18 hora <12 e a temperatura >20 graus, Hora de fazer uma caminhada no parque.\n",
    "hora de tomar um café da manhã\n",
    "12 < hora <18 e a temperatura >25 graus, Que tal um piquenique.\n",
    "hora de almoçar\n",
    "hora de relaxar em casa."
   ]
  },
  {
   "attachments": {},
   "cell_type": "markdown",
   "metadata": {},
   "source": [
    "# Exercicio 2\n",
    "#2 Crie um programa para solicidtar a idade do carro e marca do carro. Se a faixa de idade estiver entre 2013 e 2015, solicite a marca do carro e, caso a marca do carro seja Volvo, print o carro é Volvo e foi fabricado entre 2013 e 2015. Carro entre os anos 2013 e 2015 mas não é volvo. Seu carro esta fora da faixa do ano."
   ]
  },
  {
   "cell_type": "code",
   "execution_count": 7,
   "metadata": {},
   "outputs": [
    {
     "name": "stdout",
     "output_type": "stream",
     "text": [
      "Seu carro esta fora da faixa do ano\n"
     ]
    }
   ],
   "source": [
    "idade_carro = int(input(\"Qual o ano do carro?\"))\n",
    "marca_carro = input(\"qual a marca do carro?\").lower()\n",
    "if 2013 <= idade_carro <=2015:\n",
    "    if marca_carro == \"volvo\":\n",
    "        print(\"O carro Volvo foi fabricado entre 2013 e 2015\")\n",
    "    else:\n",
    "        print(\"Carro entre os anos 2013 e 2015 mas não é Volvo\")\n",
    "else:\n",
    "    print(\"Seu carro esta fora da faixa do ano\")"
   ]
  },
  {
   "attachments": {},
   "cell_type": "markdown",
   "metadata": {},
   "source": [
    "# Exercicio 3\n",
    "#3 verificação do horario do dia e tempreratura para sugerir uma atividade\n",
    "6<=18 hora <12 e a temperatura >20 graus, Hora de fazer uma caminhada no parque.\n",
    "hora de tomar um café da manhã\n",
    "12 < hora <18 e a temperatura >25 graus, Que tal um piquenique.\n",
    "hora de almoçar\n",
    "hora de relaxar em casa."
   ]
  },
  {
   "cell_type": "code",
   "execution_count": 8,
   "metadata": {},
   "outputs": [
    {
     "name": "stdout",
     "output_type": "stream",
     "text": [
      "Eu sugiro essa atividade:\n",
      "hora de almoçar.\n"
     ]
    }
   ],
   "source": [
    "horario = int(input(\"Qual o horario?\"))\n",
    "temperatura = int(input(\"Qual a temperatura? \"))\n",
    "if 6 <= horario < 12:\n",
    "    if temperatura < 20:\n",
    "        print(\"Hora de fazer uma caminhada no parque.\")\n",
    "    else:\n",
    "        print(\"Hora de tomar um café da manhã.\")\n",
    "elif 12 <= horario <18:\n",
    "    if temperatura > 25:\n",
    "        print(\"Que tal um piquenique.\")\n",
    "    else: \n",
    "        print(\"Hora de almoçar.\")\n",
    "else:\n",
    "    print(\"Hora de relaxar em casa.\")"
   ]
  },
  {
   "attachments": {},
   "cell_type": "markdown",
   "metadata": {},
   "source": [
    "# Exercicio 4\n",
    "#4 verificação de status de um pedido com base na idade do pedido e no tipo de cliente\n",
    "idade < 7 e cliente VIP Seu pedido está sendo preparado para entrega expressa\n",
    "elses - seu pedido será entregue em breve.\n",
    "7 < idade < 14 e cliente VIP - Seu pedido esta em processo de embalagem especial\n",
    "else seu pedido esta sendo preparado\n",
    "else se pedido esta a caminho"
   ]
  },
  {
   "cell_type": "code",
   "execution_count": 12,
   "metadata": {},
   "outputs": [
    {
     "name": "stdout",
     "output_type": "stream",
     "text": [
      "Seu pedido esta em processo de embalagem especial.\n"
     ]
    }
   ],
   "source": [
    "idade = int(input(\"Digite sua idade: \"))\n",
    "tipo_cliente = input(\"Qual seu nivel de cliente? \").upper()\n",
    "if idade <= 7:\n",
    "    if tipo_cliente == \"VIP\":\n",
    "        print(\"Seu pedido está sendo preparado para entrega expressa.\")\n",
    "    else: \n",
    "        print(\"Seu pedido será entregue em breve.\")\n",
    "elif 7 < idade < 14:\n",
    "    if tipo_cliente == \"VIP\":\n",
    "        print(\"Seu pedido esta em processo de embalagem especial.\")\n",
    "    else:\n",
    "        print(\"Seu pedido esta sendo preparado.\")\n",
    "else:\n",
    "    print(\"Seu pedido esta a caminho.\") "
   ]
  },
  {
   "attachments": {},
   "cell_type": "markdown",
   "metadata": {},
   "source": [
    "# Exercicio 5\n",
    "#5 verificação de acesso a um usuario.\n",
    "solicite um usuario, senha e uma palavra de segurnaça para ter acesso ao sistema."
   ]
  },
  {
   "cell_type": "code",
   "execution_count": null,
   "metadata": {},
   "outputs": [],
   "source": [
    "usuario = input(\"Digite o nome do seu usuário?\")\n",
    "senha = input(\"Qual sua senha? \")\n",
    "palavra_de_seguranca = input(\"Qual sua palavra de segurança?\")\n"
   ]
  },
  {
   "attachments": {},
   "cell_type": "markdown",
   "metadata": {},
   "source": [
    "# Exercicio 6\n",
    "#crie uma estrutura na qual possa verificar se os tempos da falhas de maquinas = 12, 14, 18, 20, 25, 30, 45 estão abaixo ou acim da média."
   ]
  },
  {
   "cell_type": "code",
   "execution_count": 18,
   "metadata": {},
   "outputs": [
    {
     "name": "stdout",
     "output_type": "stream",
     "text": [
      "Tempos de falha: 12, 14, 18, 20, 25, 30, 45 \n",
      "Esse tempo esta acima da media\n"
     ]
    }
   ],
   "source": [
    "print(\"Tempos de falha: 12, 14, 18, 20, 25, 30, 45 \")\n",
    "falha = int(input(\"digite a falha\"))\n",
    "media= (12+14+18+20+25+30+45)/7\n",
    "if falha > media:\n",
    "    print(\"Esse tempo esta acima da media\")\n",
    "elif falha < media:\n",
    "    print(\"Esse tempo esta abaixo da media\")\n",
    "else:\n",
    "    print(\"A falha é igual a média\")"
   ]
  },
  {
   "cell_type": "code",
   "execution_count": 3,
   "metadata": {},
   "outputs": [
    {
     "name": "stdout",
     "output_type": "stream",
     "text": [
      "0\n",
      "1\n"
     ]
    }
   ],
   "source": [
    "i = 0\n",
    "\n",
    "while i <= 1:\n",
    "    print(i)\n",
    "    i += 1\n",
    "\n"
   ]
  },
  {
   "cell_type": "code",
   "execution_count": 5,
   "metadata": {},
   "outputs": [
    {
     "name": "stdout",
     "output_type": "stream",
     "text": [
      "720\n"
     ]
    }
   ],
   "source": [
    "resultado = 1\n",
    "numero = 0\n",
    "\n",
    "while numero<6:\n",
    "    numero +=1\n",
    "    resultado *= numero\n",
    "print(resultado)"
   ]
  },
  {
   "cell_type": "code",
   "execution_count": 7,
   "metadata": {},
   "outputs": [
    {
     "name": "stdout",
     "output_type": "stream",
     "text": [
      "10\n",
      "9\n",
      "8\n",
      "7\n",
      "6\n",
      "5\n",
      "4\n",
      "3\n",
      "2\n",
      "1\n",
      "0\n"
     ]
    }
   ],
   "source": [
    "contador = 10\n",
    "\n",
    "while contador > 0:\n",
    "    contador -= 1\n",
    "    print(contador)"
   ]
  },
  {
   "attachments": {},
   "cell_type": "markdown",
   "metadata": {},
   "source": [
    "# ex 1/2\n",
    "crie um programa para solicitar temperaturas em Farenheit e converter para Graus celcius\n",
    "enquanto for diferente de alguma coisa, continue esta estrutura.\n"
   ]
  },
  {
   "cell_type": "code",
   "execution_count": 15,
   "metadata": {},
   "outputs": [
    {
     "name": "stdout",
     "output_type": "stream",
     "text": [
      "45.0°F em celcius é 7.22°C\n",
      "87.0°F em celcius é 30.56°C\n"
     ]
    }
   ],
   "source": [
    "temp_celcius = 0\n",
    "temp_faren = float(input(\"Temperatura em farenheit: \"))\n",
    "while temp_faren != 0:\n",
    "    temp_celcius = (5/9) * (temp_faren - 32)\n",
    "    print(f\"{temp_faren}°F em celcius é {temp_celcius:.2f}°C\")\n",
    "    temp_faren = float(input(\"Temperatura em farenheit: \"))"
   ]
  },
  {
   "attachments": {},
   "cell_type": "markdown",
   "metadata": {},
   "source": [
    "# 2/2\n",
    "#crie um programa para solicitar um numero para o usuario, crie uma variavel contador = 1, utilize a estrutura while para contar até que contador seja menor ou igual a numero print contador incemente contador em +1"
   ]
  },
  {
   "cell_type": "code",
   "execution_count": 17,
   "metadata": {},
   "outputs": [
    {
     "name": "stdout",
     "output_type": "stream",
     "text": [
      "1\n",
      "2\n",
      "3\n",
      "4\n",
      "5\n",
      "6\n",
      "7\n",
      "8\n",
      "9\n",
      "10\n"
     ]
    }
   ],
   "source": [
    "contador = 1\n",
    "numero = float(input(\"Numero:\"))\n",
    "while contador <= numero:\n",
    "    print(contador)\n",
    "    contador += 1\n",
    "    "
   ]
  },
  {
   "attachments": {},
   "cell_type": "markdown",
   "metadata": {},
   "source": [
    "crie um programa para contar de 0 até 10, depois crie um programa para contagem decrescente."
   ]
  },
  {
   "cell_type": "code",
   "execution_count": 21,
   "metadata": {},
   "outputs": [
    {
     "name": "stdout",
     "output_type": "stream",
     "text": [
      "1\n",
      "2\n",
      "3\n",
      "4\n",
      "5\n",
      "6\n",
      "7\n",
      "8\n",
      "9\n",
      "10\n"
     ]
    }
   ],
   "source": [
    "numero = 0\n",
    "while numero < 10:\n",
    "    numero += 1\n",
    "    print(numero)"
   ]
  },
  {
   "cell_type": "code",
   "execution_count": 25,
   "metadata": {},
   "outputs": [
    {
     "name": "stdout",
     "output_type": "stream",
     "text": [
      "10\n",
      "9\n",
      "8\n",
      "7\n",
      "6\n",
      "5\n",
      "4\n",
      "3\n",
      "2\n",
      "1\n"
     ]
    }
   ],
   "source": [
    "numero = 10\n",
    "while numero > 0:\n",
    "    print(numero)\n",
    "    numero -= 1\n",
    "    "
   ]
  },
  {
   "cell_type": "code",
   "execution_count": 20,
   "metadata": {},
   "outputs": [
    {
     "name": "stdout",
     "output_type": "stream",
     "text": [
      "10\n",
      "9\n",
      "8\n",
      "7\n",
      "6\n",
      "5\n",
      "4\n",
      "3\n",
      "2\n",
      "1\n",
      "0\n"
     ]
    }
   ],
   "source": [
    "for i in range (10, 0, -1):\n",
    "    print(i)"
   ]
  },
  {
   "cell_type": "code",
   "execution_count": null,
   "metadata": {},
   "outputs": [],
   "source": []
  }
 ],
 "metadata": {
  "kernelspec": {
   "display_name": "Python 3",
   "language": "python",
   "name": "python3"
  },
  "language_info": {
   "codemirror_mode": {
    "name": "ipython",
    "version": 3
   },
   "file_extension": ".py",
   "mimetype": "text/x-python",
   "name": "python",
   "nbconvert_exporter": "python",
   "pygments_lexer": "ipython3",
   "version": "3.11.4"
  },
  "orig_nbformat": 4
 },
 "nbformat": 4,
 "nbformat_minor": 2
}
