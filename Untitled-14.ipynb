{
 "cells": [
  {
   "cell_type": "code",
   "execution_count": null,
   "metadata": {},
   "outputs": [],
   "source": [
    "#exemplos 1 - midias digitais\n",
    "#Sabendo que a tupla tem a informação sobre a midia digital, quantidade de likes e dislikes.\n",
    "dados = [('youtube', 550, 10),\n",
    "         ('facebook', 822, 50),\n",
    "         ('linkedin', 1226, 5),\n",
    "         ('instagram', 55000, 65)]\n",
    "\n",
    "# a. Qual a soma total de likes?\n",
    "# b. Qual a soma total de dislikes?\n",
    "# c. Qual a media de likes?\n",
    "# d. Qual a media de dislikes?\n",
    "# e. Qual a mídia apresenta maior e menor taxa de likes?\n",
    "# f.Qual a mídia apresenta maior e menor taxa de dislikes?\n",
    "# g. Faça uma alteração na tupla incluindo spotify com 968 likes e 31 dislikes e retonre uma nova tupla\n"
   ]
  },
  {
   "cell_type": "code",
   "execution_count": 50,
   "metadata": {},
   "outputs": [
    {
     "name": "stdout",
     "output_type": "stream",
     "text": [
      "Soma de likes 57598, Soma de dislikes 130, Media de likes  14399.5, Media de dislikse 32.5\n",
      "Maior taxa de likes 0.9988\n",
      "Menor taxa de likes 0.9427\n",
      "Maior taxa de dislikes 0.0573\n",
      "Menor taxa de dislikes 0.0012\n"
     ]
    }
   ],
   "source": [
    "dados = [('youtube', 550, 10),\n",
    "         ('facebook', 822, 50),\n",
    "         ('linkedin', 1226, 5),\n",
    "         ('instagram', 55000, 65)]\n",
    "#1\n",
    "\n",
    "soma_likes = 0\n",
    "soma_dislikes = 0\n",
    "lista_taxa_likes = []\n",
    "lista_taxa_dislikes = []\n",
    "\n",
    "for i in dados:\n",
    "    midia, likes, dislikes = i \n",
    "    \n",
    "    soma_likes += likes\n",
    "    soma_dislikes += dislikes\n",
    "    lista_taxa_dislikes.append(dislikes /( dislikes +likes))\n",
    "    lista_taxa_likes.append(likes / (likes +dislikes))\n",
    "\n",
    "\n",
    "\n",
    "media_likes = soma_likes/len(dados)\n",
    "media_dislikes = soma_dislikes/len(dados)\n",
    "\n",
    "print(f\"Soma de likes {soma_likes}, Soma de dislikes {soma_dislikes}, Media de likes  {media_likes}, Media de dislikse {media_dislikes}\")\n",
    "print(f\"Maior taxa de likes {max(lista_taxa_likes):.4f}\")\n",
    "print(f\"Menor taxa de likes {min(lista_taxa_likes):.4f}\")\n",
    "print(f\"Maior taxa de dislikes {max(lista_taxa_dislikes):.4f}\")\n",
    "print(f\"Menor taxa de dislikes {min(lista_taxa_dislikes):.4f}\")"
   ]
  },
  {
   "cell_type": "markdown",
   "metadata": {},
   "source": []
  }
 ],
 "metadata": {
  "kernelspec": {
   "display_name": "Python 3",
   "language": "python",
   "name": "python3"
  },
  "language_info": {
   "codemirror_mode": {
    "name": "ipython",
    "version": 3
   },
   "file_extension": ".py",
   "mimetype": "text/x-python",
   "name": "python",
   "nbconvert_exporter": "python",
   "pygments_lexer": "ipython3",
   "version": "3.11.7"
  }
 },
 "nbformat": 4,
 "nbformat_minor": 2
}
