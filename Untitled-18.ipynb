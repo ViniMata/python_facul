{
 "cells": [
  {
   "cell_type": "code",
   "execution_count": 1,
   "metadata": {},
   "outputs": [
    {
     "name": "stdout",
     "output_type": "stream",
     "text": [
      "A soma dis elemntos na posição 0, é 5\n",
      "A soma dis elemntos na posição 1, é 7\n",
      "A soma dis elemntos na posição 2, é 9\n"
     ]
    }
   ],
   "source": [
    "lista1= [1,2,3]\n",
    "lista2= [4,5,6]\n",
    "\n",
    "for i in range(len(lista1)):\n",
    "    for k in range(len(lista2)):\n",
    "        if i == k:\n",
    "            print(f\"A soma dis elemntos na posição {i}, é {lista1[i] + lista2[k]}\")"
   ]
  },
  {
   "cell_type": "code",
   "execution_count": 3,
   "metadata": {},
   "outputs": [
    {
     "name": "stdout",
     "output_type": "stream",
     "text": [
      "A palavra python tem 1 de vogais.\n",
      "A palavra matlab tem 2 de vogais.\n",
      "A palavra javascript tem 3 de vogais.\n",
      "A palavra vscode tem 2 de vogais.\n",
      "A palavra spyder tem 1 de vogais.\n"
     ]
    }
   ],
   "source": [
    "palavras = [\"python\", \"matlab\", \"javascript\", \"vscode\", \"spyder\"]\n",
    "vogais = 'aeiou'\n",
    "\n",
    "for palavra in palavras:\n",
    "    count_vogais = 0\n",
    "\n",
    "    for letra in palavra:\n",
    "        if letra in vogais:\n",
    "            count_vogais += 1\n",
    "\n",
    "    print(f\"A palavra {palavra} tem {count_vogais} de vogais.\")"
   ]
  },
  {
   "cell_type": "code",
   "execution_count": 5,
   "metadata": {},
   "outputs": [
    {
     "name": "stdout",
     "output_type": "stream",
     "text": [
      "O email a@gmail.com tem o dominio gmail.\n",
      "O email b@hotmail.com tem o dominio hotmail.\n",
      "O email c@gmail.com tem o dominio gmail.\n",
      "O email d@hotmail.com tem o dominio hotmail.\n",
      "O email e@hotmail.com tem o dominio hotmail.\n"
     ]
    }
   ],
   "source": [
    "emails = [\"a@gmail.com\", \"b@hotmail.com\", \"c@gmail.com\", \"d@hotmail.com\", \"e@hotmail.com\"]\n",
    "arrobas = [\"gmail\", \"hotmail\"]\n",
    "\n",
    "for email in emails:\n",
    "    for arroba in arrobas:\n",
    "        if arroba in email:\n",
    "            print(f\"O email {email} tem o dominio {arroba}.\")"
   ]
  },
  {
   "cell_type": "markdown",
   "metadata": {},
   "source": [
    "1 crie uma estrutura para mostrar uma tabuada que calcula a multiplcação de numeros de 2 a 6\n",
    "2 crie uma estrutura para contar as consoantes nas palavras da lsita abaixo\n",
    "lista_palavras = [\"brasil\", \"inglaterra\", \"estados unidos\", \"canada\", \"chile\"]\n",
    "\n",
    "3 crie uma estrutura para verificar se as palavras chave aparecem nos parágrafos.\n",
    "lista_texto = [\"hoje é sexta-feira\", \"em 2022, tivemos a copa do mundo\", \"a melhor forma de studar python é praticar\"]\n",
    "palavras_chave = [\"hoje\", \"mundo\", \"estudar\", \"praticar\"]"
   ]
  },
  {
   "cell_type": "code",
   "execution_count": 13,
   "metadata": {},
   "outputs": [
    {
     "name": "stdout",
     "output_type": "stream",
     "text": [
      "2 x 1 = 2\n",
      "2 x 2 = 4\n",
      "2 x 3 = 6\n",
      "2 x 4 = 8\n",
      "2 x 5 = 10\n",
      "2 x 6 = 12\n",
      "2 x 7 = 14\n",
      "2 x 8 = 16\n",
      "2 x 9 = 18\n",
      "2 x 10 = 20\n",
      "3 x 1 = 3\n",
      "3 x 2 = 6\n",
      "3 x 3 = 9\n",
      "3 x 4 = 12\n",
      "3 x 5 = 15\n",
      "3 x 6 = 18\n",
      "3 x 7 = 21\n",
      "3 x 8 = 24\n",
      "3 x 9 = 27\n",
      "3 x 10 = 30\n",
      "4 x 1 = 4\n",
      "4 x 2 = 8\n",
      "4 x 3 = 12\n",
      "4 x 4 = 16\n",
      "4 x 5 = 20\n",
      "4 x 6 = 24\n",
      "4 x 7 = 28\n",
      "4 x 8 = 32\n",
      "4 x 9 = 36\n",
      "4 x 10 = 40\n",
      "5 x 1 = 5\n",
      "5 x 2 = 10\n",
      "5 x 3 = 15\n",
      "5 x 4 = 20\n",
      "5 x 5 = 25\n",
      "5 x 6 = 30\n",
      "5 x 7 = 35\n",
      "5 x 8 = 40\n",
      "5 x 9 = 45\n",
      "5 x 10 = 50\n",
      "6 x 1 = 6\n",
      "6 x 2 = 12\n",
      "6 x 3 = 18\n",
      "6 x 4 = 24\n",
      "6 x 5 = 30\n",
      "6 x 6 = 36\n",
      "6 x 7 = 42\n",
      "6 x 8 = 48\n",
      "6 x 9 = 54\n",
      "6 x 10 = 60\n"
     ]
    }
   ],
   "source": [
    "#1\n",
    "\n",
    "for i in range(2,7):\n",
    "    for k in range(1,11):\n",
    "        print(f\"{i} x {k} = {i * k}\")"
   ]
  },
  {
   "cell_type": "code",
   "execution_count": 20,
   "metadata": {},
   "outputs": [
    {
     "name": "stdout",
     "output_type": "stream",
     "text": [
      "A palavra brasil tem 4 de consoantes.\n",
      "A palavra inglaterra tem 6 de consoantes.\n",
      "A palavra estados unidos tem 7 de consoantes.\n",
      "A palavra canada tem 3 de consoantes.\n",
      "A palavra chile tem 3 de consoantes.\n"
     ]
    }
   ],
   "source": [
    "#2\n",
    "lista_palavras = [\"brasil\", \"inglaterra\", \"estados unidos\", \"canada\", \"chile\"]\n",
    "vogais = \"aeiou\"\n",
    "for palavra in lista_palavras:\n",
    "    count_consoantes = 0\n",
    "    for letra in palavra:\n",
    "        if letra not in vogais and letra != \" \":\n",
    "            count_consoantes += 1\n",
    "    print(f\"A palavra {palavra} tem {count_consoantes} de consoantes.\")"
   ]
  },
  {
   "cell_type": "code",
   "execution_count": 21,
   "metadata": {},
   "outputs": [],
   "source": [
    "import pandas as pd"
   ]
  },
  {
   "cell_type": "code",
   "execution_count": 22,
   "metadata": {},
   "outputs": [
    {
     "data": {
      "text/html": [
       "<div>\n",
       "<style scoped>\n",
       "    .dataframe tbody tr th:only-of-type {\n",
       "        vertical-align: middle;\n",
       "    }\n",
       "\n",
       "    .dataframe tbody tr th {\n",
       "        vertical-align: top;\n",
       "    }\n",
       "\n",
       "    .dataframe thead th {\n",
       "        text-align: right;\n",
       "    }\n",
       "</style>\n",
       "<table border=\"1\" class=\"dataframe\">\n",
       "  <thead>\n",
       "    <tr style=\"text-align: right;\">\n",
       "      <th></th>\n",
       "      <th>coluna1</th>\n",
       "      <th>coluna2</th>\n",
       "    </tr>\n",
       "  </thead>\n",
       "  <tbody>\n",
       "    <tr>\n",
       "      <th>0</th>\n",
       "      <td>0.0</td>\n",
       "      <td>0.0</td>\n",
       "    </tr>\n",
       "    <tr>\n",
       "      <th>1</th>\n",
       "      <td>1.0</td>\n",
       "      <td>1.0</td>\n",
       "    </tr>\n",
       "  </tbody>\n",
       "</table>\n",
       "</div>"
      ],
      "text/plain": [
       "   coluna1  coluna2\n",
       "0      0.0      0.0\n",
       "1      1.0      1.0"
      ]
     },
     "execution_count": 22,
     "metadata": {},
     "output_type": "execute_result"
    }
   ],
   "source": [
    "df = pd.DataFrame([[4,5], [7,8]], columns=[\"coluna1\", \"coluna2\"])\n",
    "\n",
    "df_normalizado = df.apply(lambda col: (col - col.min()) / (col.max() - col.min()))\n",
    "\n",
    "df_normalizado"
   ]
  },
  {
   "cell_type": "code",
   "execution_count": 24,
   "metadata": {},
   "outputs": [
    {
     "data": {
      "text/html": [
       "<div>\n",
       "<style scoped>\n",
       "    .dataframe tbody tr th:only-of-type {\n",
       "        vertical-align: middle;\n",
       "    }\n",
       "\n",
       "    .dataframe tbody tr th {\n",
       "        vertical-align: top;\n",
       "    }\n",
       "\n",
       "    .dataframe thead th {\n",
       "        text-align: right;\n",
       "    }\n",
       "</style>\n",
       "<table border=\"1\" class=\"dataframe\">\n",
       "  <thead>\n",
       "    <tr style=\"text-align: right;\">\n",
       "      <th></th>\n",
       "      <th>nome</th>\n",
       "      <th>nome completo</th>\n",
       "    </tr>\n",
       "  </thead>\n",
       "  <tbody>\n",
       "    <tr>\n",
       "      <th>0</th>\n",
       "      <td>alice</td>\n",
       "      <td>alicesilva</td>\n",
       "    </tr>\n",
       "    <tr>\n",
       "      <th>1</th>\n",
       "      <td>maria</td>\n",
       "      <td>mariasilva</td>\n",
       "    </tr>\n",
       "    <tr>\n",
       "      <th>2</th>\n",
       "      <td>pedro</td>\n",
       "      <td>pedrosilva</td>\n",
       "    </tr>\n",
       "    <tr>\n",
       "      <th>3</th>\n",
       "      <td>tiago</td>\n",
       "      <td>tiagosilva</td>\n",
       "    </tr>\n",
       "  </tbody>\n",
       "</table>\n",
       "</div>"
      ],
      "text/plain": [
       "    nome nome completo\n",
       "0  alice    alicesilva\n",
       "1  maria    mariasilva\n",
       "2  pedro    pedrosilva\n",
       "3  tiago    tiagosilva"
      ]
     },
     "execution_count": 24,
     "metadata": {},
     "output_type": "execute_result"
    }
   ],
   "source": [
    "df = pd.DataFrame({\n",
    "    \"nome\": [\"alice\", \"maria\", \"pedro\", \"tiago\"]\n",
    "})\n",
    "\n",
    "df[\"nome completo\"] = df.apply(lambda x: x + \"silva\")\n",
    "df"
   ]
  }
 ],
 "metadata": {
  "kernelspec": {
   "display_name": "Python 3",
   "language": "python",
   "name": "python3"
  },
  "language_info": {
   "codemirror_mode": {
    "name": "ipython",
    "version": 3
   },
   "file_extension": ".py",
   "mimetype": "text/x-python",
   "name": "python",
   "nbconvert_exporter": "python",
   "pygments_lexer": "ipython3",
   "version": "3.12.3"
  }
 },
 "nbformat": 4,
 "nbformat_minor": 2
}
