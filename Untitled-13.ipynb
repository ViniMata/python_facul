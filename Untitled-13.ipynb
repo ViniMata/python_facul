{
 "cells": [
  {
   "cell_type": "code",
   "execution_count": 3,
   "metadata": {},
   "outputs": [],
   "source": [
    "import pandas as pd"
   ]
  },
  {
   "cell_type": "code",
   "execution_count": 5,
   "metadata": {},
   "outputs": [],
   "source": [
    "df_track = pd.read_csv(r'Track_202408231945.csv')"
   ]
  },
  {
   "cell_type": "code",
   "execution_count": 10,
   "metadata": {},
   "outputs": [
    {
     "data": {
      "text/html": [
       "<div>\n",
       "<style scoped>\n",
       "    .dataframe tbody tr th:only-of-type {\n",
       "        vertical-align: middle;\n",
       "    }\n",
       "\n",
       "    .dataframe tbody tr th {\n",
       "        vertical-align: top;\n",
       "    }\n",
       "\n",
       "    .dataframe thead th {\n",
       "        text-align: right;\n",
       "    }\n",
       "</style>\n",
       "<table border=\"1\" class=\"dataframe\">\n",
       "  <thead>\n",
       "    <tr style=\"text-align: right;\">\n",
       "      <th></th>\n",
       "      <th>Name</th>\n",
       "      <th>AlbumId</th>\n",
       "      <th>Milliseconds</th>\n",
       "      <th>Bytes</th>\n",
       "    </tr>\n",
       "  </thead>\n",
       "  <tbody>\n",
       "    <tr>\n",
       "      <th>0</th>\n",
       "      <td>For Those About To Rock (We Salute You)</td>\n",
       "      <td>1</td>\n",
       "      <td>343719</td>\n",
       "      <td>11170334</td>\n",
       "    </tr>\n",
       "    <tr>\n",
       "      <th>1</th>\n",
       "      <td>Balls to the Wall</td>\n",
       "      <td>2</td>\n",
       "      <td>342562</td>\n",
       "      <td>5510424</td>\n",
       "    </tr>\n",
       "    <tr>\n",
       "      <th>2</th>\n",
       "      <td>Fast As a Shark</td>\n",
       "      <td>3</td>\n",
       "      <td>230619</td>\n",
       "      <td>3990994</td>\n",
       "    </tr>\n",
       "    <tr>\n",
       "      <th>3</th>\n",
       "      <td>Restless and Wild</td>\n",
       "      <td>3</td>\n",
       "      <td>252051</td>\n",
       "      <td>4331779</td>\n",
       "    </tr>\n",
       "    <tr>\n",
       "      <th>4</th>\n",
       "      <td>Princess of the Dawn</td>\n",
       "      <td>3</td>\n",
       "      <td>375418</td>\n",
       "      <td>6290521</td>\n",
       "    </tr>\n",
       "    <tr>\n",
       "      <th>...</th>\n",
       "      <td>...</td>\n",
       "      <td>...</td>\n",
       "      <td>...</td>\n",
       "      <td>...</td>\n",
       "    </tr>\n",
       "    <tr>\n",
       "      <th>3498</th>\n",
       "      <td>Pini Di Roma (Pinien Von Rom) \\ I Pini Della V...</td>\n",
       "      <td>343</td>\n",
       "      <td>286741</td>\n",
       "      <td>4718950</td>\n",
       "    </tr>\n",
       "    <tr>\n",
       "      <th>3499</th>\n",
       "      <td>String Quartet No. 12 in C Minor, D. 703 \"Quar...</td>\n",
       "      <td>344</td>\n",
       "      <td>139200</td>\n",
       "      <td>2283131</td>\n",
       "    </tr>\n",
       "    <tr>\n",
       "      <th>3500</th>\n",
       "      <td>L'orfeo, Act 3, Sinfonia (Orchestra)</td>\n",
       "      <td>345</td>\n",
       "      <td>66639</td>\n",
       "      <td>1189062</td>\n",
       "    </tr>\n",
       "    <tr>\n",
       "      <th>3501</th>\n",
       "      <td>Quintet for Horn, Violin, 2 Violas, and Cello ...</td>\n",
       "      <td>346</td>\n",
       "      <td>221331</td>\n",
       "      <td>3665114</td>\n",
       "    </tr>\n",
       "    <tr>\n",
       "      <th>3502</th>\n",
       "      <td>Koyaanisqatsi</td>\n",
       "      <td>347</td>\n",
       "      <td>206005</td>\n",
       "      <td>3305164</td>\n",
       "    </tr>\n",
       "  </tbody>\n",
       "</table>\n",
       "<p>3503 rows × 4 columns</p>\n",
       "</div>"
      ],
      "text/plain": [
       "                                                   Name  AlbumId  \\\n",
       "0               For Those About To Rock (We Salute You)        1   \n",
       "1                                     Balls to the Wall        2   \n",
       "2                                       Fast As a Shark        3   \n",
       "3                                     Restless and Wild        3   \n",
       "4                                  Princess of the Dawn        3   \n",
       "...                                                 ...      ...   \n",
       "3498  Pini Di Roma (Pinien Von Rom) \\ I Pini Della V...      343   \n",
       "3499  String Quartet No. 12 in C Minor, D. 703 \"Quar...      344   \n",
       "3500               L'orfeo, Act 3, Sinfonia (Orchestra)      345   \n",
       "3501  Quintet for Horn, Violin, 2 Violas, and Cello ...      346   \n",
       "3502                                      Koyaanisqatsi      347   \n",
       "\n",
       "      Milliseconds     Bytes  \n",
       "0           343719  11170334  \n",
       "1           342562   5510424  \n",
       "2           230619   3990994  \n",
       "3           252051   4331779  \n",
       "4           375418   6290521  \n",
       "...            ...       ...  \n",
       "3498        286741   4718950  \n",
       "3499        139200   2283131  \n",
       "3500         66639   1189062  \n",
       "3501        221331   3665114  \n",
       "3502        206005   3305164  \n",
       "\n",
       "[3503 rows x 4 columns]"
      ]
     },
     "execution_count": 10,
     "metadata": {},
     "output_type": "execute_result"
    }
   ],
   "source": [
    "df_track"
   ]
  },
  {
   "cell_type": "code",
   "execution_count": 11,
   "metadata": {},
   "outputs": [
    {
     "data": {
      "text/plain": [
       "Name\n",
       "\"40\"                                                           157962\n",
       "\"?\"                                                           2782333\n",
       "\"Eine Kleine Nachtmusik\" Serenade In G, K. 525: I. Allegro     348971\n",
       "#1 Zero                                                        299102\n",
       "#9 Dream                                                       278312\n",
       "                                                               ...   \n",
       "É que Nessa Encarnação Eu Nasci Manga                          196519\n",
       "Étude 1, In C Major - Preludio (Presto) - Liszt                 51780\n",
       "Óculos                                                         219271\n",
       "Óia Eu Aqui De Novo                                            219454\n",
       "Último Pau-De-Arara                                            200437\n",
       "Name: Milliseconds, Length: 3257, dtype: int64"
      ]
     },
     "execution_count": 11,
     "metadata": {},
     "output_type": "execute_result"
    }
   ],
   "source": [
    "df_track.groupby(\"Name\")[\"Milliseconds\"].sum()"
   ]
  },
  {
   "cell_type": "code",
   "execution_count": 12,
   "metadata": {},
   "outputs": [
    {
     "data": {
      "text/plain": [
       "0       343719\n",
       "1       342562\n",
       "2       230619\n",
       "3       252051\n",
       "4       375418\n",
       "         ...  \n",
       "3498    286741\n",
       "3499    139200\n",
       "3500     66639\n",
       "3501    221331\n",
       "3502    206005\n",
       "Name: Milliseconds, Length: 3503, dtype: int64"
      ]
     },
     "execution_count": 12,
     "metadata": {},
     "output_type": "execute_result"
    }
   ],
   "source": [
    "df_track[\"Milliseconds\"]"
   ]
  },
  {
   "cell_type": "code",
   "execution_count": 13,
   "metadata": {},
   "outputs": [],
   "source": [
    "import numpy as np"
   ]
  },
  {
   "cell_type": "code",
   "execution_count": 16,
   "metadata": {},
   "outputs": [],
   "source": [
    "vetor = np.array([10,20,30,40,50])\n"
   ]
  },
  {
   "cell_type": "code",
   "execution_count": 23,
   "metadata": {},
   "outputs": [
    {
     "data": {
      "text/plain": [
       "array([[ 10,  20],\n",
       "       [  4,   5],\n",
       "       [100, 200]])"
      ]
     },
     "execution_count": 23,
     "metadata": {},
     "output_type": "execute_result"
    }
   ],
   "source": [
    "matriz_2d = np.array([[10, 20], [4, 5], [100, 200]])\n",
    "matriz_2d"
   ]
  },
  {
   "cell_type": "code",
   "execution_count": 17,
   "metadata": {},
   "outputs": [
    {
     "data": {
      "text/plain": [
       "array([10, 20, 30, 40, 50])"
      ]
     },
     "execution_count": 17,
     "metadata": {},
     "output_type": "execute_result"
    }
   ],
   "source": [
    "vetor"
   ]
  },
  {
   "cell_type": "code",
   "execution_count": 28,
   "metadata": {},
   "outputs": [
    {
     "name": "stdout",
     "output_type": "stream",
     "text": [
      "0    11\n",
      "1    22\n",
      "2    33\n",
      "3    44\n",
      "4    55\n",
      "dtype: int64\n",
      "0     9\n",
      "1    18\n",
      "2    27\n",
      "3    36\n",
      "4    45\n",
      "dtype: int64\n",
      "0     10\n",
      "1     40\n",
      "2     90\n",
      "3    160\n",
      "4    250\n",
      "dtype: int64\n",
      "0    10.0\n",
      "1    10.0\n",
      "2    10.0\n",
      "3    10.0\n",
      "4    10.0\n",
      "dtype: float64\n"
     ]
    }
   ],
   "source": [
    "#Estruturas unidimensionais =  pandas series\n",
    "\n",
    "s1 = pd.Series([10,20,30,40,50])\n",
    "s2 = pd.Series([1,2,3,4,5])\n",
    "\n",
    "s_soma = s1 + s2\n",
    "s_sub = s1 +- s2\n",
    "s_multi = s1 * s2\n",
    "s_div = s1 / s2\n",
    "print(s_soma)\n",
    "print(s_sub)\n",
    "print(s_multi)\n",
    "print(s_div)"
   ]
  },
  {
   "cell_type": "code",
   "execution_count": 32,
   "metadata": {},
   "outputs": [
    {
     "name": "stdout",
     "output_type": "stream",
     "text": [
      "0    10\n",
      "1    20\n",
      "2    30\n",
      "3    40\n",
      "4    50\n",
      "Name: Series 1, dtype: int64\n",
      "0    1\n",
      "1    2\n",
      "2    3\n",
      "3    4\n",
      "4    5\n",
      "Name: Series 2, dtype: int64\n"
     ]
    }
   ],
   "source": [
    "s1 = pd.Series([10,20,30,40,50], name = \"Series 1\")\n",
    "s2 = pd.Series([1,2,3,4,5], name = \"Series 2\")\n",
    "print(s1)\n",
    "print(s2)"
   ]
  },
  {
   "cell_type": "code",
   "execution_count": 34,
   "metadata": {},
   "outputs": [
    {
     "data": {
      "text/html": [
       "<div>\n",
       "<style scoped>\n",
       "    .dataframe tbody tr th:only-of-type {\n",
       "        vertical-align: middle;\n",
       "    }\n",
       "\n",
       "    .dataframe tbody tr th {\n",
       "        vertical-align: top;\n",
       "    }\n",
       "\n",
       "    .dataframe thead th {\n",
       "        text-align: right;\n",
       "    }\n",
       "</style>\n",
       "<table border=\"1\" class=\"dataframe\">\n",
       "  <thead>\n",
       "    <tr style=\"text-align: right;\">\n",
       "      <th></th>\n",
       "      <th>Serie 1</th>\n",
       "      <th>Serie 2</th>\n",
       "    </tr>\n",
       "  </thead>\n",
       "  <tbody>\n",
       "    <tr>\n",
       "      <th>0</th>\n",
       "      <td>10</td>\n",
       "      <td>1</td>\n",
       "    </tr>\n",
       "    <tr>\n",
       "      <th>1</th>\n",
       "      <td>20</td>\n",
       "      <td>2</td>\n",
       "    </tr>\n",
       "    <tr>\n",
       "      <th>2</th>\n",
       "      <td>30</td>\n",
       "      <td>3</td>\n",
       "    </tr>\n",
       "    <tr>\n",
       "      <th>3</th>\n",
       "      <td>40</td>\n",
       "      <td>4</td>\n",
       "    </tr>\n",
       "    <tr>\n",
       "      <th>4</th>\n",
       "      <td>50</td>\n",
       "      <td>5</td>\n",
       "    </tr>\n",
       "  </tbody>\n",
       "</table>\n",
       "</div>"
      ],
      "text/plain": [
       "   Serie 1  Serie 2\n",
       "0       10        1\n",
       "1       20        2\n",
       "2       30        3\n",
       "3       40        4\n",
       "4       50        5"
      ]
     },
     "execution_count": 34,
     "metadata": {},
     "output_type": "execute_result"
    }
   ],
   "source": [
    "df = pd.DataFrame({'Serie 1': s1, 'Serie 2': s2})\n",
    "df"
   ]
  },
  {
   "cell_type": "code",
   "execution_count": 9,
   "metadata": {},
   "outputs": [
    {
     "data": {
      "text/html": [
       "<div>\n",
       "<style scoped>\n",
       "    .dataframe tbody tr th:only-of-type {\n",
       "        vertical-align: middle;\n",
       "    }\n",
       "\n",
       "    .dataframe tbody tr th {\n",
       "        vertical-align: top;\n",
       "    }\n",
       "\n",
       "    .dataframe thead th {\n",
       "        text-align: right;\n",
       "    }\n",
       "</style>\n",
       "<table border=\"1\" class=\"dataframe\">\n",
       "  <thead>\n",
       "    <tr style=\"text-align: right;\">\n",
       "      <th></th>\n",
       "      <th>Serie 1</th>\n",
       "      <th>Serie 2</th>\n",
       "      <th>Serie 3</th>\n",
       "      <th>soma</th>\n",
       "      <th>sub</th>\n",
       "    </tr>\n",
       "  </thead>\n",
       "  <tbody>\n",
       "    <tr>\n",
       "      <th>0</th>\n",
       "      <td>10</td>\n",
       "      <td>1</td>\n",
       "      <td>A</td>\n",
       "      <td>11</td>\n",
       "      <td>9</td>\n",
       "    </tr>\n",
       "    <tr>\n",
       "      <th>1</th>\n",
       "      <td>20</td>\n",
       "      <td>2</td>\n",
       "      <td>B</td>\n",
       "      <td>22</td>\n",
       "      <td>18</td>\n",
       "    </tr>\n",
       "    <tr>\n",
       "      <th>2</th>\n",
       "      <td>30</td>\n",
       "      <td>3</td>\n",
       "      <td>C</td>\n",
       "      <td>33</td>\n",
       "      <td>27</td>\n",
       "    </tr>\n",
       "    <tr>\n",
       "      <th>3</th>\n",
       "      <td>40</td>\n",
       "      <td>4</td>\n",
       "      <td>B</td>\n",
       "      <td>44</td>\n",
       "      <td>36</td>\n",
       "    </tr>\n",
       "    <tr>\n",
       "      <th>4</th>\n",
       "      <td>50</td>\n",
       "      <td>5</td>\n",
       "      <td>A</td>\n",
       "      <td>55</td>\n",
       "      <td>45</td>\n",
       "    </tr>\n",
       "  </tbody>\n",
       "</table>\n",
       "</div>"
      ],
      "text/plain": [
       "   Serie 1  Serie 2 Serie 3  soma  sub\n",
       "0       10        1       A    11    9\n",
       "1       20        2       B    22   18\n",
       "2       30        3       C    33   27\n",
       "3       40        4       B    44   36\n",
       "4       50        5       A    55   45"
      ]
     },
     "execution_count": 9,
     "metadata": {},
     "output_type": "execute_result"
    }
   ],
   "source": [
    "s1 = pd.Series([10,20,30,40,50], name = \"Series 1\")\n",
    "s2 = pd.Series([1,2,3,4,5], name = \"Series 2\")\n",
    "s3 = pd.Series(['A', 'B', 'C', 'B', 'A'], name = \"Series 3\")\n",
    "\n",
    "df = pd.DataFrame({'Serie 1': s1, 'Serie 2': s2, 'Serie 3': s3})\n",
    "\n",
    "df['soma'] = df['Serie 1'] + df[\"Serie 2\" ]\n",
    "df['sub'] = df['Serie 1'] - df[\"Serie 2\" ]\n",
    "df"
   ]
  },
  {
   "cell_type": "code",
   "execution_count": 10,
   "metadata": {},
   "outputs": [
    {
     "data": {
      "text/plain": [
       "Serie 3\n",
       "A    31.112698\n",
       "B    15.556349\n",
       "C          NaN\n",
       "Name: soma, dtype: float64"
      ]
     },
     "execution_count": 10,
     "metadata": {},
     "output_type": "execute_result"
    }
   ],
   "source": [
    "df.groupby(\"Serie 3\")['soma'].max()\n",
    "df.groupby(\"Serie 3\")['soma'].min()\n",
    "df.groupby(\"Serie 3\")['soma'].mean()\n",
    "df.groupby(\"Serie 3\")['soma'].median()\n",
    "df.groupby(\"Serie 3\")['soma'].std()"
   ]
  },
  {
   "cell_type": "code",
   "execution_count": 7,
   "metadata": {},
   "outputs": [
    {
     "data": {
      "text/plain": [
       "3"
      ]
     },
     "execution_count": 7,
     "metadata": {},
     "output_type": "execute_result"
    }
   ],
   "source": [
    "num = pd.Series(range(1,11) , name = \"Numero\")\n",
    "df = pd.DataFrame({'numero': num})\n",
    "num\n",
    "num[2]"
   ]
  },
  {
   "cell_type": "code",
   "execution_count": 11,
   "metadata": {},
   "outputs": [
    {
     "name": "stdout",
     "output_type": "stream",
     "text": [
      "0     7\n",
      "1     9\n",
      "2    11\n",
      "3    13\n",
      "4    15\n",
      "dtype: int64\n"
     ]
    }
   ],
   "source": [
    "num1 = pd.Series(range(1,6) , name = \"Numero1\")\n",
    "num2 = pd.Series(range(6,11) , name = \"Numero2\")\n",
    "df = pd.DataFrame({'numero': num})\n",
    "s_soma = num1 + num2\n",
    "print(s_soma)"
   ]
  },
  {
   "cell_type": "code",
   "execution_count": 13,
   "metadata": {},
   "outputs": [
    {
     "name": "stdout",
     "output_type": "stream",
     "text": [
      "5     6\n",
      "6     7\n",
      "7     8\n",
      "8     9\n",
      "9    10\n",
      "dtype: int64\n"
     ]
    }
   ],
   "source": [
    "num = pd.Series(range(1,11))\n",
    "s_filtrado = num[num>5]\n",
    "print(s_filtrado)"
   ]
  },
  {
   "cell_type": "code",
   "execution_count": 15,
   "metadata": {},
   "outputs": [
    {
     "data": {
      "text/plain": [
       "3.0276503540974917"
      ]
     },
     "execution_count": 15,
     "metadata": {},
     "output_type": "execute_result"
    }
   ],
   "source": [
    "s = pd.Series(range(1,11))\n",
    "s.mean()\n",
    "s.std()"
   ]
  },
  {
   "cell_type": "code",
   "execution_count": 14,
   "metadata": {},
   "outputs": [
    {
     "data": {
      "text/plain": [
       "0   -9.0\n",
       "1   -7.0\n",
       "2   -5.0\n",
       "3   -3.0\n",
       "4   -1.0\n",
       "5    1.0\n",
       "6    3.0\n",
       "7    5.0\n",
       "8    7.0\n",
       "9    NaN\n",
       "dtype: float64"
      ]
     },
     "execution_count": 14,
     "metadata": {},
     "output_type": "execute_result"
    }
   ],
   "source": [
    "s1 = pd.Series(range(1,11))\n",
    "s2 = pd.Series(range(10,1, -1))\n",
    "s_sub = s1 - s2\n",
    "s_sub"
   ]
  },
  {
   "cell_type": "code",
   "execution_count": 16,
   "metadata": {},
   "outputs": [
    {
     "data": {
      "text/plain": [
       "9    10\n",
       "8     9\n",
       "7     8\n",
       "6     7\n",
       "5     6\n",
       "4     5\n",
       "3     4\n",
       "2     3\n",
       "1     2\n",
       "0     1\n",
       "dtype: int64"
      ]
     },
     "execution_count": 16,
     "metadata": {},
     "output_type": "execute_result"
    }
   ],
   "source": [
    "s1 = pd.Series(range(1,11))\n",
    "\n",
    "s1.sort_values(ascending = False)"
   ]
  },
  {
   "cell_type": "code",
   "execution_count": 18,
   "metadata": {},
   "outputs": [
    {
     "data": {
      "text/plain": [
       "True"
      ]
     },
     "execution_count": 18,
     "metadata": {},
     "output_type": "execute_result"
    }
   ],
   "source": [
    "s1 = pd.Series([10,20,20,30,40,50,50])\n",
    "\n",
    "s1.duplicated().any()"
   ]
  },
  {
   "cell_type": "code",
   "execution_count": 19,
   "metadata": {},
   "outputs": [
    {
     "data": {
      "text/plain": [
       "3    4\n",
       "4    5\n",
       "5    6\n",
       "6    7\n",
       "7    8\n",
       "dtype: int64"
      ]
     },
     "execution_count": 19,
     "metadata": {},
     "output_type": "execute_result"
    }
   ],
   "source": [
    "s1 = pd.Series(range(1,11))\n",
    "\n",
    "s1[3:8]"
   ]
  }
 ],
 "metadata": {
  "kernelspec": {
   "display_name": "Python 3",
   "language": "python",
   "name": "python3"
  },
  "language_info": {
   "codemirror_mode": {
    "name": "ipython",
    "version": 3
   },
   "file_extension": ".py",
   "mimetype": "text/x-python",
   "name": "python",
   "nbconvert_exporter": "python",
   "pygments_lexer": "ipython3",
   "version": "3.12.3"
  }
 },
 "nbformat": 4,
 "nbformat_minor": 2
}
