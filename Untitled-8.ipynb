{
 "cells": [
  {
   "cell_type": "code",
   "execution_count": 3,
   "metadata": {},
   "outputs": [
    {
     "name": "stdout",
     "output_type": "stream",
     "text": [
      "[0.0016666666666666668, 0.0033333333333333335, 0.005, 0.006666666666666667, 0.008333333333333333, 0.01]\n"
     ]
    }
   ],
   "source": [
    "lista_forca = [500, 1000, 1500, 2000, 2500, 3000]\n",
    "c = 300000\n",
    "lista_massas = []\n",
    "for i in lista_forca:\n",
    "    massa = i / c\n",
    "    lista_massas.append(massa)\n",
    "print(lista_massas)"
   ]
  },
  {
   "cell_type": "code",
   "execution_count": 6,
   "metadata": {},
   "outputs": [
    {
     "name": "stdout",
     "output_type": "stream",
     "text": [
      "['1', '2', '3', '4']\n",
      "['1', '2', '3', '4']\n"
     ]
    }
   ],
   "source": [
    "nomes = []\n",
    "cpfs = []\n",
    "i = 0\n",
    "while i < 4:\n",
    "    nome_usu = input(\"Qual seu nome?\")\n",
    "    cpf_usu = input(\"Qual seu cpf?\")\n",
    "    nomes.append(nome_usu)\n",
    "    cpfs.append(cpf_usu)\n",
    "    i +=1\n",
    "    \n",
    "print(nomes)\n",
    "print(cpfs)"
   ]
  },
  {
   "cell_type": "code",
   "execution_count": 14,
   "metadata": {},
   "outputs": [
    {
     "name": "stdout",
     "output_type": "stream",
     "text": [
      "[1620.0]\n",
      "[2000.0, 2560.0]\n",
      "[2940.0, 3500.0]\n"
     ]
    }
   ],
   "source": [
    "salarios = [1800, 2500, 3200, 4200, 5000]\n",
    "salario_10 = []\n",
    "salario_20 = []\n",
    "salario_30 = []\n",
    "for i in salarios:\n",
    "    if i <= 2000:\n",
    "        i_1 = i - (i * 0.1)\n",
    "        salario_10.append(i_1)\n",
    "        \n",
    "    elif i <= 4000:\n",
    "        i_2 = i - (i * 0.2)\n",
    "        salario_20.append(i_2)\n",
    "        \n",
    "    else:\n",
    "        i_3 = i - (i * 0.3)\n",
    "        salario_30.append(i_3)\n",
    "        \n",
    "print(salario_10)\n",
    "print(salario_20)\n",
    "print(salario_30)\n",
    "\n"
   ]
  },
  {
   "cell_type": "code",
   "execution_count": 20,
   "metadata": {},
   "outputs": [
    {
     "name": "stdout",
     "output_type": "stream",
     "text": [
      "20.0\n",
      "6.0\n"
     ]
    }
   ],
   "source": [
    "usu1 = []\n",
    "usu2 = []\n",
    "lista_usus= [usu1, usu2]\n",
    "for usus in lista_usus:\n",
    "    for i in range (1, 6):\n",
    "        valor = int(input(f\"{usus}Digite o valor:\"))\n",
    "        usus.append(valor)\n",
    "\n",
    "\n",
    "divisor = len(usu1)\n",
    "\n",
    "soma1= 0\n",
    "soma2= 0\n",
    "for n in usu1:\n",
    "    soma1 += n\n",
    "print(soma1 / divisor)\n",
    "for k in usu2:\n",
    "    soma2 += k\n",
    "print(soma2 / divisor)\n"
   ]
  },
  {
   "cell_type": "code",
   "execution_count": 26,
   "metadata": {},
   "outputs": [
    {
     "name": "stdout",
     "output_type": "stream",
     "text": [
      "notebooks: 1\n",
      "ssds: 2\n",
      "teclados: 0\n",
      "mouses: 1\n",
      "monitores: 1\n"
     ]
    }
   ],
   "source": [
    "notebooks = []\n",
    "ssd = []\n",
    "mouse = []\n",
    "teclado = []\n",
    "monitor = []\n",
    "lista_produtos = ['notebook', 'ssd', 'mouse', 'teclado', 'monitor']\n",
    "lista_usuario = []\n",
    "i = 0\n",
    "while i <5:\n",
    "    produto = input(f\"{lista_produtos}\\nDigite um produto\")\n",
    "    lista_usuario.append(produto)\n",
    "    i += 1\n",
    "for j in lista_usuario:\n",
    "    if j == \"notebook\":\n",
    "       notebooks.append(j)\n",
    "    if j == \"ssd\":\n",
    "       ssd.append(j)\n",
    "    if j == 'mouse':\n",
    "       mouse.append(j)\n",
    "    if j == \"monitor\":\n",
    "       monitor.append(j)\n",
    "    if j == \"teclado\":\n",
    "       teclado.append(j)   \n",
    "\n",
    "print(f\"notebooks: {len(notebooks)}\")\n",
    "print(f\"ssds: {len(ssd)}\")\n",
    "print(f\"teclados: {len(teclado)}\")\n",
    "print(f\"mouses: {len(mouse)}\")\n",
    "print(f\"monitores: {len(monitor)}\")"
   ]
  }
 ],
 "metadata": {
  "kernelspec": {
   "display_name": "Python 3",
   "language": "python",
   "name": "python3"
  },
  "language_info": {
   "codemirror_mode": {
    "name": "ipython",
    "version": 3
   },
   "file_extension": ".py",
   "mimetype": "text/x-python",
   "name": "python",
   "nbconvert_exporter": "python",
   "pygments_lexer": "ipython3",
   "version": "3.11.4"
  },
  "orig_nbformat": 4
 },
 "nbformat": 4,
 "nbformat_minor": 2
}
