{
 "cells": [
  {
   "cell_type": "code",
   "execution_count": null,
   "metadata": {},
   "outputs": [],
   "source": [
    "var_1 = int(input(\"Digite um numero \"))\n",
    "var_2 = float(input(\"Digite um numero \"))\n",
    "var_3 = str(input(\"Digite uma palavra \"))"
   ]
  },
  {
   "cell_type": "code",
   "execution_count": null,
   "metadata": {},
   "outputs": [],
   "source": [
    "#estrutura de condição\n",
    "var_1 = int(input(\"Digite um numero \"))\n",
    "var_3 = str(input(\"Digite uma palavra \"))\n",
    "\n",
    "if (var_1 > 200) and (var_3 == \"fiap\"):\n",
    "    print(\"Verdadeiro\")\n",
    "elif (var_1 > 200) and (var_1< 300) and (var_3 == \"fiap\"):\n",
    "    print(\"Verdadeiro\")\n",
    "else:\n",
    "    print(\"falso\")\n"
   ]
  },
  {
   "cell_type": "code",
   "execution_count": 1,
   "metadata": {},
   "outputs": [
    {
     "name": "stdout",
     "output_type": "stream",
     "text": [
      "0\n",
      "1\n",
      "2\n",
      "3\n",
      "4\n"
     ]
    }
   ],
   "source": [
    "#estrutura de repetição\n",
    "\n",
    "i= 0\n",
    "while i < 5:\n",
    "    print(i)\n",
    "    i += 1"
   ]
  },
  {
   "cell_type": "code",
   "execution_count": 12,
   "metadata": {},
   "outputs": [
    {
     "data": {
      "text/plain": [
       "tuple"
      ]
     },
     "execution_count": 12,
     "metadata": {},
     "output_type": "execute_result"
    }
   ],
   "source": [
    "#função def\n",
    "\n",
    "def multiplicacao(a, b):\n",
    "    multi = a * b \n",
    "    sub = a - b \n",
    "    div = a / b \n",
    "    soma = a + b \n",
    "    return  multi, div,sub, soma\n",
    "type(multiplicacao(52, 2))\n",
    "\n",
    "# multi, div, sub, soma = multiplicacao(52, 2)\n",
    "# print(multi)\n",
    "# print(div)\n",
    "# print(sub)\n",
    "# print(soma)"
   ]
  },
  {
   "cell_type": "code",
   "execution_count": 47,
   "metadata": {},
   "outputs": [
    {
     "data": {
      "text/plain": [
       "950.0"
      ]
     },
     "execution_count": 47,
     "metadata": {},
     "output_type": "execute_result"
    }
   ],
   "source": [
    "empresa_a= [1400, 2500, 3000, 3500, 7000]\n",
    "empresa_b = [1200, 1900, 2600, 3500, 9000]\n",
    "empresa_c = [1000, 2000, 1000, 1000, 1000]\n",
    "\n",
    "def desconto_funcionarios(salarios):\n",
    "    lista_nova_sal  = []\n",
    "    # x = z = y = entrequatro = k = 0\n",
    "    for salario in salarios:\n",
    "        if salario <= 1500:\n",
    "            lista_nova_sal.append(salario - (salario*0.05))\n",
    "            x = salario - (salario*0.05)\n",
    "        elif salario > 1500 and salario <= 2000:\n",
    "            lista_nova_sal.append(salario - (salario*0.10))\n",
    "            y = salario - (salario*0.10)\n",
    "        elif salario > 2000 and salario <= 3000:\n",
    "            lista_nova_sal.append(salario - (salario*0.15))\n",
    "            z = salario - (salario*0.15)\n",
    "        elif salario > 3000 and salario <= 4000:\n",
    "            lista_nova_sal.append(salario - (salario*0.20))\n",
    "            entrequatro = salario - (salario*0.20)\n",
    "        else:\n",
    "            lista_nova_sal.append(salario - (salario*0.25))\n",
    "            k = salario - (salario*0.25)\n",
    "    \n",
    "  \n",
    "    return x, y, z, entrequatro, k\n",
    "\n",
    "desconto_funcionarios(empresa_c)\n",
    "\n"
   ]
  }
 ],
 "metadata": {
  "kernelspec": {
   "display_name": "Python 3",
   "language": "python",
   "name": "python3"
  },
  "language_info": {
   "codemirror_mode": {
    "name": "ipython",
    "version": 3
   },
   "file_extension": ".py",
   "mimetype": "text/x-python",
   "name": "python",
   "nbconvert_exporter": "python",
   "pygments_lexer": "ipython3",
   "version": "3.11.4"
  },
  "orig_nbformat": 4
 },
 "nbformat": 4,
 "nbformat_minor": 2
}
