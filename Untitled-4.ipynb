{
 "cells": [
  {
   "attachments": {},
   "cell_type": "markdown",
   "metadata": {},
   "source": [
    "1 crie um programa para calcular a media ponderada de cinco notas.\n",
    "Pense como pode ser calculado a media ponderada, lembrando qie existem pesos que podem influenciar mais ou menos\n",
    "\n",
    "2 crie um programa para solicitar ao usuario um email, senha e um codigo de segurança para acessar a sua uma determinada conta."
   ]
  },
  {
   "attachments": {},
   "cell_type": "markdown",
   "metadata": {},
   "source": [
    "# 1"
   ]
  },
  {
   "cell_type": "code",
   "execution_count": 4,
   "metadata": {},
   "outputs": [
    {
     "name": "stdout",
     "output_type": "stream",
     "text": [
      "5\n",
      "5.0\n",
      "1.0\n"
     ]
    }
   ],
   "source": [
    "peso1 = int(input(\"Digite o peso 1:\"))\n",
    "peso2 = int(input(\"Digite o peso 2:\"))\n",
    "peso3 = int(input(\"Digite o peso 3:\"))\n",
    "peso4 = int(input(\"Digite o peso 4:\"))\n",
    "peso5 = int(input(\"Digite o peso 5:\"))\n",
    "nota1 = float(input(\"Digite a nota 1:\"))\n",
    "nota2 = float(input(\"Digite a nota 2:\"))\n",
    "nota3 = float(input(\"Digite a nota 3:\"))\n",
    "nota4 = float(input(\"Digite a nota 4:\"))\n",
    "nota5 = float(input(\"Digite a nota 5:\"))\n",
    "valor_peso = peso1 + peso2 + peso3 + peso4 + peso5\n",
    "valor_nota = nota1*peso1 + nota2*peso2 + nota3*peso3 + nota4*peso4 + nota5*peso5\n",
    "media = (valor_nota) / valor_peso\n",
    "print(valor_peso)\n",
    "print(valor_nota)\n",
    "print(media)\n"
   ]
  },
  {
   "attachments": {},
   "cell_type": "markdown",
   "metadata": {},
   "source": [
    "# 2"
   ]
  },
  {
   "cell_type": "code",
   "execution_count": 6,
   "metadata": {},
   "outputs": [
    {
     "name": "stdout",
     "output_type": "stream",
     "text": [
      "Acessou\n"
     ]
    }
   ],
   "source": [
    "email = input(\"Digite seu email:\")\n",
    "senha = input(\"Digite sua senha:\")\n",
    "codigo_segurança = input(\"Digite o código de seguracça:\")\n",
    "email_certo = \"usuario@email.com\"\n",
    "senha_certa = \"123\"\n",
    "codigo_segurança_certo = \"segurança\"\n",
    "if email == email_certo and senha == senha_certa and codigo_segurança == codigo_segurança_certo:\n",
    "    print(\"Acessou\")\n",
    "else:\n",
    "    print(\"Acesso negado\")"
   ]
  },
  {
   "attachments": {},
   "cell_type": "markdown",
   "metadata": {},
   "source": [
    "# 3\n"
   ]
  },
  {
   "attachments": {},
   "cell_type": "markdown",
   "metadata": {},
   "source": [
    "crie um programa para calcular o imposto a ser pago no ano em função da faixa de salário do funcionario\n",
    "salario de contribuição:\n",
    "até 1412,00 -> 7,5%\n",
    "de 1412,01 até 2666,68 -> 9,0%\n",
    "de 2666,69 até 4000,03-> 12%\n",
    "de 4000,04 até 7,786,02 -> 14%\n",
    "acima de 7,786,02 -> 27,5%"
   ]
  },
  {
   "cell_type": "code",
   "execution_count": 19,
   "metadata": {},
   "outputs": [
    {
     "name": "stdout",
     "output_type": "stream",
     "text": [
      "valor descontado no ano: 4320.0\n"
     ]
    }
   ],
   "source": [
    "salario = float(input(\"qual seu salário?\"))\n",
    "\n",
    "if salario <= 1412.00:\n",
    "    print(\"valor descontado no ano:\" ,(salario * 0.075)*12)\n",
    "elif salario <= 2666.08:\n",
    "    print(\"valor descontado no ano:\",(salario * 0.09)*12)\n",
    "elif salario <= 4000.03:\n",
    "    print(\"valor descontado no ano:\",(salario * 0.12)*12)\n",
    "elif salario <= 7786.02:\n",
    "    print(\"valor descontado no ano:\",(salario * 0.14)*12)\n",
    "else:\n",
    "    print(\"valor descontado no ano:\",(salario * 0.275)*12 )\n",
    "    \n"
   ]
  },
  {
   "attachments": {},
   "cell_type": "markdown",
   "metadata": {},
   "source": [
    "# 4"
   ]
  },
  {
   "attachments": {},
   "cell_type": "markdown",
   "metadata": {},
   "source": []
  },
  {
   "cell_type": "code",
   "execution_count": 26,
   "metadata": {},
   "outputs": [
    {
     "name": "stdout",
     "output_type": "stream",
     "text": [
      "Você perdeu\n"
     ]
    }
   ],
   "source": [
    "palavra_certa = input(\"Palavra certa:\")\n",
    "palavra1 = input(\"Qual a palavra?\")\n",
    "if palavra1 == palavra_certa:\n",
    "    print(\"Parabéns! Você acertou a palavra:\")\n",
    "elif palavra1 != palavra_certa:\n",
    "    palavra2 = input(\"Qual a palavra?, Restam 2 tentativas\")\n",
    "    if palavra2 == palavra_certa:\n",
    "        print(\"Parabéns! Você acertou a palavra:\")\n",
    "    elif palavra2 != palavra_certa:\n",
    "        palavra3 = input(\"Qual a palavra?, Resta 1 tentativa\")\n",
    "        if palavra3 == palavra_certa:\n",
    "            print (\"Parabéns! Você acertou a palavra:\")\n",
    "        else:\n",
    "            print(\"Você perdeu\")\n"
   ]
  },
  {
   "cell_type": "code",
   "execution_count": 32,
   "metadata": {},
   "outputs": [
    {
     "name": "stdout",
     "output_type": "stream",
     "text": [
      "1.0 4.0 9.0 16.0\n"
     ]
    }
   ],
   "source": [
    "prod1 = float(input(\"Quantidade do produto 1:\"))\n",
    "preco1 = float(input(\"Valor do produto 1: \"))\n",
    "prod2 = float(input(\"Quantidade do produto 2:\"))\n",
    "preco2 = float(input(\"Valor do produto 2: \"))\n",
    "prod3 = float(input(\"Quantidade do produto 3:\"))\n",
    "preco3 = float(input(\"Valor do produto 3: \"))\n",
    "prod4 = float(input(\"Quantidade do produto 4:\"))\n",
    "preco4 = float(input(\"Valor do produto 4: \"))\n",
    "pq1 = prod1* preco1\n",
    "pq2= prod2* preco2\n",
    "pq3= prod3* preco3\n",
    "pq4= prod4* preco4\n",
    "if pq1< pq2 < pq3< pq4:\n",
    "    print(pq1,pq2,pq3,pq4)\n",
    "elif pq2 < pq3 < pq4 < pq1:\n",
    "    print(pq2,pq3,pq4,pq1)\n",
    "elif pq3<pq4<pq1<pq2:\n",
    "    print(pq3,pq4,pq1,pq2)\n",
    "elif pq4< pq1< pq2< pq3:\n",
    "    print(pq4,pq1,pq2,pq3)"
   ]
  },
  {
   "cell_type": "code",
   "execution_count": 35,
   "metadata": {},
   "outputs": [
    {
     "name": "stdout",
     "output_type": "stream",
     "text": [
      "Acesso Permitido\n"
     ]
    }
   ],
   "source": [
    "email = input(\"Digite seu email:\")\n",
    "senha = input(\"Digite sua senha:\")\n",
    "palavra_chave = input(\"Digite a palavra chave:\")\n",
    "email_certo = \"usuario@email.com\"\n",
    "senha_certa = \"123\"\n",
    "palavra_chave_certa = \"segurança\"\n",
    "if email == email_certo and senha == senha_certa and palavra_chave == palavra_chave_certa:\n",
    "    print(\"Acesso Permitido\")\n",
    "else:\n",
    "    print(\"Acesso negado\")\n",
    "    email = input(\"Digite seu email:\")\n",
    "    senha = input(\"Digite sua senha:\")\n",
    "    palavra_chave = input(\"Digite a palavra chave:\")\n",
    "    if email == email_certo and senha == senha_certa and palavra_chave == palavra_chave_certa:\n",
    "        print(\"Acesso Permitido\")\n",
    "    else:\n",
    "        print(\"Bloqueado\")\n"
   ]
  },
  {
   "cell_type": "code",
   "execution_count": 38,
   "metadata": {},
   "outputs": [
    {
     "name": "stdout",
     "output_type": "stream",
     "text": [
      "Bem vindo, não é necessário o passaporte para a entrada no país.\n"
     ]
    }
   ],
   "source": [
    "nome = input(\"nome:\")\n",
    "nacionalidade = input(\"Nacionalidade:\").lower()\n",
    "nm_pass = int(input(\"Qual o numero do passaporte:\"))\n",
    "if nacionalidade == \"brasileiro\":\n",
    "    print(\"Bem vindo, não é necessário o passaporte para a entrada no país.\")\n",
    "else:\n",
    "    print(\"Voc~e precisa verificar o requisitos de visto para entrar no país.\")"
   ]
  },
  {
   "cell_type": "code",
   "execution_count": 44,
   "metadata": {},
   "outputs": [
    {
     "name": "stdout",
     "output_type": "stream",
     "text": [
      "Real, 2.0\n",
      "Dolar, 1.0\n",
      "Libra, 96.0\n"
     ]
    }
   ],
   "source": [
    "moeda = input(\"Real, Dolar, Euro, Libra\")\n",
    "quantidade = float(input(\"Quantidade:\"))\n",
    "\n",
    "if moeda == \"Real\":\n",
    "    print(\"Dolar,\",quantidade *2)\n",
    "    print(\"Euro,\",quantidade* 4)\n",
    "    print(\"Libra,\",quantidade*6)\n",
    "elif moeda == \"Dolar\":\n",
    "    print(\"Real,\",quantidade /2)\n",
    "    print(\"Euro,\",quantidade* 8)\n",
    "    print(\"Libra,\",quantidade*10)\n",
    "elif moeda == \"Euro\":\n",
    "    print(\"Real,\",quantidade /4)\n",
    "    print(\"Dolar,\",quantidade/ 8)\n",
    "    print(\"Libra,\",quantidade*12)\n",
    "elif moeda == \"Libra\":\n",
    "    print(\"Real,\",quantidade /6)\n",
    "    print(\"Dolar,\",quantidade/10)\n",
    "    print(\"Euro,\",quantidade/12)\n",
    "else:\n",
    "    print(\"Moeda inexistente\")"
   ]
  },
  {
   "cell_type": "code",
   "execution_count": 54,
   "metadata": {},
   "outputs": [
    {
     "name": "stdout",
     "output_type": "stream",
     "text": [
      "Valor1:\n",
      "93.33333333333333\n",
      "Valor2:\n",
      "186.66666666666666\n",
      "Valor3:\n",
      "186.66666666666666\n",
      "Valor4:\n",
      "186.66666666666666\n"
     ]
    }
   ],
   "source": [
    "peso1 = int(input(\"Digite o peso 1:\"))\n",
    "peso2 = int(input(\"Digite o peso 2:\"))\n",
    "peso3 = int(input(\"Digite o peso 3:\"))\n",
    "peso4 = int(input(\"Digite o peso 4:\"))\n",
    "nota1 = float(input(\"Digite a nota 1:\"))\n",
    "nota2 = float(input(\"Digite a nota 2:\"))\n",
    "nota3 = float(input(\"Digite a nota 3:\"))\n",
    "nota4 = float(input(\"Digite a nota 4:\"))\n",
    "valor_peso = peso1 + peso2 + peso3 + peso4\n",
    "valor_nota = nota1*peso1 + nota2*peso2 + nota3*peso3 + nota4*peso4 + nota5*peso5\n",
    "media = (valor_nota) / valor_peso\n",
    "print(\"Valor1:\")\n",
    "print(((nota1*peso1)/media)*100)\n",
    "print(\"Valor2:\")\n",
    "print(((nota2*peso2)/media)*100)\n",
    "print(\"Valor3:\")\n",
    "print(((nota3*peso3)/media)*100)\n",
    "print(\"Valor4:\")\n",
    "print(((nota4*peso4)/media)*100)\n"
   ]
  }
 ],
 "metadata": {
  "kernelspec": {
   "display_name": "Python 3",
   "language": "python",
   "name": "python3"
  },
  "language_info": {
   "codemirror_mode": {
    "name": "ipython",
    "version": 3
   },
   "file_extension": ".py",
   "mimetype": "text/x-python",
   "name": "python",
   "nbconvert_exporter": "python",
   "pygments_lexer": "ipython3",
   "version": "3.11.4"
  },
  "orig_nbformat": 4
 },
 "nbformat": 4,
 "nbformat_minor": 2
}
