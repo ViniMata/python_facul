{
 "cells": [
  {
   "cell_type": "code",
   "execution_count": 2,
   "metadata": {},
   "outputs": [
    {
     "name": "stdout",
     "output_type": "stream",
     "text": [
      "0\n",
      "10\n",
      "20\n",
      "30\n",
      "40\n",
      "50\n",
      "60\n",
      "70\n",
      "80\n",
      "90\n",
      "100\n"
     ]
    }
   ],
   "source": [
    "i = 0\n",
    "while i < 101:\n",
    "    print(i)\n",
    "    i+=10"
   ]
  },
  {
   "cell_type": "code",
   "execution_count": 4,
   "metadata": {},
   "outputs": [
    {
     "name": "stdout",
     "output_type": "stream",
     "text": [
      "10\n",
      "20\n",
      "30\n"
     ]
    }
   ],
   "source": [
    "lista = [10, 20, 30]\n",
    "tupla = (10, 20, 30)\n",
    "for i in tupla:\n",
    "    print(i)"
   ]
  },
  {
   "cell_type": "code",
   "execution_count": 154,
   "metadata": {},
   "outputs": [
    {
     "name": "stdout",
     "output_type": "stream",
     "text": [
      "0.0\n",
      "0.00017786026000976562\n"
     ]
    }
   ],
   "source": [
    "import time\n",
    "inicio = time.time()\n",
    "for k in range(1,10):    \n",
    "    for i in tupla:\n",
    "        i+= 10\n",
    "fim = time.time()\n",
    "print(fim - inicio) \n",
    "inicio = time.time()\n",
    "for k in range(1,10):    \n",
    "    for i in lista:\n",
    "        i+=10\n",
    "fim = time.time()\n",
    "print(fim - inicio) "
   ]
  },
  {
   "cell_type": "code",
   "execution_count": 155,
   "metadata": {},
   "outputs": [
    {
     "name": "stdout",
     "output_type": "stream",
     "text": [
      "6\n",
      "(7, 8)\n"
     ]
    }
   ],
   "source": [
    "tupla_tupla = (4, 5, 6), (7, 8)\n",
    "print(tupla_tupla[0][2])\n",
    "print(tupla_tupla[1])"
   ]
  },
  {
   "cell_type": "code",
   "execution_count": 156,
   "metadata": {},
   "outputs": [
    {
     "name": "stdout",
     "output_type": "stream",
     "text": [
      "(4, 5, 6)\n",
      "(7, 8)\n"
     ]
    }
   ],
   "source": [
    "for m in tupla_tupla:\n",
    "    print(m)"
   ]
  },
  {
   "cell_type": "code",
   "execution_count": 160,
   "metadata": {},
   "outputs": [
    {
     "name": "stdout",
     "output_type": "stream",
     "text": [
      "('s', 't', 'r', 'i', 'n', 'g')\n"
     ]
    }
   ],
   "source": [
    "tupla = tuple('string')\n",
    "print(tupla)"
   ]
  },
  {
   "cell_type": "code",
   "execution_count": 171,
   "metadata": {},
   "outputs": [
    {
     "name": "stdout",
     "output_type": "stream",
     "text": [
      "('foo', [1, 2, 3], True)\n",
      "['foo', [1, 2, 3], True]\n",
      "('foo', 'foo fighters', [1, 2, 3], True)\n"
     ]
    }
   ],
   "source": [
    "tupla = tuple(['foo', [1,2,3], True])\n",
    "print(tupla)\n",
    "\n",
    "lista = list(tupla)\n",
    "print(lista)\n",
    "\n",
    "posicao_insercao = lista.index('foo') + 1\n",
    "lista.insert(posicao_insercao, 'foo fighters')\n",
    "\n",
    "tupla_nova = tuple(lista)\n",
    "print(tupla_nova)\n"
   ]
  },
  {
   "cell_type": "code",
   "execution_count": null,
   "metadata": {},
   "outputs": [],
   "source": [
    "tupla = (100, 1000, 10000)\n",
    "a,b,c = tupla\n",
    "print(a)\n",
    "print(b)\n",
    "print(c)"
   ]
  },
  {
   "cell_type": "code",
   "execution_count": 173,
   "metadata": {},
   "outputs": [
    {
     "data": {
      "text/plain": [
       "(35.0, 70)"
      ]
     },
     "execution_count": 173,
     "metadata": {},
     "output_type": "execute_result"
    }
   ],
   "source": [
    "def nome_funcao(parametros):\n",
    "    a = (20 + 50) / 2\n",
    "    b = (20 + 50)\n",
    "    return a, b\n",
    "nome_funcao()"
   ]
  },
  {
   "cell_type": "markdown",
   "metadata": {},
   "source": [
    "# 1 crie uma tupla chamada frutas com o seguintes elementos: maçã, banana, laranja, uva"
   ]
  },
  {
   "cell_type": "code",
   "execution_count": 178,
   "metadata": {},
   "outputs": [
    {
     "name": "stdout",
     "output_type": "stream",
     "text": [
      "['maçã', 'banana', 'manga', 'uva']\n"
     ]
    }
   ],
   "source": [
    "frutas = (\"maçã\", \"banana\", \"laranja\", \"uva\")\n",
    "frutas_modificadas = list(frutas)\n",
    "frutas_modificadas[2] = 'manga'\n",
    "tuple(frutas_modificadas)\n",
    "print(frutas_modificadas)"
   ]
  },
  {
   "cell_type": "code",
   "execution_count": 188,
   "metadata": {},
   "outputs": [
    {
     "ename": "SyntaxError",
     "evalue": "invalid syntax (4292984600.py, line 62)",
     "output_type": "error",
     "traceback": [
      "\u001b[1;36m  Cell \u001b[1;32mIn[188], line 62\u001b[1;36m\u001b[0m\n\u001b[1;33m    (\"nome\": \"Alice\", \"idade\" : 23)\u001b[0m\n\u001b[1;37m           ^\u001b[0m\n\u001b[1;31mSyntaxError\u001b[0m\u001b[1;31m:\u001b[0m invalid syntax\n"
     ]
    }
   ],
   "source": [
    "# Crie uma tupla\n",
    "\n",
    "fruits = ('maçã', 'banana', 'laranja', 'uva')\n",
    "\n",
    "# Acesse o segundo elemto da lista \n",
    "\n",
    "print(fruits[1])\n",
    "\n",
    "# Substitua o terceiro elemneto da tupla de frutas por 'manga' e aramzene a tupla modificada em uma nova variável chama frutas_modificadas \n",
    "\n",
    "fruta_decodificada = list(fruits)\n",
    "fruta_decodificada[2] = 'manga'\n",
    "tuple(fruta_decodificada)\n",
    "\n",
    "print(fruta_decodificada)\n",
    "\n",
    "# Concatene a tupla frutas_modificadas com a tupla ('abacaxi', 'limão') armazene o resltado em uma nova tupla chamada frutas_concatenadas\n",
    "\n",
    "frutas_concatenadas = fruits + ('abacaxi', 'limão')\n",
    "\n",
    "print(frutas_concatenadas)\n",
    "\n",
    "# Verifique se o elemento 'uva' está a lista \n",
    "\n",
    "for i in fruits:\n",
    "    if i == 'uva':\n",
    "        print(\"Tem uva\")\n",
    "\n",
    "# Crie um algoritmo para calcular a média dos alunos abaixo. Utilize a repetição e tuplas \n",
    "\n",
    "lista_alunos = [('Laura', 85, 90, 88),\n",
    "                ('Paulo', 60, 75, 68),\n",
    "                ('Ana', 68, 80, 90),\n",
    "                ('Jose', 80, 90, 72)]\n",
    "\n",
    "for i in lista_alunos:\n",
    "    nome, nota1, nota2, nota3 = i\n",
    "    media = (nota1 + nota2 + nota3) / 3\n",
    "    print(f'A nota do(a) aluno(a) {nome} é de {int(media)}')\n",
    "\n",
    "# crie um programa para análise de despesas. Utiize estrutura de repetição e tuplas.\n",
    "\n",
    "lista_despesas = [('viagens', 5000, 15000, 25000, 9800),\n",
    "                  ('restaurante', 230, 100, 50, 415),\n",
    "                  ('transporte', 50, 15, 89, 115)]\n",
    "\n",
    "for k in lista_despesas:\n",
    "    tipo, viagem1, viagem2, viagem3, viagem4 = k\n",
    "    total_mes = viagem1 + viagem2 + viagem3 + viagem4\n",
    "    print(f'O gasto de {tipo} é {total_mes}')\n",
    "\n",
    "# crie um programa para catalogação de livros. Utilize  lynn para comer o cu do gustavo\n",
    "\n",
    "def cu(p1, p2, n):\n",
    "    print(f\"{p1} comeu cu do {p2} {n} vezes\")\n",
    "\n",
    "cu(\"lynn\", \"gustavo\", 10)\n",
    "\n",
    "import pandas as pd\n",
    "\n",
    "dados = [\n",
    "    (\"nome\": \"Alice\", \"idade\" : 23)\n",
    "    (\"nome\": \"Bob\", \"idade\" : 32)\n",
    "    (\"nome\": \"Lynn\", \"idade\" :12)\n",
    "    (\"nome\": \"Arieta\", \"idade\" : 19)]\n",
    "\n",
    "dados = pd.DataFrame\n",
    "\n",
    "print(dados)"
   ]
  }
 ],
 "metadata": {
  "kernelspec": {
   "display_name": "Python 3",
   "language": "python",
   "name": "python3"
  },
  "language_info": {
   "codemirror_mode": {
    "name": "ipython",
    "version": 3
   },
   "file_extension": ".py",
   "mimetype": "text/x-python",
   "name": "python",
   "nbconvert_exporter": "python",
   "pygments_lexer": "ipython3",
   "version": "3.12.3"
  }
 },
 "nbformat": 4,
 "nbformat_minor": 2
}
