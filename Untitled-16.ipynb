{
 "cells": [
  {
   "cell_type": "code",
   "execution_count": 11,
   "metadata": {},
   "outputs": [
    {
     "data": {
      "text/plain": [
       "[0.06874999999999998,\n",
       " 0.09696969696969694,\n",
       " 0.12352941176470586,\n",
       " 0.12352941176470586,\n",
       " 0.006666666666666643,\n",
       " -0.41904761904761906,\n",
       " -0.2416666666666667,\n",
       " -0.06428571428571431,\n",
       " 0.06874999999999998,\n",
       " 0.006666666666666643]"
      ]
     },
     "execution_count": 11,
     "metadata": {},
     "output_type": "execute_result"
    }
   ],
   "source": [
    "dias = [16,17,18,19,20,21,22,23,24,25]\n",
    "temperaturas = [32, 33, 34, 34, 30, 21, 24, 28, 32, 30]\n",
    "temp_abaixo = []\n",
    "temp_acima = []\n",
    "def atribuidor_temp():\n",
    "    soma = sum(temperaturas)\n",
    "    media = soma / len(temperaturas)\n",
    "    for i in temperaturas:\n",
    "        if i > media:\n",
    "            temp_acima.append(i)\n",
    "        else:\n",
    "            temp_abaixo.append(i)\n",
    "    return temp_acima, temp_abaixo\n",
    "atribuidor_temp()\n",
    "\n",
    "lista_relacao = []\n",
    "def relacao_temp():\n",
    "    soma = sum(temperaturas)\n",
    "    media = soma / len(temperaturas)\n",
    "    for i in temperaturas:\n",
    "        resultado = (i - media) / i\n",
    "        lista_relacao.append(resultado)\n",
    "\n",
    "    return lista_relacao\n",
    "relacao_temp()"
   ]
  },
  {
   "cell_type": "code",
   "execution_count": 28,
   "metadata": {},
   "outputs": [
    {
     "name": "stdout",
     "output_type": "stream",
     "text": [
      "Em SE não choveu\n",
      "Em DF não choveu\n",
      "Em SP não choveu bastante.\n",
      "Em RJ choveu bastante.\n",
      "Em RN não choveu bastante.\n",
      "Em SE não choveu bastante.\n",
      "Em TO não choveu bastante.\n",
      "Em CE não choveu bastante.\n",
      "Em DF não choveu bastante.\n",
      "Em MA choveu bastante.\n",
      "Em PI não choveu bastante.\n",
      "Em SC não choveu bastante.\n"
     ]
    }
   ],
   "source": [
    "cidades = [\"SP\", \"RJ\", \"RN\", \"SE\", \"TO\", \"CE\", 'DF', 'MA', 'PI', 'SC']\n",
    "chuvas = [10, 45, 10, 0, 5, 32, 0, 105, 18, 34]\n",
    "conjunto_cidades = []\n",
    "def verificando_chuva():\n",
    "    for i in range(len(cidades)):\n",
    "         conjunto  = cidades[i], chuvas[i]\n",
    "         conjunto_cidades.append(conjunto)\n",
    "    \n",
    "    for i in conjunto_cidades:\n",
    "        if i[1] == 0:\n",
    "            print(f\"Em {i[0]} não choveu\")\n",
    "            \n",
    "    def verificando_chuva2():\n",
    "        for i in conjunto_cidades:\n",
    "            if i[1] > 40:\n",
    "                print(f'Em {i[0]} choveu bastante.')\n",
    "            else:\n",
    "                print(f'Em {i[0]} não choveu bastante.')\n",
    "    verificando_chuva2()\n",
    "    \n",
    "verificando_chuva()\n"
   ]
  },
  {
   "cell_type": "code",
   "execution_count": 31,
   "metadata": {},
   "outputs": [],
   "source": [
    "emails = [\n",
    "    \"joao@gmail.com\",\n",
    "    \"maria@yahoo.com\",\n",
    "    \"carlos@gmail.com\",\n",
    "    \"ana@hotmail.com\",\n",
    "    \"paulo@gmail.com\",\n",
    "    \"pedro@yahoo.com\",\n",
    "    \"claudia@hotmail.com\",\n",
    "    \"roberto@gmail.com\"\n",
    "]\n",
    "\n",
    "dominios = [\"gmail.com\", \"yahoo.com\", \"hotmail.com\"]\n",
    "\n",
    "\n"
   ]
  },
  {
   "cell_type": "code",
   "execution_count": 62,
   "metadata": {},
   "outputs": [
    {
     "name": "stdout",
     "output_type": "stream",
     "text": [
      "SP = -4.0\n",
      "RJ = -4.0\n",
      "BH = -4.0\n"
     ]
    },
    {
     "data": {
      "text/plain": [
       "(5.0, 1.0, 1.0, 1.0, None)"
      ]
     },
     "execution_count": 62,
     "metadata": {},
     "output_type": "execute_result"
    }
   ],
   "source": [
    "sp = []\n",
    "rj = []\n",
    "bh = []\n",
    "\n",
    "cidades = [sp,rj,bh]\n",
    "for i in cidades:\n",
    "    for j in range(0,5):\n",
    "        temp = int(input(\"Digite uma temperatura:\"))\n",
    "        i.append(temp)\n",
    "    \n",
    "def temp_media_cidades():\n",
    "    sp1 = sum(sp)\n",
    "    rj1 = sum(rj)\n",
    "    bh1 = sum(bh)\n",
    "    media_cidades = (sp1 + rj1 + bh1) / 3\n",
    "    mediasp = sp1/5\n",
    "    mediarj = rj1/5\n",
    "    mediabh = bh1/5\n",
    "    a = (mediasp-media_cidades)/mediasp\n",
    "    b = ( mediarj-media_cidades)/ mediarj\n",
    "    c = (mediabh-media_cidades)/mediabh \n",
    "    texto = print(f'SP = {a}')\n",
    "    texto = print(f'RJ = {b}')\n",
    "    texto = print(f'BH = {c}')\n",
    "    return media_cidades, mediasp, mediarj, mediabh, texto\n",
    "\n",
    "temp_media_cidades()\n",
    "\n",
    "\n",
    "\n",
    "    "
   ]
  },
  {
   "cell_type": "code",
   "execution_count": 87,
   "metadata": {},
   "outputs": [
    {
     "name": "stdout",
     "output_type": "stream",
     "text": [
      "Um dos 3 maiores conjestionamentos é Pinheiros \n",
      "Um dos 3 maiores conjestionamentos é Vila Mariana \n",
      "Um dos 3 maiores conjestionamentos é Itaim Bibi \n",
      "50\n",
      "Centro tem -5 de diferença.\n",
      "Moema tem -12 de diferença.\n",
      "Pinheiros tem 3 de diferença.\n",
      "Vila Mariana tem -16 de diferença.\n",
      "Itaim Bibi tem 10 de diferença.\n",
      "[('Centro', 10, 15), ('Moema', 8, 20), ('Pinheiros', 15, 12), ('Vila Mariana', 12, 28), ('Itaim Bibi', 20, 10)]\n"
     ]
    }
   ],
   "source": [
    "bairros = ['Centro', \"Moema\", \"Pinheiros\", \"Vila Mariana\", \"Itaim Bibi\"]\n",
    "congestionamento_km = [10,8,15,12,20]\n",
    "velocidade_media = [15,20,12,28,10]\n",
    "bairro_con = []\n",
    "def mais_congestionados():\n",
    "    for i in range(len(bairros)):\n",
    "        bairros1 = bairros[i], congestionamento_km[i],velocidade_media[i]\n",
    "        bairro_con.append(bairros1)\n",
    "    for j in bairro_con:\n",
    "        if j[1] > 11:\n",
    "            print(f\"Um dos 3 maiores conjestionamentos é {j[0]} \")\n",
    "\n",
    "def velo_media_alta():\n",
    "    num = 0\n",
    "    for i in bairro_con:\n",
    "        if i[1] > 10:   \n",
    "            num += i[2]\n",
    "        else:\n",
    "            None\n",
    "    return print(num)\n",
    "        \n",
    "def diferenca_bairro():\n",
    "    for i in bairro_con:\n",
    "        n = i[1] - i[2]\n",
    "        print(f\"{i[0]} tem {n} de diferença.\")\n",
    "        \n",
    "mais_congestionados()\n",
    "velo_media_alta()\n",
    "diferenca_bairro()\n",
    "\n",
    "print(bairro_con)"
   ]
  }
 ],
 "metadata": {
  "kernelspec": {
   "display_name": "Python 3",
   "language": "python",
   "name": "python3"
  },
  "language_info": {
   "codemirror_mode": {
    "name": "ipython",
    "version": 3
   },
   "file_extension": ".py",
   "mimetype": "text/x-python",
   "name": "python",
   "nbconvert_exporter": "python",
   "pygments_lexer": "ipython3",
   "version": "3.11.7"
  }
 },
 "nbformat": 4,
 "nbformat_minor": 2
}
