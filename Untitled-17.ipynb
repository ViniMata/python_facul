{
 "cells": [
  {
   "cell_type": "code",
   "execution_count": 2,
   "metadata": {},
   "outputs": [
    {
     "name": "stdout",
     "output_type": "stream",
     "text": [
      "10.0\n"
     ]
    }
   ],
   "source": [
    "# Estrutura de entrada e saida\n",
    "\n",
    "nota = float(input(\"Insiira u numero\"))\n",
    "\n",
    "print(nota)"
   ]
  },
  {
   "cell_type": "code",
   "execution_count": 3,
   "metadata": {},
   "outputs": [
    {
     "name": "stdout",
     "output_type": "stream",
     "text": [
      "Aprovado\n"
     ]
    }
   ],
   "source": [
    "if nota> 7:\n",
    "    print(\"Aprovado\")\n",
    "else:\n",
    "    print(\"Reprovado\")\n",
    "    "
   ]
  },
  {
   "cell_type": "code",
   "execution_count": 7,
   "metadata": {},
   "outputs": [
    {
     "name": "stdout",
     "output_type": "stream",
     "text": [
      "[8.0]\n",
      "Aprovado\n",
      "[8.0, 5.0]\n",
      "Aprovado\n",
      "[8.0, 5.0, 10.0]\n",
      "Aprovado\n"
     ]
    }
   ],
   "source": [
    "lista_notas = []\n",
    "for k in range(3):\n",
    "    notas = float(input(\"Insira uma nota\"))\n",
    "    lista_notas.append(notas)\n",
    "    print(lista_notas)\n",
    "    if nota> 7:\n",
    "        print(\"Aprovado\")\n",
    "    else:\n",
    "        print(\"Reprovado\")\n"
   ]
  },
  {
   "cell_type": "code",
   "execution_count": null,
   "metadata": {},
   "outputs": [],
   "source": []
  },
  {
   "cell_type": "code",
   "execution_count": 9,
   "metadata": {},
   "outputs": [
    {
     "name": "stdout",
     "output_type": "stream",
     "text": [
      "['ferrari']\n",
      "['ferrari', 'meredez']\n",
      "['ferrari', 'meredez', 'volvo']\n",
      "['ferrari', 'meredez', 'volvo', 'nissan']\n",
      "['ferrari', 'meredez', 'volvo', 'nissan', 'toyota']\n"
     ]
    }
   ],
   "source": [
    "lista_carros = []\n",
    "\n",
    "for carro in range(5):\n",
    "    carros = input(\"Digite a marca de um carro: \")\n",
    "    lista_carros.append(carros)\n",
    "    print(lista_carros)\n",
    "    carro += 1"
   ]
  },
  {
   "cell_type": "code",
   "execution_count": 10,
   "metadata": {},
   "outputs": [
    {
     "name": "stdout",
     "output_type": "stream",
     "text": [
      "['volvo']\n",
      "['volvo', 'bmw']\n",
      "['volvo', 'bmw', 'ferrari']\n",
      "['volvo', 'bmw', 'ferrari', 'mercedz']\n",
      "['volvo', 'bmw', 'ferrari', 'mercedz', 'ram']\n"
     ]
    },
    {
     "data": {
      "text/plain": [
       "['volvo', 'bmw', 'ferrari', 'mercedz', 'ram']"
      ]
     },
     "execution_count": 10,
     "metadata": {},
     "output_type": "execute_result"
    }
   ],
   "source": [
    "# Estrutura com função def e lambda\n",
    "\n",
    "def list_cars():\n",
    "    lista_carros = []\n",
    "    for carro in range(5):\n",
    "        carros = input(\"Digite a marca de um carro: \")\n",
    "        lista_carros.append(carros)\n",
    "        print(lista_carros)\n",
    "        carro += 1\n",
    "    return lista_carros\n",
    "\n",
    "list_cars()"
   ]
  },
  {
   "cell_type": "code",
   "execution_count": 30,
   "metadata": {},
   "outputs": [
    {
     "ename": "NameError",
     "evalue": "name 'soma_numeros' is not defined",
     "output_type": "error",
     "traceback": [
      "\u001b[1;31m---------------------------------------------------------------------------\u001b[0m",
      "\u001b[1;31mNameError\u001b[0m                                 Traceback (most recent call last)",
      "Cell \u001b[1;32mIn[30], line 24\u001b[0m\n\u001b[0;32m     19\u001b[0m     media \u001b[38;5;241m=\u001b[39m soma_numeros\u001b[38;5;241m/\u001b[39m\u001b[38;5;28mlen\u001b[39m(numeros)\n\u001b[0;32m     20\u001b[0m     \u001b[38;5;28;01mreturn\u001b[39;00m media\n\u001b[1;32m---> 24\u001b[0m media_numeros()\n",
      "Cell \u001b[1;32mIn[30], line 19\u001b[0m, in \u001b[0;36mmedia_numeros\u001b[1;34m()\u001b[0m\n\u001b[0;32m     17\u001b[0m \u001b[38;5;28;01mdef\u001b[39;00m \u001b[38;5;21mmedia_numeros\u001b[39m():\n\u001b[0;32m     18\u001b[0m     somar_numeros()\n\u001b[1;32m---> 19\u001b[0m     media \u001b[38;5;241m=\u001b[39m soma_numeros\u001b[38;5;241m/\u001b[39m\u001b[38;5;28mlen\u001b[39m(numeros)\n\u001b[0;32m     20\u001b[0m     \u001b[38;5;28;01mreturn\u001b[39;00m media\n",
      "\u001b[1;31mNameError\u001b[0m: name 'soma_numeros' is not defined"
     ]
    }
   ],
   "source": [
    "#função dentro de função (função chamando função)\n",
    "\n",
    "#Exercicios\n",
    "\n",
    "#1. Crie uma estrutura com função a qual solicite 5 numeros para um usuario. apos isso crie uma nova função para calcular a soma dos valores inseridos na lista. Em seguida, crie uma funçaõ para returnar a édia dos valores da lista.\n",
    "\n",
    "def solicite_numeros(quantidade_valores):\n",
    "    numeros = []\n",
    "    for i in range(5):\n",
    "        numeros.append(int(input(\"Digite um numero: \")))\n",
    "    return numeros\n",
    "\n",
    "def somar_numeros(quantidade_valores):\n",
    "    solicite_numeros()\n",
    "    soma_numeros = sum(numeros)\n",
    "    return soma_numeros\n",
    "\n",
    "def media_numeros(quantidade_valores):\n",
    "    somar_numeros()\n",
    "    media = soma_numeros/len(numeros)\n",
    "    return media\n",
    "\n",
    "\n",
    "\n",
    "media_numeros()"
   ]
  },
  {
   "cell_type": "code",
   "execution_count": 31,
   "metadata": {},
   "outputs": [
    {
     "ename": "AttributeError",
     "evalue": "'list' object has no attribute 'appedn'",
     "output_type": "error",
     "traceback": [
      "\u001b[1;31m---------------------------------------------------------------------------\u001b[0m",
      "\u001b[1;31mAttributeError\u001b[0m                            Traceback (most recent call last)",
      "Cell \u001b[1;32mIn[31], line 14\u001b[0m\n\u001b[0;32m     12\u001b[0m     fahreinheit \u001b[38;5;241m=\u001b[39m \u001b[38;5;28mfloat\u001b[39m(entrada)\n\u001b[0;32m     13\u001b[0m     celcus \u001b[38;5;241m=\u001b[39m (fahreinheit \u001b[38;5;241m-\u001b[39m \u001b[38;5;241m32\u001b[39m)\u001b[38;5;241m*\u001b[39m \u001b[38;5;241m5\u001b[39m\u001b[38;5;241m/\u001b[39m\u001b[38;5;241m9\u001b[39m\n\u001b[1;32m---> 14\u001b[0m     celcius_lista\u001b[38;5;241m.\u001b[39mappedn(fahreinheit)\n\u001b[0;32m     16\u001b[0m \u001b[38;5;28;01mexcept\u001b[39;00m \u001b[38;5;167;01mValueError\u001b[39;00m:\n\u001b[0;32m     17\u001b[0m     \u001b[38;5;28mprint\u001b[39m(\u001b[38;5;124m\"\u001b[39m\u001b[38;5;124mValor inválido\u001b[39m\u001b[38;5;124m\"\u001b[39m)\n",
      "\u001b[1;31mAttributeError\u001b[0m: 'list' object has no attribute 'appedn'"
     ]
    }
   ],
   "source": [
    "# Estrutura de repetição com while true e try\n",
    "\n",
    "celcius_lista = []\n",
    "\n",
    "while True:\n",
    "    entrada = input(\"Digite a temperatur em fahrenheit\")\n",
    "\n",
    "    if entrada.lower() == \"sair\":\n",
    "        break\n",
    "\n",
    "    try:\n",
    "        fahreinheit = float(entrada)\n",
    "        celcus = (fahreinheit - 32)* 5/9\n",
    "        celcius_lista.appedn(fahreinheit)\n",
    "    \n",
    "    except ValueError:\n",
    "        print(\"Valor inválido\")\n",
    "\n",
    "print(celcius_lista)"
   ]
  },
  {
   "cell_type": "code",
   "execution_count": 32,
   "metadata": {},
   "outputs": [],
   "source": [
    "import pandas as pd"
   ]
  },
  {
   "cell_type": "code",
   "execution_count": null,
   "metadata": {},
   "outputs": [],
   "source": [
    "df = pd."
   ]
  },
  {
   "cell_type": "code",
   "execution_count": null,
   "metadata": {},
   "outputs": [],
   "source": [
    "def calcula_bonus(salario):\n",
    "    aumento = salario*0.1\n",
    "    return aumento\n",
    "\n",
    "bonus = []\n",
    "for indice, linha in df.interrows():\n",
    "    bonus.append(calcula_bonus(df[\"Salario\"]))"
   ]
  }
 ],
 "metadata": {
  "kernelspec": {
   "display_name": "Python 3",
   "language": "python",
   "name": "python3"
  },
  "language_info": {
   "codemirror_mode": {
    "name": "ipython",
    "version": 3
   },
   "file_extension": ".py",
   "mimetype": "text/x-python",
   "name": "python",
   "nbconvert_exporter": "python",
   "pygments_lexer": "ipython3",
   "version": "3.11.7"
  }
 },
 "nbformat": 4,
 "nbformat_minor": 2
}
