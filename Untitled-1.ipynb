{
 "cells": [
  {
   "cell_type": "code",
   "execution_count": 1,
   "metadata": {},
   "outputs": [
    {
     "name": "stdout",
     "output_type": "stream",
     "text": [
      "Requirement already satisfied: sympy in c:\\python311\\lib\\site-packages (1.12)\n",
      "Requirement already satisfied: mpmath>=0.19 in c:\\python311\\lib\\site-packages (from sympy) (1.3.0)\n",
      "Note: you may need to restart the kernel to use updated packages.\n"
     ]
    },
    {
     "name": "stderr",
     "output_type": "stream",
     "text": [
      "\n",
      "[notice] A new release of pip is available: 23.1.2 -> 24.0\n",
      "[notice] To update, run: python.exe -m pip install --upgrade pip\n"
     ]
    }
   ],
   "source": [
    "pip install sympy"
   ]
  },
  {
   "cell_type": "code",
   "execution_count": 2,
   "metadata": {},
   "outputs": [],
   "source": [
    "from sympy import *"
   ]
  },
  {
   "cell_type": "code",
   "execution_count": 3,
   "metadata": {},
   "outputs": [],
   "source": [
    "x = symbols(\"x\")"
   ]
  },
  {
   "cell_type": "code",
   "execution_count": 9,
   "metadata": {},
   "outputs": [
    {
     "data": {
      "text/latex": [
       "$\\displaystyle x^{2} + 10 x + 10$"
      ],
      "text/plain": [
       "x**2 + 10*x + 10"
      ]
     },
     "execution_count": 9,
     "metadata": {},
     "output_type": "execute_result"
    }
   ],
   "source": [
    "x**2 + 10*x + 10 \n"
   ]
  },
  {
   "cell_type": "code",
   "execution_count": 5,
   "metadata": {},
   "outputs": [
    {
     "data": {
      "text/latex": [
       "$\\displaystyle \\frac{d}{d x} x^{2}$"
      ],
      "text/plain": [
       "Derivative(x**2, x)"
      ]
     },
     "execution_count": 5,
     "metadata": {},
     "output_type": "execute_result"
    }
   ],
   "source": [
    "Derivative(x**2)"
   ]
  },
  {
   "cell_type": "code",
   "execution_count": 6,
   "metadata": {},
   "outputs": [
    {
     "data": {
      "text/latex": [
       "$\\displaystyle \\int x^{2}\\, dx$"
      ],
      "text/plain": [
       "Integral(x**2, x)"
      ]
     },
     "execution_count": 6,
     "metadata": {},
     "output_type": "execute_result"
    }
   ],
   "source": [
    "Integral(x**2)"
   ]
  },
  {
   "cell_type": "code",
   "execution_count": 10,
   "metadata": {},
   "outputs": [
    {
     "data": {
      "text/latex": [
       "$\\displaystyle 2 x$"
      ],
      "text/plain": [
       "2*x"
      ]
     },
     "execution_count": 10,
     "metadata": {},
     "output_type": "execute_result"
    }
   ],
   "source": [
    "Derivative(x**2).doit()\n"
   ]
  },
  {
   "cell_type": "code",
   "execution_count": 11,
   "metadata": {},
   "outputs": [],
   "source": [
    "from sympy.plotting import * "
   ]
  },
  {
   "cell_type": "code",
   "execution_count": 21,
   "metadata": {},
   "outputs": [
    {
     "name": "stdout",
     "output_type": "stream",
     "text": [
      "    100 |\\                                                     /\n",
      "        | .                                                   . \n",
      "        |                                                       \n",
      "        |  .                                                 .  \n",
      "        |   \\                                               /   \n",
      "        |    .                                             .    \n",
      "        |                                                       \n",
      "        |     .                                           .     \n",
      "        |      \\                                         /      \n",
      "        |       \\                                       /       \n",
      "     50 |--------\\-------------------------------------/--------\n",
      "        |         \\                                   /         \n",
      "        |          \\                                 /          \n",
      "        |           \\                               /           \n",
      "        |            \\                             /            \n",
      "        |             ..                         ..             \n",
      "        |               \\                       /               \n",
      "        |                ..                   ..                \n",
      "        |                  ..               ..                  \n",
      "        |                    ...         ...                    \n",
      "      0 |_______________________________________________________\n",
      "         -10                        0                          10\n"
     ]
    },
    {
     "data": {
      "text/plain": [
       "<sympy.plotting.plot.Plot at 0x29436a70710>"
      ]
     },
     "execution_count": 21,
     "metadata": {},
     "output_type": "execute_result"
    }
   ],
   "source": [
    "plot(x**2)"
   ]
  },
  {
   "cell_type": "code",
   "execution_count": 1,
   "metadata": {},
   "outputs": [
    {
     "name": "stdout",
     "output_type": "stream",
     "text": [
      "gello world  \n"
     ]
    }
   ],
   "source": [
    "print(\"gello world  \")"
   ]
  },
  {
   "cell_type": "code",
   "execution_count": 74,
   "metadata": {},
   "outputs": [
    {
     "data": {
      "text/plain": [
       "'o'"
      ]
     },
     "execution_count": 74,
     "metadata": {},
     "output_type": "execute_result"
    }
   ],
   "source": [
    "s = \"Comi um pão\"\n",
    "s[-1:]"
   ]
  },
  {
   "cell_type": "code",
   "execution_count": 19,
   "metadata": {},
   "outputs": [
    {
     "data": {
      "text/plain": [
       "'python'"
      ]
     },
     "execution_count": 19,
     "metadata": {},
     "output_type": "execute_result"
    }
   ],
   "source": [
    "s= \"pytho\"\n",
    "s + \"n\""
   ]
  },
  {
   "cell_type": "code",
   "execution_count": 21,
   "metadata": {},
   "outputs": [
    {
     "name": "stdout",
     "output_type": "stream",
     "text": [
      "meu nome é vinicius tenho 18 anos e moro na cidade de sao paulo\n"
     ]
    }
   ],
   "source": [
    "#crie uma estrutura na qual o usuario possa inserir nome,idade e cidade\n",
    "#\"meu nome é {nome} tenho {idade} anos e moro na cidade de {cidade}\" \n",
    "nome = input(\"Seu nome: \")\n",
    "idade = int(input(\"sua idade:\"))\n",
    "cidade = input(\"sua cidade\")\n",
    "print(f\"meu nome é {nome} tenho {idade} anos e moro na cidade de {cidade}\")"
   ]
  },
  {
   "cell_type": "code",
   "execution_count": 23,
   "metadata": {},
   "outputs": [
    {
     "name": "stdout",
     "output_type": "stream",
     "text": [
      "joão tem 6666 anos\n"
     ]
    }
   ],
   "source": [
    "idade = int(input(\"idade de jão: \"))\n",
    "\n",
    "print(\"joão tem %d anos\"%idade)"
   ]
  },
  {
   "cell_type": "code",
   "execution_count": 32,
   "metadata": {},
   "outputs": [
    {
     "name": "stdout",
     "output_type": "stream",
     "text": [
      "meu nome é vinicius tenho 10 anos e moro na cidade de sao paulo\n"
     ]
    }
   ],
   "source": [
    "#crie uma estrutura na qual o usuario possa inserir nome,idade e cidade\n",
    "#\"meu nome é {nome} tenho {idade} anos e moro na cidade de {cidade}\" \n",
    "nome = input(\"Seu nome: \")\n",
    "idade = int(input(\"sua idade:\"))\n",
    "cidade = input(\"sua cidade\")\n",
    "print(\"meu nome é %s tenho %d anos e moro na cidade de %s\"%(nome , idade , cidade))"
   ]
  },
  {
   "cell_type": "code",
   "execution_count": 35,
   "metadata": {},
   "outputs": [
    {
     "name": "stdout",
     "output_type": "stream",
     "text": [
      "meu nome é vinicius tenho 10.0 anos e R$15.75 no bolso \n"
     ]
    }
   ],
   "source": [
    "#crie uma estrutura na qual o usuario possa inserir nome,idade e cidade\n",
    "#\"meu nome é {nome} tenho {idade} anos e moro na cidade de {cidade}\" \n",
    "nome = input(\"Seu nome: \")\n",
    "idade =float(input(\"sua idade:\"))\n",
    "grana = input(\"sua grana\")\n",
    "print(\"meu nome é {} tenho {} anos e R${} no bolso \".format(nome, idade, grana))"
   ]
  },
  {
   "cell_type": "code",
   "execution_count": 39,
   "metadata": {},
   "outputs": [
    {
     "name": "stdout",
     "output_type": "stream",
     "text": [
      "vincius tem 18 anos e R$190.76 no bolso.\n"
     ]
    }
   ],
   "source": [
    "nome = \"vincius\"\n",
    "idade = 18\n",
    "grana = 190.76\n",
    "print(f\"{nome} tem {idade} anos e R${grana} no bolso.\")"
   ]
  },
  {
   "cell_type": "code",
   "execution_count": 41,
   "metadata": {},
   "outputs": [
    {
     "name": "stdout",
     "output_type": "stream",
     "text": [
      "Hello World\n"
     ]
    }
   ],
   "source": [
    "st1 = \"Hello\"\n",
    "st2 = \"World\"\n",
    "conca_st = st1 + \" \" + st2\n",
    "print(conca_st)"
   ]
  },
  {
   "cell_type": "code",
   "execution_count": 59,
   "metadata": {},
   "outputs": [
    {
     "ename": "TypeError",
     "evalue": "replace() argument 1 must be str, not list",
     "output_type": "error",
     "traceback": [
      "\u001b[1;31m---------------------------------------------------------------------------\u001b[0m",
      "\u001b[1;31mTypeError\u001b[0m                                 Traceback (most recent call last)",
      "Cell \u001b[1;32mIn[59], line 2\u001b[0m\n\u001b[0;32m      1\u001b[0m st \u001b[39m=\u001b[39m \u001b[39m\"\u001b[39m\u001b[39mbanana\u001b[39m\u001b[39m\"\u001b[39m\n\u001b[1;32m----> 2\u001b[0m neww \u001b[39m=\u001b[39m st\u001b[39m.\u001b[39;49mreplace([\u001b[39m0\u001b[39;49m] , \u001b[39m\"\u001b[39;49m\u001b[39m\"\u001b[39;49m)\n\u001b[0;32m      3\u001b[0m new \u001b[39m=\u001b[39m neww\u001b[39m.\u001b[39mupper()\n\u001b[0;32m      4\u001b[0m \u001b[39mprint\u001b[39m(new)\n",
      "\u001b[1;31mTypeError\u001b[0m: replace() argument 1 must be str, not list"
     ]
    }
   ],
   "source": [
    "st = \"banana\"\n",
    "neww = st.replace('' , \"\")\n",
    "new = neww.upper()\n",
    "print(new)"
   ]
  },
  {
   "cell_type": "code",
   "execution_count": 79,
   "metadata": {},
   "outputs": [
    {
     "name": "stdout",
     "output_type": "stream",
     "text": [
      "Vinicius Pereira Matareli\n"
     ]
    }
   ],
   "source": [
    "nome1 = input(\"Digite o seu primeiro nome:\")\n",
    "nome2 = input(\"Digite o seu segundo nome:\")\n",
    "nome3 = input(\"Digite o seu terceiro nome:\")\n",
    "nome1m = nome1[0:1].upper()\n",
    "nome2m = nome2[0:1].upper()\n",
    "nome3m = nome3[0:1].upper()\n",
    "nome_1_2 = nome1m + nome1[1:-1] + nome1[-1:]\n",
    "nome_2_2 = nome2m + nome2[1:-1] + nome2[-1:]\n",
    "nome_3_2 = nome3m + nome3[1:-1] + nome3[-1:]\n",
    "nome2m = nome2[0:1].upper()\n",
    "nome3m = nome3[1:1].upper()\n",
    "print(nome_1_2 +' '+ nome_2_2 + ' '+ nome_3_2)"
   ]
  },
  {
   "cell_type": "code",
   "execution_count": 83,
   "metadata": {},
   "outputs": [
    {
     "name": "stdout",
     "output_type": "stream",
     "text": [
      "certo\n",
      "Vinicius  Pereira Matareli \n"
     ]
    }
   ],
   "source": [
    "nome1 = input(\"Digite o seu primeiro nome:\")\n",
    "nome2 = input(\"Digite o seu segundo nome:\")\n",
    "nome3 = input(\"Digite o seu terceiro nome:\")\n",
    "cidade = (input(\"digite sua cidade:\"))\n",
    "cpf = (input(\"digite seu cpf\"))\n",
    "if len(cpf) == 11:\n",
    "    print(\"certo\")\n",
    "else:\n",
    "    print(\"Cpf invalido\")\n",
    "nome1m = nome1[0].upper()\n",
    "nome2m = nome2[0].upper()\n",
    "nome3m = nome3[0].upper()\n",
    "nome_1_2 = nome1m + nome1[1:-1] + nome1[-1:]\n",
    "nome_2_2 = nome2m + nome2[1:-1] + nome2[-1:]\n",
    "nome_3_2 = nome3m + nome3[1:-1] + nome3[-1:]\n",
    "nome2m = nome2[0:1].upper()\n",
    "nome3m = nome3[1:1].upper()\n",
    "print(f\"{nome_1_2} {nome_2_2} {nome_3_2} {cidade} {cpf}\")"
   ]
  },
  {
   "cell_type": "code",
   "execution_count": 84,
   "metadata": {},
   "outputs": [
    {
     "data": {
      "text/plain": [
       "[5, 6, 8, 10, 21, 45, 68, 95]"
      ]
     },
     "execution_count": 84,
     "metadata": {},
     "output_type": "execute_result"
    }
   ],
   "source": [
    "sorted([10,8,95,45,68,21,5,6])"
   ]
  }
 ],
 "metadata": {
  "kernelspec": {
   "display_name": "Python 3",
   "language": "python",
   "name": "python3"
  },
  "language_info": {
   "codemirror_mode": {
    "name": "ipython",
    "version": 3
   },
   "file_extension": ".py",
   "mimetype": "text/x-python",
   "name": "python",
   "nbconvert_exporter": "python",
   "pygments_lexer": "ipython3",
   "version": "3.11.4"
  },
  "orig_nbformat": 4
 },
 "nbformat": 4,
 "nbformat_minor": 2
}
