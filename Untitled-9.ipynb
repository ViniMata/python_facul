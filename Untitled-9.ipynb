{
 "cells": [
  {
   "cell_type": "code",
   "execution_count": 34,
   "metadata": {},
   "outputs": [
    {
     "data": {
      "text/plain": [
       "7"
      ]
     },
     "execution_count": 34,
     "metadata": {},
     "output_type": "execute_result"
    }
   ],
   "source": [
    "def fibonacci(n):\n",
    "    ind = 0\n",
    "    i = 0\n",
    "    while ind < n:\n",
    "        ind += 1\n",
    "        i_a = i\n",
    "        i += 1\n",
    "        i_n = i_a + i\n",
    "\n",
    "    return i_n\n",
    "\n",
    "fibonacci(4)"
   ]
  },
  {
   "cell_type": "code",
   "execution_count": 26,
   "metadata": {},
   "outputs": [
    {
     "name": "stdout",
     "output_type": "stream",
     "text": [
      "9\n",
      "90\n",
      "900\n"
     ]
    }
   ],
   "source": [
    "#exercicio 1 - soma subtração, deivisao e ,multiplicação\n",
    "\n",
    "def soma(x, y):\n",
    "    \"Função soma\"\n",
    "    resultado = x + y\n",
    "    return resultado\n",
    "def sub(x,y):\n",
    "    return x - y\n",
    "def div(x,y):\n",
    "    return x/y\n",
    "def multi(x,y):\n",
    "    return x*y"
   ]
  },
  {
   "cell_type": "code",
   "execution_count": null,
   "metadata": {},
   "outputs": [],
   "source": [
    "def AreaQuadrado(lado_a):\n",
    "    return lado_a*lado_a\n",
    "\n",
    "def AreaRetangulo(lado_a, lado_b):\n",
    "    return lado_a*lado_b\n",
    "\n",
    "def AreaCirculo(raio):\n",
    "    return 3.14 * raio ** 2\n",
    "\n",
    "def AreaTriangulo(base, altura):\n",
    "    return (base*altura)/2\n",
    "\n"
   ]
  },
  {
   "cell_type": "code",
   "execution_count": null,
   "metadata": {},
   "outputs": [],
   "source": [
    "def VolumeCube(lado,altura,profundidade):\n",
    "    return lado*altura*profundidade"
   ]
  },
  {
   "cell_type": "code",
   "execution_count": 46,
   "metadata": {},
   "outputs": [
    {
     "name": "stdout",
     "output_type": "stream",
     "text": [
      "4500.0\n"
     ]
    }
   ],
   "source": [
    "def AreaQuadrado(lado_a):\n",
    "    return lado_a*lado_a\n",
    "\n",
    "def AreaRetangulo(lado_a, lado_b):\n",
    "    return lado_a*lado_b\n",
    "\n",
    "def AreaCirculo(raio):\n",
    "    return 3.14 * raio ** 2\n",
    "\n",
    "def AreaTriangulo(base, altura):\n",
    "    return (base*altura)/2\n",
    "\n",
    "def seuTerreno():\n",
    "    escolha = input(\"Qual o formato do seu terreno?\")\n",
    "    if escolha == \"quadrado\":\n",
    "        lado_a = int(input(\"Qual o tamanho do lado?\"))\n",
    "        print(AreaQuadrado(lado_a))\n",
    "    elif escolha == \"retangulo\":\n",
    "        lado_a = int(input(\"Qual o tamanho do primeiro lado?\"))\n",
    "        lado_b = int(input(\"Qual o tamanho do segundo lado?\"))\n",
    "        print(AreaRetangulo(lado_a, lado_b))\n",
    "    elif escolha == \"circulo\":\n",
    "        raio = int(input(\"Qual o raio do seu terreno?\"))\n",
    "        print(AreaCirculo(raio))\n",
    "    else:\n",
    "        base = int(input(\"Qual a base?\"))\n",
    "        altura = int(input(\"Qual a altura?\"))\n",
    "        print(AreaTriangulo(base,altura))\n",
    "seuTerreno()"
   ]
  },
  {
   "cell_type": "code",
   "execution_count": 39,
   "metadata": {},
   "outputs": [
    {
     "name": "stdout",
     "output_type": "stream",
     "text": [
      "impar\n"
     ]
    }
   ],
   "source": [
    "def ImparOuPar(x):\n",
    "    if x % 2 == 0:\n",
    "        return print (\"par\")\n",
    "    else:\n",
    "        return print (\"impar\")\n",
    "    \n",
    "ImparOuPar(1535)"
   ]
  },
  {
   "cell_type": "code",
   "execution_count": 51,
   "metadata": {},
   "outputs": [
    {
     "data": {
      "text/plain": [
       "100"
      ]
     },
     "execution_count": 51,
     "metadata": {},
     "output_type": "execute_result"
    }
   ],
   "source": [
    "lista1 = [10, 15, 25, 30, 15]\n",
    "lista2 = [10, 15, 25, 30, 20]\n",
    "def soma(lista):\n",
    "    resultado = 0\n",
    "    for i in lista:\n",
    "        resultado += i\n",
    "    return(resultado)\n",
    "soma(lista2)"
   ]
  },
  {
   "cell_type": "code",
   "execution_count": 10,
   "metadata": {},
   "outputs": [
    {
     "data": {
      "text/plain": [
       "{'A': [1, 2, 3, 4, 5], 'B': {'a', 'b', 'c', 'd', 'e'}}"
      ]
     },
     "execution_count": 10,
     "metadata": {},
     "output_type": "execute_result"
    }
   ],
   "source": [
    "\n",
    "dados = { \"A\": [1, 2, 3, 4, 5],\n",
    "          \"B\": {\"a\", \"b\", \"c\", \"d\", \"e\"}\n",
    "}\n",
    "dados\n"
   ]
  },
  {
   "cell_type": "code",
   "execution_count": 12,
   "metadata": {},
   "outputs": [
    {
     "ename": "ModuleNotFoundError",
     "evalue": "No module named 'pandas'",
     "output_type": "error",
     "traceback": [
      "\u001b[1;31m---------------------------------------------------------------------------\u001b[0m",
      "\u001b[1;31mModuleNotFoundError\u001b[0m                       Traceback (most recent call last)",
      "Cell \u001b[1;32mIn[12], line 1\u001b[0m\n\u001b[1;32m----> 1\u001b[0m \u001b[39mimport\u001b[39;00m \u001b[39mpandas\u001b[39;00m \u001b[39mas\u001b[39;00m \u001b[39mpd\u001b[39;00m\n\u001b[0;32m      3\u001b[0m dados \u001b[39m=\u001b[39m { \u001b[39m\"\u001b[39m\u001b[39mA\u001b[39m\u001b[39m\"\u001b[39m: [\u001b[39m1\u001b[39m, \u001b[39m2\u001b[39m, \u001b[39m3\u001b[39m, \u001b[39m4\u001b[39m, \u001b[39m5\u001b[39m],\n\u001b[0;32m      4\u001b[0m           \u001b[39m\"\u001b[39m\u001b[39mB\u001b[39m\u001b[39m\"\u001b[39m: {\u001b[39m\"\u001b[39m\u001b[39ma\u001b[39m\u001b[39m\"\u001b[39m, \u001b[39m\"\u001b[39m\u001b[39mb\u001b[39m\u001b[39m\"\u001b[39m, \u001b[39m\"\u001b[39m\u001b[39mc\u001b[39m\u001b[39m\"\u001b[39m, \u001b[39m\"\u001b[39m\u001b[39md\u001b[39m\u001b[39m\"\u001b[39m, \u001b[39m\"\u001b[39m\u001b[39me\u001b[39m\u001b[39m\"\u001b[39m}\n\u001b[0;32m      5\u001b[0m }\n\u001b[0;32m      7\u001b[0m \u001b[39m#transfomar os dados para uma tabela\u001b[39;00m\n",
      "\u001b[1;31mModuleNotFoundError\u001b[0m: No module named 'pandas'"
     ]
    }
   ],
   "source": [
    "import pandas as pd\n",
    "\n",
    "dados = { \"A\": [1, 2, 3, 4, 5],\n",
    "          \"B\": {\"a\", \"b\", \"c\", \"d\", \"e\"}\n",
    "}\n",
    "\n",
    "#transfomar os dados para uma tabela\n",
    "\n",
    "df = pd.DataFrame(dados)\n",
    "df"
   ]
  },
  {
   "attachments": {},
   "cell_type": "markdown",
   "metadata": {},
   "source": [
    "Exercicios\n",
    "1 crie uma função para contar até n\n",
    "2 crie uma função para verificar cores de uma lista_cores = [\"azul\", \"verde\", \"amarelo\"]\n",
    "3 simular uma calculadora de despesas levabdi en cibsuderação a lista_mes = janeiro fevereiro março\n",
    "4 para monitorar temperaturam solicitabdi avakires de tenoeratura para o usuario até o mesmo para de digitar -999, Depois disso retorne o valor minimo maxumo medio e mediano da temperatura."
   ]
  },
  {
   "cell_type": "code",
   "execution_count": 15,
   "metadata": {},
   "outputs": [
    {
     "name": "stdout",
     "output_type": "stream",
     "text": [
      "1\n"
     ]
    }
   ],
   "source": [
    "def contarAteN():\n",
    "    n = int(input(\"Digite n:\"))\n",
    "    for i in range(1,n+1):\n",
    "        print(i)\n",
    "\n",
    "contarAteN()"
   ]
  },
  {
   "cell_type": "code",
   "execution_count": 16,
   "metadata": {},
   "outputs": [],
   "source": [
    "lista_cores = [\"azul\", \"verde\", \"amarelo\"]\n",
    "lista_usu = []\n",
    "def verificarCores():\n",
    "    while True:\n",
    "        cor = input(\"Digite uma cor:\")\n",
    "        lista_usu.append(cor)\n",
    "        if cor == \"pare\":\n",
    "            break\n",
    "    if lista_cores in lista_usu:\n",
    "        print(\"As cores que voce disse estao na lista\")\n",
    "    else:\n",
    "        print(\"As cores que voce disse não estao todas na lista\")"
   ]
  },
  {
   "cell_type": "code",
   "execution_count": 35,
   "metadata": {},
   "outputs": [
    {
     "name": "stdout",
     "output_type": "stream",
     "text": [
      "Total de despesas: 3.0\n"
     ]
    }
   ],
   "source": [
    "lista_mes = [\"janeiro\", \"fevereiro\", \"março\"]\n",
    "def calculoDespesas(meses):\n",
    "    totaldespesas = 0\n",
    "    for i in meses:\n",
    "        despesas = float(input(f\"Digite o valor das despesas de {i}. \"))\n",
    "        totaldespesas += despesas\n",
    "    print(\"Total de despesas:\", totaldespesas)\n",
    "calculoDespesas(lista_mes)"
   ]
  },
  {
   "cell_type": "code",
   "execution_count": 36,
   "metadata": {},
   "outputs": [
    {
     "name": "stdout",
     "output_type": "stream",
     "text": [
      "Valor minimo:  10.0\n",
      "Valor maximo:  50.0\n",
      "Valor medio:  26.666666666666668\n",
      "25.0\n"
     ]
    },
    {
     "data": {
      "text/plain": [
       "[10.0, 10.0, 20.0, 30.0, 40.0, 50.0]"
      ]
     },
     "execution_count": 36,
     "metadata": {},
     "output_type": "execute_result"
    }
   ],
   "source": [
    "import statistics\n",
    "lista_temperaturas = []\n",
    "\n",
    "def monitorarTemperatura():\n",
    "    while True:\n",
    "        temp = float(input(\"Digite a temperatura: \"))\n",
    "        if temp == -999:\n",
    "            break\n",
    "        else:\n",
    "            lista_temperaturas.append(temp)\n",
    "    lista_temperaturas.sort()\n",
    "    print(\"Valor minimo: \", lista_temperaturas[0])\n",
    "    print(\"Valor maximo: \", lista_temperaturas[-1])\n",
    "    print(\"Valor medio: \", sum(lista_temperaturas)/len(lista_temperaturas))\n",
    "    print(statistics.median(lista_temperaturas))\n",
    "    # if len(lista_temperaturas) %2 == 0:\n",
    "\n",
    "    #     print(\"Valor mediano: \", lista_temperaturas[round((len(lista_temperaturas)/2)) +1], lista_temperaturas[round((len(lista_temperaturas)/2))]) \n",
    "    # else:\n",
    "    #     print(\"Valor mediano: \", lista_temperaturas[round((len((lista_temperaturas) + 1)/2))])\n",
    "       \n",
    "monitorarTemperatura()\n",
    "lista_temperaturas\n",
    "        "
   ]
  },
  {
   "cell_type": "code",
   "execution_count": 39,
   "metadata": {},
   "outputs": [
    {
     "name": "stdout",
     "output_type": "stream",
     "text": [
      "Collecting pandas\n",
      "  Downloading pandas-2.2.2-cp311-cp311-win_amd64.whl (11.6 MB)\n",
      "                                              0.0/11.6 MB ? eta -:--:--\n",
      "                                              0.2/11.6 MB 3.7 MB/s eta 0:00:04\n",
      "     -                                        0.4/11.6 MB 4.6 MB/s eta 0:00:03\n",
      "     --                                       0.7/11.6 MB 4.9 MB/s eta 0:00:03\n",
      "     ---                                      1.0/11.6 MB 5.1 MB/s eta 0:00:03\n",
      "     ----                                     1.2/11.6 MB 5.1 MB/s eta 0:00:03\n",
      "     ----                                     1.4/11.6 MB 5.0 MB/s eta 0:00:03\n",
      "     ------                                   1.8/11.6 MB 5.3 MB/s eta 0:00:02\n",
      "     ------                                   1.8/11.6 MB 5.5 MB/s eta 0:00:02\n",
      "     ------                                   1.8/11.6 MB 5.5 MB/s eta 0:00:02\n",
      "     ------                                   1.8/11.6 MB 5.5 MB/s eta 0:00:02\n",
      "     ------                                   1.8/11.6 MB 5.5 MB/s eta 0:00:02\n",
      "     ------                                   1.8/11.6 MB 5.5 MB/s eta 0:00:02\n",
      "     ------                                   1.9/11.6 MB 3.1 MB/s eta 0:00:04\n",
      "     -------                                  2.1/11.6 MB 3.2 MB/s eta 0:00:03\n",
      "     --------                                 2.4/11.6 MB 3.4 MB/s eta 0:00:03\n",
      "     ---------                                2.6/11.6 MB 3.5 MB/s eta 0:00:03\n",
      "     ---------                                2.9/11.6 MB 3.6 MB/s eta 0:00:03\n",
      "     ----------                               3.1/11.6 MB 3.7 MB/s eta 0:00:03\n",
      "     -----------                              3.3/11.6 MB 3.7 MB/s eta 0:00:03\n",
      "     -----------                              3.5/11.6 MB 3.7 MB/s eta 0:00:03\n",
      "     ------------                             3.7/11.6 MB 3.8 MB/s eta 0:00:03\n",
      "     ------------                             3.7/11.6 MB 3.8 MB/s eta 0:00:03\n",
      "     ------------                             3.7/11.6 MB 3.8 MB/s eta 0:00:03\n",
      "     ------------                             3.7/11.6 MB 3.8 MB/s eta 0:00:03\n",
      "     ------------                             3.7/11.6 MB 3.8 MB/s eta 0:00:03\n",
      "     ------------                             3.7/11.6 MB 3.0 MB/s eta 0:00:03\n",
      "     -------------                            3.8/11.6 MB 3.0 MB/s eta 0:00:03\n",
      "     -------------                            4.0/11.6 MB 3.0 MB/s eta 0:00:03\n",
      "     --------------                           4.2/11.6 MB 3.1 MB/s eta 0:00:03\n",
      "     ---------------                          4.5/11.6 MB 3.2 MB/s eta 0:00:03\n",
      "     ----------------                         4.7/11.6 MB 3.3 MB/s eta 0:00:03\n",
      "     ----------------                         4.8/11.6 MB 3.2 MB/s eta 0:00:03\n",
      "     ----------------                         4.9/11.6 MB 3.2 MB/s eta 0:00:03\n",
      "     -----------------                        5.1/11.6 MB 3.2 MB/s eta 0:00:03\n",
      "     ------------------                       5.4/11.6 MB 3.3 MB/s eta 0:00:02\n",
      "     ------------------                       5.5/11.6 MB 3.3 MB/s eta 0:00:02\n",
      "     ------------------                       5.5/11.6 MB 3.3 MB/s eta 0:00:02\n",
      "     ------------------                       5.5/11.6 MB 3.3 MB/s eta 0:00:02\n",
      "     ------------------                       5.5/11.6 MB 3.3 MB/s eta 0:00:02\n",
      "     ------------------                       5.5/11.6 MB 3.3 MB/s eta 0:00:02\n",
      "     -------------------                      5.6/11.6 MB 2.9 MB/s eta 0:00:03\n",
      "     -------------------                      5.8/11.6 MB 3.0 MB/s eta 0:00:02\n",
      "     --------------------                     6.1/11.6 MB 3.0 MB/s eta 0:00:02\n",
      "     ----------------------                   6.5/11.6 MB 3.2 MB/s eta 0:00:02\n",
      "     -----------------------                  6.9/11.6 MB 3.3 MB/s eta 0:00:02\n",
      "     ------------------------                 7.3/11.6 MB 3.4 MB/s eta 0:00:02\n",
      "     -------------------------                7.4/11.6 MB 3.4 MB/s eta 0:00:02\n",
      "     -------------------------                7.4/11.6 MB 3.4 MB/s eta 0:00:02\n",
      "     -------------------------                7.4/11.6 MB 3.4 MB/s eta 0:00:02\n",
      "     -------------------------                7.4/11.6 MB 3.4 MB/s eta 0:00:02\n",
      "     -------------------------                7.4/11.6 MB 3.4 MB/s eta 0:00:02\n",
      "     -------------------------                7.4/11.6 MB 3.4 MB/s eta 0:00:02\n",
      "     -------------------------                7.4/11.6 MB 3.4 MB/s eta 0:00:02\n",
      "     -------------------------                7.4/11.6 MB 3.4 MB/s eta 0:00:02\n",
      "     -------------------------                7.4/11.6 MB 3.4 MB/s eta 0:00:02\n",
      "     -------------------------                7.4/11.6 MB 3.4 MB/s eta 0:00:02\n",
      "     -------------------------                7.4/11.6 MB 3.4 MB/s eta 0:00:02\n",
      "     -------------------------                7.4/11.6 MB 3.4 MB/s eta 0:00:02\n",
      "     -------------------------                7.4/11.6 MB 3.4 MB/s eta 0:00:02\n",
      "     -------------------------                7.4/11.6 MB 3.4 MB/s eta 0:00:02\n",
      "     --------------------------               7.6/11.6 MB 2.7 MB/s eta 0:00:02\n",
      "     --------------------------               7.8/11.6 MB 2.7 MB/s eta 0:00:02\n",
      "     ----------------------------             8.2/11.6 MB 2.8 MB/s eta 0:00:02\n",
      "     -----------------------------            8.6/11.6 MB 2.9 MB/s eta 0:00:02\n",
      "     ------------------------------           8.9/11.6 MB 2.9 MB/s eta 0:00:01\n",
      "     -------------------------------          9.1/11.6 MB 3.0 MB/s eta 0:00:01\n",
      "     -------------------------------          9.2/11.6 MB 3.0 MB/s eta 0:00:01\n",
      "     -------------------------------          9.2/11.6 MB 3.0 MB/s eta 0:00:01\n",
      "     -------------------------------          9.2/11.6 MB 3.0 MB/s eta 0:00:01\n",
      "     -------------------------------          9.2/11.6 MB 3.0 MB/s eta 0:00:01\n",
      "     -------------------------------          9.2/11.6 MB 3.0 MB/s eta 0:00:01\n",
      "     --------------------------------         9.3/11.6 MB 2.8 MB/s eta 0:00:01\n",
      "     --------------------------------         9.6/11.6 MB 2.8 MB/s eta 0:00:01\n",
      "     ---------------------------------        9.8/11.6 MB 2.8 MB/s eta 0:00:01\n",
      "     ----------------------------------       10.0/11.6 MB 2.8 MB/s eta 0:00:01\n",
      "     ----------------------------------       10.2/11.6 MB 2.9 MB/s eta 0:00:01\n",
      "     -----------------------------------      10.4/11.6 MB 2.9 MB/s eta 0:00:01\n",
      "     ------------------------------------     10.7/11.6 MB 2.9 MB/s eta 0:00:01\n",
      "     -------------------------------------    10.9/11.6 MB 2.9 MB/s eta 0:00:01\n",
      "     -------------------------------------    11.0/11.6 MB 2.9 MB/s eta 0:00:01\n",
      "     -------------------------------------    11.0/11.6 MB 2.9 MB/s eta 0:00:01\n",
      "     -------------------------------------    11.0/11.6 MB 2.9 MB/s eta 0:00:01\n",
      "     -------------------------------------    11.0/11.6 MB 2.9 MB/s eta 0:00:01\n",
      "     -------------------------------------    11.0/11.6 MB 2.9 MB/s eta 0:00:01\n",
      "     --------------------------------------   11.2/11.6 MB 2.7 MB/s eta 0:00:01\n",
      "     ---------------------------------------  11.4/11.6 MB 2.7 MB/s eta 0:00:01\n",
      "     ---------------------------------------  11.6/11.6 MB 2.7 MB/s eta 0:00:01\n",
      "     ---------------------------------------- 11.6/11.6 MB 2.7 MB/s eta 0:00:00\n",
      "Collecting numpy>=1.23.2 (from pandas)\n",
      "  Downloading numpy-1.26.4-cp311-cp311-win_amd64.whl (15.8 MB)\n",
      "                                              0.0/15.8 MB ? eta -:--:--\n",
      "                                              0.3/15.8 MB 6.0 MB/s eta 0:00:03\n",
      "     -                                        0.7/15.8 MB 8.7 MB/s eta 0:00:02\n",
      "     ---                                      1.2/15.8 MB 9.6 MB/s eta 0:00:02\n",
      "     ----                                     1.7/15.8 MB 9.8 MB/s eta 0:00:02\n",
      "     -----                                    2.1/15.8 MB 9.4 MB/s eta 0:00:02\n",
      "     -----                                    2.4/15.8 MB 8.8 MB/s eta 0:00:02\n",
      "     ------                                   2.5/15.8 MB 8.1 MB/s eta 0:00:02\n",
      "     -------                                  2.8/15.8 MB 7.8 MB/s eta 0:00:02\n",
      "     -------                                  2.8/15.8 MB 7.8 MB/s eta 0:00:02\n",
      "     -------                                  2.8/15.8 MB 7.8 MB/s eta 0:00:02\n",
      "     -------                                  2.8/15.8 MB 7.8 MB/s eta 0:00:02\n",
      "     -------                                  2.8/15.8 MB 7.8 MB/s eta 0:00:02\n",
      "     -------                                  2.8/15.8 MB 7.8 MB/s eta 0:00:02\n",
      "     -------                                  2.8/15.8 MB 7.8 MB/s eta 0:00:02\n",
      "     -------                                  2.8/15.8 MB 7.8 MB/s eta 0:00:02\n",
      "     -------                                  2.8/15.8 MB 7.8 MB/s eta 0:00:02\n",
      "     -------                                  2.8/15.8 MB 7.8 MB/s eta 0:00:02\n",
      "     -------                                  2.8/15.8 MB 7.8 MB/s eta 0:00:02\n",
      "     -------                                  2.8/15.8 MB 7.8 MB/s eta 0:00:02\n",
      "     -------                                  2.8/15.8 MB 7.8 MB/s eta 0:00:02\n",
      "     -------                                  2.8/15.8 MB 7.8 MB/s eta 0:00:02\n",
      "     -------                                  2.8/15.8 MB 2.8 MB/s eta 0:00:05\n",
      "     -------                                  3.1/15.8 MB 2.9 MB/s eta 0:00:05\n",
      "     --------                                 3.4/15.8 MB 3.0 MB/s eta 0:00:05\n",
      "     ---------                                3.8/15.8 MB 3.3 MB/s eta 0:00:04\n",
      "     ----------                               4.3/15.8 MB 3.5 MB/s eta 0:00:04\n",
      "     -----------                              4.6/15.8 MB 3.7 MB/s eta 0:00:04\n",
      "     -----------                              4.6/15.8 MB 3.7 MB/s eta 0:00:04\n",
      "     -----------                              4.6/15.8 MB 3.7 MB/s eta 0:00:04\n",
      "     -----------                              4.6/15.8 MB 3.7 MB/s eta 0:00:04\n",
      "     -----------                              4.6/15.8 MB 3.7 MB/s eta 0:00:04\n",
      "     -----------                              4.6/15.8 MB 3.7 MB/s eta 0:00:04\n",
      "     -----------                              4.6/15.8 MB 3.7 MB/s eta 0:00:04\n",
      "     -----------                              4.6/15.8 MB 3.7 MB/s eta 0:00:04\n",
      "     -----------                              4.6/15.8 MB 3.7 MB/s eta 0:00:04\n",
      "     -----------                              4.6/15.8 MB 3.7 MB/s eta 0:00:04\n",
      "     -----------                              4.6/15.8 MB 3.7 MB/s eta 0:00:04\n",
      "     -----------                              4.6/15.8 MB 3.7 MB/s eta 0:00:04\n",
      "     -----------                              4.6/15.8 MB 3.7 MB/s eta 0:00:04\n",
      "     -----------                              4.6/15.8 MB 3.7 MB/s eta 0:00:04\n",
      "     ------------                             4.8/15.8 MB 2.5 MB/s eta 0:00:05\n",
      "     -------------                            5.2/15.8 MB 2.6 MB/s eta 0:00:05\n",
      "     -------------                            5.4/15.8 MB 2.7 MB/s eta 0:00:04\n",
      "     --------------                           5.7/15.8 MB 2.8 MB/s eta 0:00:04\n",
      "     ---------------                          5.9/15.8 MB 2.8 MB/s eta 0:00:04\n",
      "     ----------------                         6.3/15.8 MB 3.0 MB/s eta 0:00:04\n",
      "     ----------------                         6.5/15.8 MB 3.0 MB/s eta 0:00:04\n",
      "     ----------------                         6.5/15.8 MB 3.0 MB/s eta 0:00:04\n",
      "     ----------------                         6.5/15.8 MB 3.0 MB/s eta 0:00:04\n",
      "     ----------------                         6.5/15.8 MB 3.0 MB/s eta 0:00:04\n",
      "     ----------------                         6.5/15.8 MB 3.0 MB/s eta 0:00:04\n",
      "     ----------------                         6.6/15.8 MB 2.7 MB/s eta 0:00:04\n",
      "     -----------------                        6.8/15.8 MB 2.7 MB/s eta 0:00:04\n",
      "     -----------------                        7.1/15.8 MB 2.8 MB/s eta 0:00:04\n",
      "     ------------------                       7.2/15.8 MB 2.8 MB/s eta 0:00:04\n",
      "     ------------------                       7.4/15.8 MB 2.8 MB/s eta 0:00:03\n",
      "     -------------------                      7.7/15.8 MB 2.9 MB/s eta 0:00:03\n",
      "     --------------------                     8.1/15.8 MB 3.0 MB/s eta 0:00:03\n",
      "     ---------------------                    8.3/15.8 MB 3.1 MB/s eta 0:00:03\n",
      "     ---------------------                    8.3/15.8 MB 3.1 MB/s eta 0:00:03\n",
      "     ---------------------                    8.3/15.8 MB 3.1 MB/s eta 0:00:03\n",
      "     ---------------------                    8.3/15.8 MB 3.1 MB/s eta 0:00:03\n",
      "     ---------------------                    8.3/15.8 MB 3.1 MB/s eta 0:00:03\n",
      "     ---------------------                    8.4/15.8 MB 2.8 MB/s eta 0:00:03\n",
      "     ---------------------                    8.4/15.8 MB 2.8 MB/s eta 0:00:03\n",
      "     ----------------------                   8.7/15.8 MB 2.8 MB/s eta 0:00:03\n",
      "     ----------------------                   9.1/15.8 MB 2.9 MB/s eta 0:00:03\n",
      "     ------------------------                 9.5/15.8 MB 3.0 MB/s eta 0:00:03\n",
      "     -------------------------                10.0/15.8 MB 3.1 MB/s eta 0:00:02\n",
      "     -------------------------                10.2/15.8 MB 3.2 MB/s eta 0:00:02\n",
      "     -------------------------                10.2/15.8 MB 3.2 MB/s eta 0:00:02\n",
      "     -------------------------                10.2/15.8 MB 3.2 MB/s eta 0:00:02\n",
      "     -------------------------                10.2/15.8 MB 3.2 MB/s eta 0:00:02\n",
      "     -------------------------                10.2/15.8 MB 3.2 MB/s eta 0:00:02\n",
      "     -------------------------                10.2/15.8 MB 3.2 MB/s eta 0:00:02\n",
      "     -------------------------                10.2/15.8 MB 3.2 MB/s eta 0:00:02\n",
      "     -------------------------                10.2/15.8 MB 3.2 MB/s eta 0:00:02\n",
      "     -------------------------                10.2/15.8 MB 3.2 MB/s eta 0:00:02\n",
      "     -------------------------                10.2/15.8 MB 3.2 MB/s eta 0:00:02\n",
      "     -------------------------                10.2/15.8 MB 3.2 MB/s eta 0:00:02\n",
      "     -------------------------                10.2/15.8 MB 3.2 MB/s eta 0:00:02\n",
      "     -------------------------                10.2/15.8 MB 3.2 MB/s eta 0:00:02\n",
      "     -------------------------                10.2/15.8 MB 3.2 MB/s eta 0:00:02\n",
      "     --------------------------               10.3/15.8 MB 2.6 MB/s eta 0:00:03\n",
      "     ---------------------------              10.8/15.8 MB 2.6 MB/s eta 0:00:02\n",
      "     ----------------------------             11.3/15.8 MB 2.6 MB/s eta 0:00:02\n",
      "     ------------------------------           11.9/15.8 MB 2.7 MB/s eta 0:00:02\n",
      "     ------------------------------           12.0/15.8 MB 2.7 MB/s eta 0:00:02\n",
      "     ------------------------------           12.0/15.8 MB 2.7 MB/s eta 0:00:02\n",
      "     ------------------------------           12.0/15.8 MB 2.7 MB/s eta 0:00:02\n",
      "     ------------------------------           12.0/15.8 MB 2.7 MB/s eta 0:00:02\n",
      "     ------------------------------           12.0/15.8 MB 2.7 MB/s eta 0:00:02\n",
      "     ------------------------------           12.0/15.8 MB 2.7 MB/s eta 0:00:02\n",
      "     ------------------------------           12.0/15.8 MB 2.7 MB/s eta 0:00:02\n",
      "     ------------------------------           12.0/15.8 MB 2.7 MB/s eta 0:00:02\n",
      "     ------------------------------           12.0/15.8 MB 2.7 MB/s eta 0:00:02\n",
      "     ------------------------------           12.0/15.8 MB 2.7 MB/s eta 0:00:02\n",
      "     ------------------------------           12.0/15.8 MB 2.7 MB/s eta 0:00:02\n",
      "     ------------------------------           12.0/15.8 MB 2.7 MB/s eta 0:00:02\n",
      "     ------------------------------           12.0/15.8 MB 2.7 MB/s eta 0:00:02\n",
      "     ------------------------------           12.0/15.8 MB 2.7 MB/s eta 0:00:02\n",
      "     -------------------------------          12.5/15.8 MB 2.3 MB/s eta 0:00:02\n",
      "     --------------------------------         13.0/15.8 MB 2.3 MB/s eta 0:00:02\n",
      "     ----------------------------------       13.6/15.8 MB 2.7 MB/s eta 0:00:01\n",
      "     -----------------------------------      13.9/15.8 MB 2.8 MB/s eta 0:00:01\n",
      "     -----------------------------------      13.9/15.8 MB 2.8 MB/s eta 0:00:01\n",
      "     -----------------------------------      13.9/15.8 MB 2.8 MB/s eta 0:00:01\n",
      "     -----------------------------------      13.9/15.8 MB 2.8 MB/s eta 0:00:01\n",
      "     -----------------------------------      13.9/15.8 MB 2.8 MB/s eta 0:00:01\n",
      "     -----------------------------------      13.9/15.8 MB 2.8 MB/s eta 0:00:01\n",
      "     -----------------------------------      13.9/15.8 MB 2.8 MB/s eta 0:00:01\n",
      "     -----------------------------------      13.9/15.8 MB 2.8 MB/s eta 0:00:01\n",
      "     -----------------------------------      13.9/15.8 MB 2.8 MB/s eta 0:00:01\n",
      "     -----------------------------------      13.9/15.8 MB 2.8 MB/s eta 0:00:01\n",
      "     -----------------------------------      13.9/15.8 MB 2.8 MB/s eta 0:00:01\n",
      "     -----------------------------------      13.9/15.8 MB 2.8 MB/s eta 0:00:01\n",
      "     -----------------------------------      13.9/15.8 MB 2.8 MB/s eta 0:00:01\n",
      "     -----------------------------------      13.9/15.8 MB 2.8 MB/s eta 0:00:01\n",
      "     -----------------------------------      14.0/15.8 MB 2.3 MB/s eta 0:00:01\n",
      "     ------------------------------------     14.4/15.8 MB 2.3 MB/s eta 0:00:01\n",
      "     -------------------------------------    14.7/15.8 MB 2.3 MB/s eta 0:00:01\n",
      "     --------------------------------------   15.1/15.8 MB 2.7 MB/s eta 0:00:01\n",
      "     ---------------------------------------  15.5/15.8 MB 2.7 MB/s eta 0:00:01\n",
      "     ---------------------------------------  15.7/15.8 MB 2.7 MB/s eta 0:00:01\n",
      "     ---------------------------------------  15.7/15.8 MB 2.7 MB/s eta 0:00:01\n",
      "     ---------------------------------------  15.7/15.8 MB 2.7 MB/s eta 0:00:01\n",
      "     ---------------------------------------  15.7/15.8 MB 2.7 MB/s eta 0:00:01\n",
      "     ---------------------------------------  15.7/15.8 MB 2.7 MB/s eta 0:00:01\n",
      "     ---------------------------------------  15.7/15.8 MB 2.7 MB/s eta 0:00:01\n",
      "     ---------------------------------------  15.7/15.8 MB 2.7 MB/s eta 0:00:01\n",
      "     ---------------------------------------  15.7/15.8 MB 2.7 MB/s eta 0:00:01\n",
      "     ---------------------------------------  15.7/15.8 MB 2.7 MB/s eta 0:00:01\n",
      "     ---------------------------------------  15.7/15.8 MB 2.7 MB/s eta 0:00:01\n",
      "     ---------------------------------------  15.7/15.8 MB 2.7 MB/s eta 0:00:01\n",
      "     ---------------------------------------  15.7/15.8 MB 2.7 MB/s eta 0:00:01\n",
      "     ---------------------------------------  15.7/15.8 MB 2.7 MB/s eta 0:00:01\n",
      "     ---------------------------------------  15.7/15.8 MB 2.7 MB/s eta 0:00:01\n",
      "     ---------------------------------------  15.8/15.8 MB 2.3 MB/s eta 0:00:01\n",
      "     ---------------------------------------  15.8/15.8 MB 2.3 MB/s eta 0:00:01\n",
      "     ---------------------------------------- 15.8/15.8 MB 2.3 MB/s eta 0:00:00\n",
      "Requirement already satisfied: python-dateutil>=2.8.2 in c:\\python311\\lib\\site-packages (from pandas) (2.8.2)\n",
      "Collecting pytz>=2020.1 (from pandas)\n",
      "  Downloading pytz-2024.1-py2.py3-none-any.whl (505 kB)\n",
      "                                              0.0/505.5 kB ? eta -:--:--\n",
      "     ------------------------------         399.4/505.5 kB 8.3 MB/s eta 0:00:01\n",
      "     -------------------------------------- 505.5/505.5 kB 7.9 MB/s eta 0:00:00\n",
      "Collecting tzdata>=2022.7 (from pandas)\n",
      "  Downloading tzdata-2024.1-py2.py3-none-any.whl (345 kB)\n",
      "                                              0.0/345.4 kB ? eta -:--:--\n",
      "     ------------------------------------  337.9/345.4 kB 10.6 MB/s eta 0:00:01\n",
      "     ------------------------------------- 345.4/345.4 kB 10.8 MB/s eta 0:00:00\n",
      "Requirement already satisfied: six>=1.5 in c:\\python311\\lib\\site-packages (from python-dateutil>=2.8.2->pandas) (1.16.0)\n",
      "Installing collected packages: pytz, tzdata, numpy, pandas\n",
      "Successfully installed numpy-1.26.4 pandas-2.2.2 pytz-2024.1 tzdata-2024.1\n",
      "Note: you may need to restart the kernel to use updated packages.\n"
     ]
    },
    {
     "name": "stderr",
     "output_type": "stream",
     "text": [
      "\n",
      "[notice] A new release of pip is available: 23.1.2 -> 24.0\n",
      "[notice] To update, run: python.exe -m pip install --upgrade pip\n"
     ]
    }
   ],
   "source": [
    "pip install pandas"
   ]
  },
  {
   "cell_type": "code",
   "execution_count": 40,
   "metadata": {},
   "outputs": [],
   "source": [
    "import pandas as pd"
   ]
  },
  {
   "cell_type": "code",
   "execution_count": 41,
   "metadata": {},
   "outputs": [],
   "source": [
    "df = pd.read_csv(r'C:\\aula\\python_facul\\manutencao_preditiva.csv')"
   ]
  },
  {
   "cell_type": "code",
   "execution_count": 43,
   "metadata": {},
   "outputs": [
    {
     "name": "stdout",
     "output_type": "stream",
     "text": [
      "<class 'pandas.core.frame.DataFrame'>\n",
      "RangeIndex: 10000 entries, 0 to 9999\n",
      "Data columns (total 10 columns):\n",
      " #   Column                     Non-Null Count  Dtype  \n",
      "---  ------                     --------------  -----  \n",
      " 0   UDI                        10000 non-null  int64  \n",
      " 1   ID Produto                 10000 non-null  object \n",
      " 2   Tipo                       10000 non-null  object \n",
      " 3   Temperatura Ar [K]         10000 non-null  float64\n",
      " 4   Temperatura Processo [K]   10000 non-null  float64\n",
      " 5   Velocidade Rotacao [rpm]   10000 non-null  int64  \n",
      " 6   Torque [Nm]                10000 non-null  float64\n",
      " 7   Desgaste Ferramenta [min]  10000 non-null  int64  \n",
      " 8   Alvo                       10000 non-null  int64  \n",
      " 9   Tipo da Falha              10000 non-null  object \n",
      "dtypes: float64(3), int64(4), object(3)\n",
      "memory usage: 781.4+ KB\n"
     ]
    }
   ],
   "source": [
    "df.info()"
   ]
  },
  {
   "cell_type": "code",
   "execution_count": 47,
   "metadata": {},
   "outputs": [
    {
     "name": "stdout",
     "output_type": "stream",
     "text": [
      "Collecting matplotlibNote: you may need to restart the kernel to use updated packages.\n"
     ]
    },
    {
     "name": "stderr",
     "output_type": "stream",
     "text": [
      "\n",
      "[notice] A new release of pip is available: 23.1.2 -> 24.0\n",
      "[notice] To update, run: python.exe -m pip install --upgrade pip\n"
     ]
    },
    {
     "name": "stdout",
     "output_type": "stream",
     "text": [
      "\n",
      "  Downloading matplotlib-3.9.0-cp311-cp311-win_amd64.whl (8.0 MB)\n",
      "                                              0.0/8.0 MB ? eta -:--:--\n",
      "     --                                       0.5/8.0 MB 10.2 MB/s eta 0:00:01\n",
      "     -------                                  1.6/8.0 MB 25.1 MB/s eta 0:00:01\n",
      "     -------                                  1.6/8.0 MB 25.1 MB/s eta 0:00:01\n",
      "     -------                                  1.6/8.0 MB 25.1 MB/s eta 0:00:01\n",
      "     -------                                  1.6/8.0 MB 25.1 MB/s eta 0:00:01\n",
      "     -------                                  1.6/8.0 MB 25.1 MB/s eta 0:00:01\n",
      "     --------                                 1.8/8.0 MB 5.4 MB/s eta 0:00:02\n",
      "     -------------                            2.7/8.0 MB 7.2 MB/s eta 0:00:01\n",
      "     -----------------                        3.4/8.0 MB 8.0 MB/s eta 0:00:01\n",
      "     -----------------                        3.4/8.0 MB 8.1 MB/s eta 0:00:01\n",
      "     -----------------                        3.4/8.0 MB 8.1 MB/s eta 0:00:01\n",
      "     -----------------                        3.4/8.0 MB 8.1 MB/s eta 0:00:01\n",
      "     -----------------                        3.4/8.0 MB 8.1 MB/s eta 0:00:01\n",
      "     -----------------                        3.4/8.0 MB 8.1 MB/s eta 0:00:01\n",
      "     -----------------                        3.4/8.0 MB 8.1 MB/s eta 0:00:01\n",
      "     -----------------                        3.4/8.0 MB 8.1 MB/s eta 0:00:01\n",
      "     -----------------                        3.4/8.0 MB 8.1 MB/s eta 0:00:01\n",
      "     -----------------                        3.4/8.0 MB 8.1 MB/s eta 0:00:01\n",
      "     -----------------                        3.4/8.0 MB 8.1 MB/s eta 0:00:01\n",
      "     -----------------                        3.4/8.0 MB 8.1 MB/s eta 0:00:01\n",
      "     -----------------                        3.4/8.0 MB 8.1 MB/s eta 0:00:01\n",
      "     -----------------                        3.4/8.0 MB 8.1 MB/s eta 0:00:01\n",
      "     -----------------                        3.4/8.0 MB 8.1 MB/s eta 0:00:01\n",
      "     -----------------                        3.6/8.0 MB 3.2 MB/s eta 0:00:02\n",
      "     -------------------                      4.0/8.0 MB 3.4 MB/s eta 0:00:02\n",
      "     ----------------------                   4.4/8.0 MB 3.7 MB/s eta 0:00:01\n",
      "     -----------------------                  4.8/8.0 MB 3.8 MB/s eta 0:00:01\n",
      "     --------------------------               5.2/8.0 MB 4.0 MB/s eta 0:00:01\n",
      "     --------------------------               5.3/8.0 MB 4.0 MB/s eta 0:00:01\n",
      "     --------------------------               5.3/8.0 MB 4.0 MB/s eta 0:00:01\n",
      "     --------------------------               5.3/8.0 MB 4.0 MB/s eta 0:00:01\n",
      "     --------------------------               5.3/8.0 MB 4.0 MB/s eta 0:00:01\n",
      "     --------------------------               5.3/8.0 MB 4.0 MB/s eta 0:00:01\n",
      "     --------------------------               5.3/8.0 MB 4.0 MB/s eta 0:00:01\n",
      "     --------------------------               5.3/8.0 MB 4.0 MB/s eta 0:00:01\n",
      "     --------------------------               5.3/8.0 MB 4.0 MB/s eta 0:00:01\n",
      "     --------------------------               5.3/8.0 MB 4.0 MB/s eta 0:00:01\n",
      "     --------------------------               5.3/8.0 MB 4.0 MB/s eta 0:00:01\n",
      "     --------------------------               5.3/8.0 MB 4.0 MB/s eta 0:00:01\n",
      "     --------------------------               5.3/8.0 MB 4.0 MB/s eta 0:00:01\n",
      "     --------------------------               5.3/8.0 MB 4.0 MB/s eta 0:00:01\n",
      "     --------------------------               5.3/8.0 MB 2.7 MB/s eta 0:00:01\n",
      "     ---------------------------              5.6/8.0 MB 2.8 MB/s eta 0:00:01\n",
      "     -----------------------------            5.8/8.0 MB 2.8 MB/s eta 0:00:01\n",
      "     -------------------------------          6.2/8.0 MB 3.0 MB/s eta 0:00:01\n",
      "     -------------------------------          6.3/8.0 MB 3.0 MB/s eta 0:00:01\n",
      "     --------------------------------         6.5/8.0 MB 2.9 MB/s eta 0:00:01\n",
      "     ----------------------------------       6.9/8.0 MB 3.1 MB/s eta 0:00:01\n",
      "     -----------------------------------      7.1/8.0 MB 3.2 MB/s eta 0:00:01\n",
      "     -----------------------------------      7.1/8.0 MB 3.2 MB/s eta 0:00:01\n",
      "     -----------------------------------      7.1/8.0 MB 3.2 MB/s eta 0:00:01\n",
      "     -----------------------------------      7.1/8.0 MB 3.2 MB/s eta 0:00:01\n",
      "     -----------------------------------      7.1/8.0 MB 3.2 MB/s eta 0:00:01\n",
      "     ------------------------------------     7.2/8.0 MB 2.9 MB/s eta 0:00:01\n",
      "     -------------------------------------    7.6/8.0 MB 2.9 MB/s eta 0:00:01\n",
      "     ---------------------------------------  7.8/8.0 MB 3.0 MB/s eta 0:00:01\n",
      "     ---------------------------------------  8.0/8.0 MB 3.0 MB/s eta 0:00:01\n",
      "     ---------------------------------------- 8.0/8.0 MB 2.9 MB/s eta 0:00:00\n",
      "Collecting contourpy>=1.0.1 (from matplotlib)\n",
      "  Downloading contourpy-1.2.1-cp311-cp311-win_amd64.whl (188 kB)\n",
      "                                              0.0/188.2 kB ? eta -:--:--\n",
      "     -------------------------------------- 188.2/188.2 kB 5.7 MB/s eta 0:00:00\n",
      "Collecting cycler>=0.10 (from matplotlib)\n",
      "  Downloading cycler-0.12.1-py3-none-any.whl (8.3 kB)\n",
      "Collecting fonttools>=4.22.0 (from matplotlib)\n",
      "  Downloading fonttools-4.51.0-cp311-cp311-win_amd64.whl (2.2 MB)\n",
      "                                              0.0/2.2 MB ? eta -:--:--\n",
      "     -----                                    0.3/2.2 MB 6.5 MB/s eta 0:00:01\n",
      "     ------------                             0.7/2.2 MB 8.8 MB/s eta 0:00:01\n",
      "     -------------------                      1.0/2.2 MB 7.4 MB/s eta 0:00:01\n",
      "     --------------------------               1.4/2.2 MB 7.7 MB/s eta 0:00:01\n",
      "     ----------------------------------       1.9/2.2 MB 8.1 MB/s eta 0:00:01\n",
      "     ------------------------------------     2.0/2.2 MB 8.5 MB/s eta 0:00:01\n",
      "     ------------------------------------     2.0/2.2 MB 8.5 MB/s eta 0:00:01\n",
      "     ------------------------------------     2.0/2.2 MB 8.5 MB/s eta 0:00:01\n",
      "     ------------------------------------     2.0/2.2 MB 8.5 MB/s eta 0:00:01\n",
      "     ------------------------------------     2.0/2.2 MB 8.5 MB/s eta 0:00:01\n",
      "     ------------------------------------     2.0/2.2 MB 8.5 MB/s eta 0:00:01\n",
      "     ------------------------------------     2.0/2.2 MB 8.5 MB/s eta 0:00:01\n",
      "     ------------------------------------     2.0/2.2 MB 8.5 MB/s eta 0:00:01\n",
      "     ------------------------------------     2.0/2.2 MB 8.5 MB/s eta 0:00:01\n",
      "     ------------------------------------     2.0/2.2 MB 8.5 MB/s eta 0:00:01\n",
      "     ------------------------------------     2.0/2.2 MB 8.5 MB/s eta 0:00:01\n",
      "     ------------------------------------     2.0/2.2 MB 8.5 MB/s eta 0:00:01\n",
      "     ------------------------------------     2.0/2.2 MB 8.5 MB/s eta 0:00:01\n",
      "     ------------------------------------     2.0/2.2 MB 8.5 MB/s eta 0:00:01\n",
      "     ---------------------------------------- 2.2/2.2 MB 2.4 MB/s eta 0:00:00\n",
      "Collecting kiwisolver>=1.3.1 (from matplotlib)\n",
      "  Downloading kiwisolver-1.4.5-cp311-cp311-win_amd64.whl (56 kB)\n",
      "                                              0.0/56.1 kB ? eta -:--:--\n",
      "     ---------------------------------------- 56.1/56.1 kB ? eta 0:00:00\n",
      "Requirement already satisfied: numpy>=1.23 in c:\\python311\\lib\\site-packages (from matplotlib) (1.26.4)\n",
      "Requirement already satisfied: packaging>=20.0 in c:\\python311\\lib\\site-packages (from matplotlib) (23.1)\n",
      "Collecting pillow>=8 (from matplotlib)\n",
      "  Downloading pillow-10.3.0-cp311-cp311-win_amd64.whl (2.5 MB)\n",
      "                                              0.0/2.5 MB ? eta -:--:--\n",
      "     ----                                     0.3/2.5 MB 8.6 MB/s eta 0:00:01\n",
      "     ------                                   0.4/2.5 MB 5.4 MB/s eta 0:00:01\n",
      "     ---------                                0.6/2.5 MB 4.5 MB/s eta 0:00:01\n",
      "     ------------                             0.8/2.5 MB 4.6 MB/s eta 0:00:01\n",
      "     ----------------                         1.1/2.5 MB 4.9 MB/s eta 0:00:01\n",
      "     ----------------------                   1.4/2.5 MB 5.3 MB/s eta 0:00:01\n",
      "     --------------------------               1.7/2.5 MB 5.4 MB/s eta 0:00:01\n",
      "     ---------------------------------        2.1/2.5 MB 5.8 MB/s eta 0:00:01\n",
      "     ---------------------------------------  2.5/2.5 MB 6.2 MB/s eta 0:00:01\n",
      "     ---------------------------------------- 2.5/2.5 MB 6.0 MB/s eta 0:00:00\n",
      "Collecting pyparsing>=2.3.1 (from matplotlib)\n",
      "  Downloading pyparsing-3.1.2-py3-none-any.whl (103 kB)\n",
      "                                              0.0/103.2 kB ? eta -:--:--\n",
      "     ---------------------------------------- 103.2/103.2 kB ? eta 0:00:00\n",
      "Requirement already satisfied: python-dateutil>=2.7 in c:\\python311\\lib\\site-packages (from matplotlib) (2.8.2)\n",
      "Requirement already satisfied: six>=1.5 in c:\\python311\\lib\\site-packages (from python-dateutil>=2.7->matplotlib) (1.16.0)\n",
      "Installing collected packages: pyparsing, pillow, kiwisolver, fonttools, cycler, contourpy, matplotlib\n",
      "Successfully installed contourpy-1.2.1 cycler-0.12.1 fonttools-4.51.0 kiwisolver-1.4.5 matplotlib-3.9.0 pillow-10.3.0 pyparsing-3.1.2\n"
     ]
    }
   ],
   "source": [
    "pip install matplotlib"
   ]
  },
  {
   "cell_type": "code",
   "execution_count": 52,
   "metadata": {},
   "outputs": [
    {
     "data": {
      "image/png": "[encoded data removed]",
      "text/plain": [
       "<Figure size 640x480 with 1 Axes>"
      ]
     },
     "metadata": {},
     "output_type": "display_data"
    }
   ],
   "source": [
    "import matplotlib.pyplot as plt\n",
    "\n",
    "x = df['UDI']\n",
    "y1 = df['Temperatura Ar [K]']\n",
    "y2 = df['Temperatura Processo [K]']\n",
    "\n",
    "\n",
    "\n",
    "plt.plot(x, y1)\n",
    "plt.xlabel(\"Amostras\")\n",
    "plt.ylabel(\"Temperaturas\")\n",
    "plt.title(\"Curvas de temperatura\")\n",
    "\n",
    "\n",
    "plt.show()"
   ]
  }
 ],
 "metadata": {
  "kernelspec": {
   "display_name": "Python 3",
   "language": "python",
   "name": "python3"
  },
  "language_info": {
   "codemirror_mode": {
    "name": "ipython",
    "version": 3
   },
   "file_extension": ".py",
   "mimetype": "text/x-python",
   "name": "python",
   "nbconvert_exporter": "python",
   "pygments_lexer": "ipython3",
   "version": "3.11.4"
  },
  "orig_nbformat": 4
 },
 "nbformat": 4,
 "nbformat_minor": 2
}
