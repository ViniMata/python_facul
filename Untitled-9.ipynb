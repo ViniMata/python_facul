{
 "cells": [
  {
   "cell_type": "code",
   "execution_count": 34,
   "metadata": {},
   "outputs": [
    {
     "data": {
      "text/plain": [
       "7"
      ]
     },
     "execution_count": 34,
     "metadata": {},
     "output_type": "execute_result"
    }
   ],
   "source": [
    "def fibonacci(n):\n",
    "    ind = 0\n",
    "    i = 0\n",
    "    while ind < n:\n",
    "        ind += 1\n",
    "        i_a = i\n",
    "        i += 1\n",
    "        i_n = i_a + i\n",
    "\n",
    "    return i_n\n",
    "\n",
    "fibonacci(4)"
   ]
  },
  {
   "cell_type": "code",
   "execution_count": 26,
   "metadata": {},
   "outputs": [
    {
     "name": "stdout",
     "output_type": "stream",
     "text": [
      "9\n",
      "90\n",
      "900\n"
     ]
    }
   ],
   "source": [
    "#exercicio 1 - soma subtração, deivisao e ,multiplicação\n",
    "\n",
    "def soma(x, y):\n",
    "    \"Função soma\"\n",
    "    resultado = x + y\n",
    "    return resultado\n",
    "def sub(x,y):\n",
    "    return x - y\n",
    "def div(x,y):\n",
    "    return x/y\n",
    "def multi(x,y):\n",
    "    return x*y"
   ]
  },
  {
   "cell_type": "code",
   "execution_count": null,
   "metadata": {},
   "outputs": [],
   "source": [
    "def AreaQuadrado(lado_a):\n",
    "    return lado_a*lado_a\n",
    "\n",
    "def AreaRetangulo(lado_a, lado_b):\n",
    "    return lado_a*lado_b\n",
    "\n",
    "def AreaCirculo(raio):\n",
    "    return 3.14 * raio ** 2\n",
    "\n",
    "def AreaTriangulo(base, altura):\n",
    "    return (base*altura)/2\n",
    "\n"
   ]
  },
  {
   "cell_type": "code",
   "execution_count": null,
   "metadata": {},
   "outputs": [],
   "source": [
    "def VolumeCube(lado,altura,profundidade):\n",
    "    return lado*altura*profundidade"
   ]
  },
  {
   "cell_type": "code",
   "execution_count": 46,
   "metadata": {},
   "outputs": [
    {
     "name": "stdout",
     "output_type": "stream",
     "text": [
      "4500.0\n"
     ]
    }
   ],
   "source": [
    "def AreaQuadrado(lado_a):\n",
    "    return lado_a*lado_a\n",
    "\n",
    "def AreaRetangulo(lado_a, lado_b):\n",
    "    return lado_a*lado_b\n",
    "\n",
    "def AreaCirculo(raio):\n",
    "    return 3.14 * raio ** 2\n",
    "\n",
    "def AreaTriangulo(base, altura):\n",
    "    return (base*altura)/2\n",
    "\n",
    "def seuTerreno():\n",
    "    escolha = input(\"Qual o formato do seu terreno?\")\n",
    "    if escolha == \"quadrado\":\n",
    "        lado_a = int(input(\"Qual o tamanho do lado?\"))\n",
    "        print(AreaQuadrado(lado_a))\n",
    "    elif escolha == \"retangulo\":\n",
    "        lado_a = int(input(\"Qual o tamanho do primeiro lado?\"))\n",
    "        lado_b = int(input(\"Qual o tamanho do segundo lado?\"))\n",
    "        print(AreaRetangulo(lado_a, lado_b))\n",
    "    elif escolha == \"circulo\":\n",
    "        raio = int(input(\"Qual o raio do seu terreno?\"))\n",
    "        print(AreaCirculo(raio))\n",
    "    else:\n",
    "        base = int(input(\"Qual a base?\"))\n",
    "        altura = int(input(\"Qual a altura?\"))\n",
    "        print(AreaTriangulo(base,altura))\n",
    "seuTerreno()"
   ]
  },
  {
   "cell_type": "code",
   "execution_count": 39,
   "metadata": {},
   "outputs": [
    {
     "name": "stdout",
     "output_type": "stream",
     "text": [
      "impar\n"
     ]
    }
   ],
   "source": [
    "def ImparOuPar(x):\n",
    "    if x % 2 == 0:\n",
    "        return print (\"par\")\n",
    "    else:\n",
    "        return print (\"impar\")\n",
    "    \n",
    "ImparOuPar(1535)"
   ]
  },
  {
   "cell_type": "code",
   "execution_count": 51,
   "metadata": {},
   "outputs": [
    {
     "data": {
      "text/plain": [
       "100"
      ]
     },
     "execution_count": 51,
     "metadata": {},
     "output_type": "execute_result"
    }
   ],
   "source": [
    "lista1 = [10, 15, 25, 30, 15]\n",
    "lista2 = [10, 15, 25, 30, 20]\n",
    "def soma(lista):\n",
    "    resultado = 0\n",
    "    for i in lista:\n",
    "        resultado += i\n",
    "    return(resultado)\n",
    "soma(lista2)"
   ]
  },
  {
   "cell_type": "code",
   "execution_count": 10,
   "metadata": {},
   "outputs": [
    {
     "data": {
      "text/plain": [
       "{'A': [1, 2, 3, 4, 5], 'B': {'a', 'b', 'c', 'd', 'e'}}"
      ]
     },
     "execution_count": 10,
     "metadata": {},
     "output_type": "execute_result"
    }
   ],
   "source": [
    "\n",
    "dados = { \"A\": [1, 2, 3, 4, 5],\n",
    "          \"B\": {\"a\", \"b\", \"c\", \"d\", \"e\"}\n",
    "}\n",
    "dados\n"
   ]
  },
  {
   "cell_type": "code",
   "execution_count": 12,
   "metadata": {},
   "outputs": [
    {
     "ename": "ModuleNotFoundError",
     "evalue": "No module named 'pandas'",
     "output_type": "error",
     "traceback": [
      "\u001b[1;31m---------------------------------------------------------------------------\u001b[0m",
      "\u001b[1;31mModuleNotFoundError\u001b[0m                       Traceback (most recent call last)",
      "Cell \u001b[1;32mIn[12], line 1\u001b[0m\n\u001b[1;32m----> 1\u001b[0m \u001b[39mimport\u001b[39;00m \u001b[39mpandas\u001b[39;00m \u001b[39mas\u001b[39;00m \u001b[39mpd\u001b[39;00m\n\u001b[0;32m      3\u001b[0m dados \u001b[39m=\u001b[39m { \u001b[39m\"\u001b[39m\u001b[39mA\u001b[39m\u001b[39m\"\u001b[39m: [\u001b[39m1\u001b[39m, \u001b[39m2\u001b[39m, \u001b[39m3\u001b[39m, \u001b[39m4\u001b[39m, \u001b[39m5\u001b[39m],\n\u001b[0;32m      4\u001b[0m           \u001b[39m\"\u001b[39m\u001b[39mB\u001b[39m\u001b[39m\"\u001b[39m: {\u001b[39m\"\u001b[39m\u001b[39ma\u001b[39m\u001b[39m\"\u001b[39m, \u001b[39m\"\u001b[39m\u001b[39mb\u001b[39m\u001b[39m\"\u001b[39m, \u001b[39m\"\u001b[39m\u001b[39mc\u001b[39m\u001b[39m\"\u001b[39m, \u001b[39m\"\u001b[39m\u001b[39md\u001b[39m\u001b[39m\"\u001b[39m, \u001b[39m\"\u001b[39m\u001b[39me\u001b[39m\u001b[39m\"\u001b[39m}\n\u001b[0;32m      5\u001b[0m }\n\u001b[0;32m      7\u001b[0m \u001b[39m#transfomar os dados para uma tabela\u001b[39;00m\n",
      "\u001b[1;31mModuleNotFoundError\u001b[0m: No module named 'pandas'"
     ]
    }
   ],
   "source": [
    "import pandas as pd\n",
    "\n",
    "dados = { \"A\": [1, 2, 3, 4, 5],\n",
    "          \"B\": {\"a\", \"b\", \"c\", \"d\", \"e\"}\n",
    "}\n",
    "\n",
    "#transfomar os dados para uma tabela\n",
    "\n",
    "df = pd.DataFrame(dados)\n",
    "df"
   ]
  },
  {
   "attachments": {},
   "cell_type": "markdown",
   "metadata": {},
   "source": [
    "Exercicios\n",
    "1 crie uma função para contar até n\n",
    "2 crie uma função para verificar cores de uma lista_cores = [\"azul\", \"verde\", \"amarelo\"]\n",
    "3 simular uma calculadora de despesas levabdi en cibsuderação a lista_mes = janeiro fevereiro março\n",
    "4 para monitorar temperaturam solicitabdi avakires de tenoeratura para o usuario até o mesmo para de digitar -999, Depois disso retorne o valor minimo maxumo medio e mediano da temperatura."
   ]
  },
  {
   "cell_type": "code",
   "execution_count": 15,
   "metadata": {},
   "outputs": [
    {
     "name": "stdout",
     "output_type": "stream",
     "text": [
      "1\n"
     ]
    }
   ],
   "source": [
    "def contarAteN():\n",
    "    n = int(input(\"Digite n:\"))\n",
    "    for i in range(1,n+1):\n",
    "        print(i)\n",
    "\n",
    "contarAteN()"
   ]
  },
  {
   "cell_type": "code",
   "execution_count": 16,
   "metadata": {},
   "outputs": [],
   "source": [
    "lista_cores = [\"azul\", \"verde\", \"amarelo\"]\n",
    "lista_usu = []\n",
    "def verificarCores():\n",
    "    while True:\n",
    "        cor = input(\"Digite uma cor:\")\n",
    "        lista_usu.append(cor)\n",
    "        if cor == \"pare\":\n",
    "            break\n",
    "    if lista_cores in lista_usu:\n",
    "        print(\"As cores que voce disse estao na lista\")\n",
    "    else:\n",
    "        print(\"As cores que voce disse não estao todas na lista\")"
   ]
  },
  {
   "cell_type": "code",
   "execution_count": 35,
   "metadata": {},
   "outputs": [
    {
     "name": "stdout",
     "output_type": "stream",
     "text": [
      "Total de despesas: 3.0\n"
     ]
    }
   ],
   "source": [
    "lista_mes = [\"janeiro\", \"fevereiro\", \"março\"]\n",
    "def calculoDespesas(meses):\n",
    "    totaldespesas = 0\n",
    "    for i in meses:\n",
    "        despesas = float(input(f\"Digite o valor das despesas de {i}. \"))\n",
    "        totaldespesas += despesas\n",
    "    print(\"Total de despesas:\", totaldespesas)\n",
    "calculoDespesas(lista_mes)"
   ]
  },
  {
   "cell_type": "code",
   "execution_count": 36,
   "metadata": {},
   "outputs": [
    {
     "name": "stdout",
     "output_type": "stream",
     "text": [
      "Valor minimo:  10.0\n",
      "Valor maximo:  50.0\n",
      "Valor medio:  26.666666666666668\n",
      "25.0\n"
     ]
    },
    {
     "data": {
      "text/plain": [
       "[10.0, 10.0, 20.0, 30.0, 40.0, 50.0]"
      ]
     },
     "execution_count": 36,
     "metadata": {},
     "output_type": "execute_result"
    }
   ],
   "source": [
    "import statistics\n",
    "lista_temperaturas = []\n",
    "\n",
    "def monitorarTemperatura():\n",
    "    while True:\n",
    "        temp = float(input(\"Digite a temperatura: \"))\n",
    "        if temp == -999:\n",
    "            break\n",
    "        else:\n",
    "            lista_temperaturas.append(temp)\n",
    "    lista_temperaturas.sort()\n",
    "    print(\"Valor minimo: \", lista_temperaturas[0])\n",
    "    print(\"Valor maximo: \", lista_temperaturas[-1])\n",
    "    print(\"Valor medio: \", sum(lista_temperaturas)/len(lista_temperaturas))\n",
    "    print(statistics.median(lista_temperaturas))\n",
    "    # if len(lista_temperaturas) %2 == 0:\n",
    "\n",
    "    #     print(\"Valor mediano: \", lista_temperaturas[round((len(lista_temperaturas)/2)) +1], lista_temperaturas[round((len(lista_temperaturas)/2))]) \n",
    "    # else:\n",
    "    #     print(\"Valor mediano: \", lista_temperaturas[round((len((lista_temperaturas) + 1)/2))])\n",
    "       \n",
    "monitorarTemperatura()\n",
    "lista_temperaturas\n",
    "        "
   ]
  },
  {
   "cell_type": "code",
   "execution_count": 37,
   "metadata": {},
   "outputs": [
    {
     "ename": "ModuleNotFoundError",
     "evalue": "No module named 'pandas'",
     "output_type": "error",
     "traceback": [
      "\u001b[1;31m---------------------------------------------------------------------------\u001b[0m",
      "\u001b[1;31mModuleNotFoundError\u001b[0m                       Traceback (most recent call last)",
      "Cell \u001b[1;32mIn[37], line 1\u001b[0m\n\u001b[1;32m----> 1\u001b[0m \u001b[39mimport\u001b[39;00m \u001b[39mpandas\u001b[39;00m \u001b[39mas\u001b[39;00m \u001b[39mpd\u001b[39;00m\n",
      "\u001b[1;31mModuleNotFoundError\u001b[0m: No module named 'pandas'"
     ]
    }
   ],
   "source": [
    "import pandas as pd"
   ]
  },
  {
   "cell_type": "code",
   "execution_count": 38,
   "metadata": {},
   "outputs": [
    {
     "ename": "NameError",
     "evalue": "name 'pd' is not defined",
     "output_type": "error",
     "traceback": [
      "\u001b[1;31m---------------------------------------------------------------------------\u001b[0m",
      "\u001b[1;31mNameError\u001b[0m                                 Traceback (most recent call last)",
      "Cell \u001b[1;32mIn[38], line 1\u001b[0m\n\u001b[1;32m----> 1\u001b[0m df \u001b[39m=\u001b[39m pd\u001b[39m.\u001b[39mread_csv(\u001b[39mr\u001b[39m\u001b[39m'\u001b[39m\u001b[39mC:\u001b[39m\u001b[39m\\\u001b[39m\u001b[39maula\u001b[39m\u001b[39m\\\u001b[39m\u001b[39mpython_facul\u001b[39m\u001b[39m\\\u001b[39m\u001b[39mmanutencao_preditiva.csv\u001b[39m\u001b[39m'\u001b[39m)\n",
      "\u001b[1;31mNameError\u001b[0m: name 'pd' is not defined"
     ]
    }
   ],
   "source": [
    "df = pd.read_csv(r'C:\\aula\\python_facul\\manutencao_preditiva.csv')"
   ]
  }
 ],
 "metadata": {
  "kernelspec": {
   "display_name": "Python 3",
   "language": "python",
   "name": "python3"
  },
  "language_info": {
   "codemirror_mode": {
    "name": "ipython",
    "version": 3
   },
   "file_extension": ".py",
   "mimetype": "text/x-python",
   "name": "python",
   "nbconvert_exporter": "python",
   "pygments_lexer": "ipython3",
   "version": "3.11.4"
  },
  "orig_nbformat": 4
 },
 "nbformat": 4,
 "nbformat_minor": 2
}
