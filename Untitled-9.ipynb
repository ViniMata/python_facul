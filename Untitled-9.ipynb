{
 "cells": [
  {
   "cell_type": "code",
   "execution_count": 34,
   "metadata": {},
   "outputs": [
    {
     "data": {
      "text/plain": [
       "7"
      ]
     },
     "execution_count": 34,
     "metadata": {},
     "output_type": "execute_result"
    }
   ],
   "source": [
    "def fibonacci(n):\n",
    "    ind = 0\n",
    "    i = 0\n",
    "    while ind < n:\n",
    "        ind += 1\n",
    "        i_a = i\n",
    "        i += 1\n",
    "        i_n = i_a + i\n",
    "\n",
    "    return i_n\n",
    "\n",
    "fibonacci(4)"
   ]
  },
  {
   "cell_type": "code",
   "execution_count": 26,
   "metadata": {},
   "outputs": [
    {
     "name": "stdout",
     "output_type": "stream",
     "text": [
      "9\n",
      "90\n",
      "900\n"
     ]
    }
   ],
   "source": [
    "#exercicio 1 - soma subtração, deivisao e ,multiplicação\n",
    "\n",
    "def soma(x, y):\n",
    "    \"Função soma\"\n",
    "    resultado = x + y\n",
    "    return resultado\n",
    "def sub(x,y):\n",
    "    return x - y\n",
    "def div(x,y):\n",
    "    return x/y\n",
    "def multi(x,y):\n",
    "    return x*y"
   ]
  },
  {
   "cell_type": "code",
   "execution_count": null,
   "metadata": {},
   "outputs": [],
   "source": [
    "def AreaQuadrado(lado_a):\n",
    "    return lado_a*lado_a\n",
    "\n",
    "def AreaRetangulo(lado_a, lado_b):\n",
    "    return lado_a*lado_b\n",
    "\n",
    "def AreaCirculo(raio):\n",
    "    return 3.14 * raio ** 2\n",
    "\n",
    "def AreaTriangulo(base, altura):\n",
    "    return (base*altura)/2\n",
    "\n"
   ]
  },
  {
   "cell_type": "code",
   "execution_count": null,
   "metadata": {},
   "outputs": [],
   "source": [
    "def VolumeCube(lado,altura,profundidade):\n",
    "    return lado*altura*profundidade"
   ]
  },
  {
   "cell_type": "code",
   "execution_count": 46,
   "metadata": {},
   "outputs": [
    {
     "name": "stdout",
     "output_type": "stream",
     "text": [
      "4500.0\n"
     ]
    }
   ],
   "source": [
    "def AreaQuadrado(lado_a):\n",
    "    return lado_a*lado_a\n",
    "\n",
    "def AreaRetangulo(lado_a, lado_b):\n",
    "    return lado_a*lado_b\n",
    "\n",
    "def AreaCirculo(raio):\n",
    "    return 3.14 * raio ** 2\n",
    "\n",
    "def AreaTriangulo(base, altura):\n",
    "    return (base*altura)/2\n",
    "\n",
    "def seuTerreno():\n",
    "    escolha = input(\"Qual o formato do seu terreno?\")\n",
    "    if escolha == \"quadrado\":\n",
    "        lado_a = int(input(\"Qual o tamanho do lado?\"))\n",
    "        print(AreaQuadrado(lado_a))\n",
    "    elif escolha == \"retangulo\":\n",
    "        lado_a = int(input(\"Qual o tamanho do primeiro lado?\"))\n",
    "        lado_b = int(input(\"Qual o tamanho do segundo lado?\"))\n",
    "        print(AreaRetangulo(lado_a, lado_b))\n",
    "    elif escolha == \"circulo\":\n",
    "        raio = int(input(\"Qual o raio do seu terreno?\"))\n",
    "        print(AreaCirculo(raio))\n",
    "    else:\n",
    "        base = int(input(\"Qual a base?\"))\n",
    "        altura = int(input(\"Qual a altura?\"))\n",
    "        print(AreaTriangulo(base,altura))\n",
    "seuTerreno()"
   ]
  },
  {
   "cell_type": "code",
   "execution_count": 39,
   "metadata": {},
   "outputs": [
    {
     "name": "stdout",
     "output_type": "stream",
     "text": [
      "impar\n"
     ]
    }
   ],
   "source": [
    "def ImparOuPar(x):\n",
    "    if x % 2 == 0:\n",
    "        return print (\"par\")\n",
    "    else:\n",
    "        return print (\"impar\")\n",
    "    \n",
    "ImparOuPar(1535)"
   ]
  },
  {
   "cell_type": "code",
   "execution_count": 51,
   "metadata": {},
   "outputs": [
    {
     "data": {
      "text/plain": [
       "100"
      ]
     },
     "execution_count": 51,
     "metadata": {},
     "output_type": "execute_result"
    }
   ],
   "source": [
    "lista1 = [10, 15, 25, 30, 15]\n",
    "lista2 = [10, 15, 25, 30, 20]\n",
    "def soma(lista):\n",
    "    resultado = 0\n",
    "    for i in lista:\n",
    "        resultado += i\n",
    "    return(resultado)\n",
    "soma(lista2)"
   ]
  }
 ],
 "metadata": {
  "kernelspec": {
   "display_name": "Python 3",
   "language": "python",
   "name": "python3"
  },
  "language_info": {
   "codemirror_mode": {
    "name": "ipython",
    "version": 3
   },
   "file_extension": ".py",
   "mimetype": "text/x-python",
   "name": "python",
   "nbconvert_exporter": "python",
   "pygments_lexer": "ipython3",
   "version": "3.11.4"
  },
  "orig_nbformat": 4
 },
 "nbformat": 4,
 "nbformat_minor": 2
}
