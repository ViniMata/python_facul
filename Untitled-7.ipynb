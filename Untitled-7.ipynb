{
 "cells": [
  {
   "cell_type": "code",
   "execution_count": 2,
   "metadata": {},
   "outputs": [
    {
     "name": "stdout",
     "output_type": "stream",
     "text": [
      "1\n",
      "2\n",
      "3\n",
      "4\n",
      "5\n"
     ]
    }
   ],
   "source": [
    "lista = [1, 2, 3, 4, 5]\n",
    "\n",
    "for i in lista:\n",
    "    print(i)"
   ]
  },
  {
   "cell_type": "code",
   "execution_count": 3,
   "metadata": {},
   "outputs": [
    {
     "data": {
      "text/plain": [
       "[1, 2, 3, 4, 5]"
      ]
     },
     "execution_count": 3,
     "metadata": {},
     "output_type": "execute_result"
    }
   ],
   "source": [
    "lista = [1, 2, 3, 4, 5]\n",
    "\n",
    "lista_soma = []\n",
    "soma = 0\n",
    "for i in lista:\n",
    "    lista_soma.append(i)\n",
    "\n",
    "soma"
   ]
  },
  {
   "cell_type": "code",
   "execution_count": 5,
   "metadata": {},
   "outputs": [
    {
     "name": "stdout",
     "output_type": "stream",
     "text": [
      "0\n",
      "1\n",
      "2\n",
      "3\n"
     ]
    }
   ],
   "source": [
    "i = 0\n",
    "\n",
    "while i <=3:\n",
    "    print(i)\n",
    "    i += 1"
   ]
  },
  {
   "cell_type": "code",
   "execution_count": null,
   "metadata": {},
   "outputs": [],
   "source": [
    "#1. Crie uma estrutura na qual solicite ao usuario 5 valores utilizado a estrutura while\n",
    "#2. Depois some os valores inseridos pelos usuarios\n",
    "#3. Depois crie uma estrutura para calcular a média dos valores inseridos pelo usuario\n",
    "#4. Crie um programa para solicitar email e senha e, caso o usuario acerte o email e a senha mostre que ele tera acesso ao email. caso contrario de apenas duas chances para acertar o email e a senha\n",
    "#5. Crie um programa para solicitar o nome, rg e cep de 5 usuarios e armazene em listas\n"
   ]
  },
  {
   "cell_type": "code",
   "execution_count": 15,
   "metadata": {},
   "outputs": [
    {
     "name": "stdout",
     "output_type": "stream",
     "text": [
      "10\n",
      "2.0\n"
     ]
    }
   ],
   "source": [
    "numeros = []\n",
    "id = 0\n",
    "id2= 0\n",
    "while id < 5:\n",
    "    valor = int(input(\"Digite um valor:\"))\n",
    "    numeros.append(valor)\n",
    "    id += 1\n",
    "for i in numeros:\n",
    "    id2 += i\n",
    "media = id2/5\n",
    "print(id2)\n",
    "print(media)"
   ]
  },
  {
   "cell_type": "code",
   "execution_count": null,
   "metadata": {},
   "outputs": [],
   "source": [
    "email_certo = 123\n",
    "senha_certo = 123\n",
    "while True:\n",
    "    email = input(\"Digite o email:\")\n",
    "    senha = input(\"Digite a senha:\")\n",
    "\n",
    "    \n",
    "    if email == email_certo and senha == senha_certo:\n",
    "        print(\"Tem acesso ao email\")\n",
    "        break\n",
    "    \n",
    "    \n",
    "        "
   ]
  },
  {
   "cell_type": "code",
   "execution_count": null,
   "metadata": {},
   "outputs": [],
   "source": []
  },
  {
   "cell_type": "code",
   "execution_count": 18,
   "metadata": {},
   "outputs": [
    {
     "name": "stdout",
     "output_type": "stream",
     "text": [
      "[['a', 'a', 'a'], ['a', 'a', 'a'], ['', 'a', 'a'], ['a', 'a', 'a'], ['a', 'a', 'a']]\n"
     ]
    }
   ],
   "source": [
    "p1 = []\n",
    "p2 = []\n",
    "p3 = []\n",
    "p4 = []\n",
    "p5 = []\n",
    "\n",
    "lista_p = [p1, p2, p3, p4, p5]\n",
    "for i in lista_p:\n",
    "    nome = input(\"Qual seu nome?\")\n",
    "    rg = input(\"Qual seu rg?\")\n",
    "    cep = input(\"Qual seu cep?\")\n",
    "    i.append(nome)\n",
    "    i.append(cep)\n",
    "    i.append(rg)\n",
    "print(lista_p)"
   ]
  },
  {
   "cell_type": "code",
   "execution_count": null,
   "metadata": {},
   "outputs": [],
   "source": [
    "lista_forca = [500, 1000, 1500, 2000, 3000]\n",
    "vel_luz = 300000\n",
    "\n",
    "for i in lista_forca"
   ]
  }
 ],
 "metadata": {
  "kernelspec": {
   "display_name": "Python 3",
   "language": "python",
   "name": "python3"
  },
  "language_info": {
   "codemirror_mode": {
    "name": "ipython",
    "version": 3
   },
   "file_extension": ".py",
   "mimetype": "text/x-python",
   "name": "python",
   "nbconvert_exporter": "python",
   "pygments_lexer": "ipython3",
   "version": "3.11.4"
  },
  "orig_nbformat": 4
 },
 "nbformat": 4,
 "nbformat_minor": 2
}
