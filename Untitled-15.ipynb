{
 "cells": [
  {
   "cell_type": "code",
   "execution_count": 2,
   "metadata": {},
   "outputs": [
    {
     "name": "stdout",
     "output_type": "stream",
     "text": [
      "6\n",
      "3.0\n"
     ]
    }
   ],
   "source": [
    "# função chama função\n",
    "def soma(a,b):\n",
    "    \"Função soma\"\n",
    "    soma = a+b\n",
    "    return soma\n",
    "\n",
    "def media(a,b):\n",
    "    \"função media\"\n",
    "    media = soma(a,b)/2\n",
    "    return media\n",
    "\n",
    "print(soma(2,4))\n",
    "print(media(2,4))"
   ]
  },
  {
   "cell_type": "code",
   "execution_count": 7,
   "metadata": {},
   "outputs": [
    {
     "data": {
      "text/plain": [
       "1375"
      ]
     },
     "execution_count": 7,
     "metadata": {},
     "output_type": "execute_result"
    }
   ],
   "source": [
    "#criar uma função que retorna a soma dos quadrados\n",
    "\n",
    "def eleva_ao_quadrado(x):\n",
    "    'funcao eleva ao quadrado'\n",
    "    y = x**2\n",
    "     \n",
    "    return y \n",
    "\n",
    "def soma_quadrado(a,b,c,d,e):\n",
    "    'função que soma os numeros'\n",
    "\n",
    "    x = eleva_ao_quadrado(a)\n",
    "    y = eleva_ao_quadrado(b)\n",
    "    z = eleva_ao_quadrado(c)\n",
    "    w = eleva_ao_quadrado(d)\n",
    "    t = eleva_ao_quadrado(e)\n",
    "    soma = x + y + z + w + t\n",
    "    return soma\n",
    "\n",
    "soma_quadrado(5,10,15,20,25)"
   ]
  },
  {
   "cell_type": "code",
   "execution_count": 8,
   "metadata": {},
   "outputs": [
    {
     "name": "stdout",
     "output_type": "stream",
     "text": [
      "A area do retangulo é 230.0\n"
     ]
    }
   ],
   "source": [
    "# função para calcular a area de um retangulo\n",
    "\n",
    "def area(comprimento, largura):\n",
    "    \"Função que calcula a area de um retangulo\"\n",
    "\n",
    "    area_ret = comprimento * largura\n",
    "\n",
    "    return area_ret\n",
    "\n",
    "def mostra_area():\n",
    "    'função para mostrar o resultado'\n",
    "    print(f\"A area do retangulo é {ar}\")\n",
    "\n",
    "c = float(input(\"Digite o comprimento\"))\n",
    "l = float(input(\"Digite a largura\"))\n",
    "\n",
    "ar = area(c,l)\n",
    "mostra_area()"
   ]
  },
  {
   "cell_type": "code",
   "execution_count": 19,
   "metadata": {},
   "outputs": [
    {
     "name": "stdout",
     "output_type": "stream",
     "text": [
      "Media area,  78.5\n"
     ]
    }
   ],
   "source": [
    "#função para calcular a area de um circulo e retronar as seguintes informações\n",
    "#a) area > 100 = grande area\n",
    "#a) area > 50 = media area\n",
    "#a) area < 50 = pequena area\n",
    "\n",
    "def area_circulo(raio):\n",
    "    pi = 3.14\n",
    "    area = pi * (raio**2)\n",
    "\n",
    "    return area\n",
    "\n",
    "def mensagem():\n",
    "    if ac > 100:\n",
    "        print(\"Grande area, \", ac)\n",
    "    elif ac> 50:\n",
    "        print(\"Media area, \", ac)\n",
    "    else:\n",
    "        print(\"Pequena area, \", ac)\n",
    "\n",
    "ac = area_circulo(5)\n",
    "mensagem()"
   ]
  },
  {
   "cell_type": "code",
   "execution_count": 24,
   "metadata": {},
   "outputs": [
    {
     "name": "stdout",
     "output_type": "stream",
     "text": [
      "[5]\n"
     ]
    }
   ],
   "source": [
    "#fc 1\n",
    "\n",
    "def multiplica(a,b):\n",
    "    mult = a*b\n",
    "    return mult\n",
    "\n",
    "def multiplicar_lista(lista1, lista2):\n",
    "\n",
    "    produtos = []\n",
    "\n",
    "    for i in range(len(lista1)):\n",
    "        produtos.append(multiplica(lista1[i], lista2[i]))\n",
    "        return produtos\n",
    "\n",
    "listaA = [1,2,3,4]\n",
    "listaB = [5,6,7,8]\n",
    "\n",
    "resultado = multiplicar_lista(listaA, listaB)\n",
    "print(resultado)"
   ]
  },
  {
   "cell_type": "code",
   "execution_count": 25,
   "metadata": {},
   "outputs": [
    {
     "name": "stdout",
     "output_type": "stream",
     "text": [
      "15\n",
      "5\n",
      "2.0\n",
      "50\n"
     ]
    }
   ],
   "source": [
    "def soma(a,b):\n",
    "    soma= a+b\n",
    "    return soma\n",
    "def sub(a,b):\n",
    "    sub = a-b\n",
    "    return sub\n",
    "def div(a,b):\n",
    "    div = a/b\n",
    "    return div\n",
    "def mult(a,b):\n",
    "    mult = a * b\n",
    "    return mult\n",
    "\n",
    "def calculadora(a,b):\n",
    "    print(soma(a,b))\n",
    "    print(sub(a,b))\n",
    "    print(div(a,b))\n",
    "    print(mult(a,b))\n",
    "\n",
    "calculadora(10,5)"
   ]
  },
  {
   "cell_type": "code",
   "execution_count": 30,
   "metadata": {},
   "outputs": [
    {
     "ename": "ValueError",
     "evalue": "invalid literal for int() with base 10: 'parar'",
     "output_type": "error",
     "traceback": [
      "\u001b[1;31m---------------------------------------------------------------------------\u001b[0m",
      "\u001b[1;31mValueError\u001b[0m                                Traceback (most recent call last)",
      "Cell \u001b[1;32mIn[30], line 15\u001b[0m\n\u001b[0;32m     12\u001b[0m     media \u001b[38;5;241m=\u001b[39m lista\u001b[38;5;241m/\u001b[39m\u001b[38;5;28mlen\u001b[39m(lista)\n\u001b[0;32m     13\u001b[0m     \u001b[38;5;28;01mreturn\u001b[39;00m media\n\u001b[1;32m---> 15\u001b[0m \u001b[43mpedir_numeros\u001b[49m\u001b[43m(\u001b[49m\u001b[43m)\u001b[49m\n\u001b[0;32m     16\u001b[0m media(lista)\n",
      "Cell \u001b[1;32mIn[30], line 4\u001b[0m, in \u001b[0;36mpedir_numeros\u001b[1;34m()\u001b[0m\n\u001b[0;32m      2\u001b[0m lista \u001b[38;5;241m=\u001b[39m []\n\u001b[0;32m      3\u001b[0m \u001b[38;5;28;01mwhile\u001b[39;00m \u001b[38;5;28;01mTrue\u001b[39;00m:\n\u001b[1;32m----> 4\u001b[0m     n1 \u001b[38;5;241m=\u001b[39m \u001b[38;5;28;43mint\u001b[39;49m\u001b[43m(\u001b[49m\u001b[38;5;28;43minput\u001b[39;49m\u001b[43m(\u001b[49m\u001b[38;5;124;43m\"\u001b[39;49m\u001b[38;5;124;43mDigite um numero. Digite \u001b[39;49m\u001b[38;5;124;43m'\u001b[39;49m\u001b[38;5;124;43mparar\u001b[39;49m\u001b[38;5;124;43m'\u001b[39;49m\u001b[38;5;124;43m para parar!\u001b[39;49m\u001b[38;5;124;43m\"\u001b[39;49m\u001b[43m)\u001b[49m\u001b[43m)\u001b[49m\n\u001b[0;32m      5\u001b[0m     \u001b[38;5;28;01mif\u001b[39;00m n1 \u001b[38;5;241m==\u001b[39m \u001b[38;5;124m'\u001b[39m\u001b[38;5;124mparar\u001b[39m\u001b[38;5;124m'\u001b[39m:\n\u001b[0;32m      6\u001b[0m         \u001b[38;5;28;01mbreak\u001b[39;00m\n",
      "\u001b[1;31mValueError\u001b[0m: invalid literal for int() with base 10: 'parar'"
     ]
    }
   ],
   "source": [
    "def pedir_numeros():\n",
    "    lista = []\n",
    "    while True:\n",
    "        n1 = int(input(\"Digite um numero. Digite 'parar' para parar!\"))\n",
    "        if n1 == 'parar':\n",
    "            break\n",
    "        else:\n",
    "            lista.append(n1)\n",
    "    \n",
    "    return lista\n",
    "def media(lista):\n",
    "    media = lista/len(lista)\n",
    "    return media\n",
    "\n",
    "pedir_numeros()\n",
    "media(lista)"
   ]
  },
  {
   "cell_type": "code",
   "execution_count": null,
   "metadata": {},
   "outputs": [],
   "source": []
  }
 ],
 "metadata": {
  "kernelspec": {
   "display_name": "Python 3",
   "language": "python",
   "name": "python3"
  },
  "language_info": {
   "codemirror_mode": {
    "name": "ipython",
    "version": 3
   },
   "file_extension": ".py",
   "mimetype": "text/x-python",
   "name": "python",
   "nbconvert_exporter": "python",
   "pygments_lexer": "ipython3",
   "version": "3.12.3"
  }
 },
 "nbformat": 4,
 "nbformat_minor": 2
}
