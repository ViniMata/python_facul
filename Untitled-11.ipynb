{
 "cells": [
  {
   "cell_type": "code",
   "execution_count": 1,
   "metadata": {},
   "outputs": [
    {
     "name": "stdout",
     "output_type": "stream",
     "text": [
      "8\n"
     ]
    }
   ],
   "source": [
    "def soma(x1, x2):\n",
    "   print( x1 + x2)\n",
    "\n",
    "soma(3,5)"
   ]
  },
  {
   "cell_type": "markdown",
   "metadata": {},
   "source": [
    "# Ex 1\n",
    "crie um programa que solicite três notas para três alunos. Após isso calcule a média de cada aluno e retorne a média global. Utilize estrutura de entrada para o usuário."
   ]
  },
  {
   "cell_type": "code",
   "execution_count": 6,
   "metadata": {},
   "outputs": [
    {
     "name": "stdout",
     "output_type": "stream",
     "text": [
      "[18.0, 18.0, 78.0]\n",
      "Media Aluno 1: 6.0\n",
      "Media Aluno 2: 6.0\n",
      "Media Aluno 3: 26.0\n",
      "Media Global: 12.666666666666666\n"
     ]
    },
    {
     "data": {
      "text/plain": [
       "3"
      ]
     },
     "execution_count": 6,
     "metadata": {},
     "output_type": "execute_result"
    }
   ],
   "source": [
    "aluno_1 = []\n",
    "aluno_2 = []\n",
    "aluno_3 = []\n",
    "alunos = [aluno_1, aluno_2, aluno_3]\n",
    "medias = []\n",
    "\n",
    "for aluno in alunos:\n",
    "    for i in range (3):\n",
    "        nota = float(input(\"Digite nota:\"))\n",
    "        aluno.append(nota)\n",
    "\n",
    "for aluno in alunos:\n",
    "    media = 0\n",
    "    for nota in aluno:\n",
    "        media += nota\n",
    "    medias.append(media)\n",
    "\n",
    "media_a1 = (medias[0]/3)\n",
    "media_a2 = (medias[1]/3)\n",
    "media_a3 = (medias[2]/3)\n",
    "media_glo = ((media_a1 + media_a2 + media_a3)/3)\n",
    "\n",
    "print(f\"Media Aluno 1: {media_a1}\")\n",
    "print(f\"Media Aluno 2: {media_a2}\")\n",
    "print(f\"Media Aluno 3: {media_a3}\")\n",
    "print(f\"Media Global: {media_glo}\")\n"
   ]
  },
  {
   "cell_type": "code",
   "execution_count": 8,
   "metadata": {},
   "outputs": [
    {
     "name": "stdout",
     "output_type": "stream",
     "text": [
      "[(8, 80), (8, 80), (8, 80)]\n"
     ]
    }
   ],
   "source": [
    "llistaN = [(8,80), \n",
    "           (8,80), \n",
    "           (8,80)]\n",
    "print(llistaN)"
   ]
  },
  {
   "cell_type": "code",
   "execution_count": 11,
   "metadata": {},
   "outputs": [
    {
     "name": "stdout",
     "output_type": "stream",
     "text": [
      "Seu desconto será: 0.0 e seu salario liquido será: 2500.0\n"
     ]
    }
   ],
   "source": [
    "salario = float(input(\"DIgite seu salario\"))\n",
    "lista_desconto = [\n",
    "    (2112,0),\n",
    "    (2826.66, 0.075),\n",
    "    (3751.06, 0.15),\n",
    "    (4664.68, 0.225),\n",
    "    (float('inf'), 0.275)]\n",
    "for limite, taxa in lista_desconto:\n",
    "    if salario <= limite:\n",
    "        desconto = salario * taxa\n",
    "    break\n",
    "\n",
    "salario_liquido = salario - desconto\n",
    "\n",
    "print(f\"Seu desconto será: {desconto} e seu salario liquido será: {salario_liquido}\")"
   ]
  }
 ],
 "metadata": {
  "kernelspec": {
   "display_name": "Python 3",
   "language": "python",
   "name": "python3"
  },
  "language_info": {
   "codemirror_mode": {
    "name": "ipython",
    "version": 3
   },
   "file_extension": ".py",
   "mimetype": "text/x-python",
   "name": "python",
   "nbconvert_exporter": "python",
   "pygments_lexer": "ipython3",
   "version": "3.11.7"
  }
 },
 "nbformat": 4,
 "nbformat_minor": 2
}
