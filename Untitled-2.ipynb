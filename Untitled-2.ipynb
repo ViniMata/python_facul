{
 "cells": [
  {
   "cell_type": "code",
   "execution_count": 35,
   "metadata": {},
   "outputs": [
    {
     "name": "stdout",
     "output_type": "stream",
     "text": [
      "Aprovado 44.666666666666664\n"
     ]
    }
   ],
   "source": [
    "n1 = int(input(\"Nota 1:\"))\n",
    "n2 = int(input(\"Nota 2:\"))\n",
    "n3 = int(input(\"Nota 3:\"))\n",
    "#artigo = False\n",
    "media = (n1 + n2 + n3) /3\n",
    "artigo_resposta = input(\"tem artigo publicado?\")\n",
    "if media >= 7 or artigo_resposta == \"sim\" or artigo_resposta == \"Sim\":\n",
    "    print(\"Aprovado\", media)\n",
    "elif media>= 4 :\n",
    "    print(\"exame\")\n",
    "else:\n",
    "    print(\"Reprovado\")"
   ]
  },
  {
   "cell_type": "code",
   "execution_count": 36,
   "metadata": {},
   "outputs": [
    {
     "ename": "ValueError",
     "evalue": "could not convert string to float: 's'",
     "output_type": "error",
     "traceback": [
      "\u001b[1;31m---------------------------------------------------------------------------\u001b[0m",
      "\u001b[1;31mValueError\u001b[0m                                Traceback (most recent call last)",
      "Cell \u001b[1;32mIn[36], line 1\u001b[0m\n\u001b[1;32m----> 1\u001b[0m velocidade_carro \u001b[39m=\u001b[39m \u001b[39mfloat\u001b[39;49m(\u001b[39minput\u001b[39;49m(\u001b[39m\"\u001b[39;49m\u001b[39mQual a velociadde do carro?\u001b[39;49m\u001b[39m\"\u001b[39;49m))\n\u001b[0;32m      2\u001b[0m valor_multa \u001b[39m=\u001b[39m (velocidade_carro \u001b[39m-\u001b[39m \u001b[39m80\u001b[39m) \u001b[39m*\u001b[39m \u001b[39m5\u001b[39m\n\u001b[0;32m      3\u001b[0m \u001b[39mif\u001b[39;00m velocidade_carro \u001b[39m>\u001b[39m \u001b[39m80\u001b[39m:\n",
      "\u001b[1;31mValueError\u001b[0m: could not convert string to float: 's'"
     ]
    }
   ],
   "source": [
    "velocidade_carro = float(input(\"Qual a velociadde do carro?\"))\n",
    "valor_multa = (velocidade_carro - 80) * 5\n",
    "if velocidade_carro > 80:\n",
    "    print(f\"Você foi multado em R${valor_multa}. \")\n",
    "else :\n",
    "    print(\"Não foi multado\")"
   ]
  },
  {
   "cell_type": "code",
   "execution_count": null,
   "metadata": {},
   "outputs": [
    {
     "name": "stdout",
     "output_type": "stream",
     "text": [
      "idoso\n"
     ]
    }
   ],
   "source": [
    "idade = int(input(\"Qual sua idade?\"))\n",
    "if idade < 12:\n",
    "    print(\"Criança\")\n",
    "elif 12<= idade < 18:\n",
    "    print(\"Adolescente\")\n",
    "elif 18<= idade < 65:\n",
    "    print(\"Adulto\")\n",
    "else:\n",
    "    print(\"idoso\")"
   ]
  },
  {
   "cell_type": "code",
   "execution_count": null,
   "metadata": {},
   "outputs": [
    {
     "name": "stdout",
     "output_type": "stream",
     "text": [
      "par\n"
     ]
    }
   ],
   "source": [
    "numero = int(input(\"Numero: \"))\n",
    "if numero % 2 == 0:\n",
    "    print(\"par\")\n",
    "else:\n",
    "    print(\"impar\")"
   ]
  },
  {
   "cell_type": "code",
   "execution_count": 41,
   "metadata": {},
   "outputs": [
    {
     "name": "stdout",
     "output_type": "stream",
     "text": [
      "O 1 é maior\n"
     ]
    }
   ],
   "source": [
    "n1 = int(input(\"n1: \"))\n",
    "n2 = int(input(\"n2: \"))\n",
    "n3 = int(input(\"n3: \"))\n",
    "\n",
    "if n1 > n2 and n1> n3:\n",
    "    print(f\"O {n1} é maior\")\n",
    "elif n2 > n1 and n2> n3:\n",
    "    print(f\"O {n2} é maior\")\n",
    "else:\n",
    "    print(f\"O {n3} é maior\")\n",
    "\n"
   ]
  },
  {
   "cell_type": "code",
   "execution_count": 46,
   "metadata": {},
   "outputs": [
    {
     "name": "stdout",
     "output_type": "stream",
     "text": [
      "\n",
      "1.azul\n",
      "2.verde\n",
      "3.amarelo\n",
      "4.preto\n",
      "5.branco\n",
      "\n",
      "Branco\n"
     ]
    }
   ],
   "source": [
    "print(\"\"\"\n",
    "1.azul\n",
    "2.verde\n",
    "3.amarelo\n",
    "4.preto\n",
    "5.branco\n",
    "\"\"\")\n",
    "cor_favorita = int(input(\"Qual o numero sua cor favorita?\"))\n",
    "if cor_favorita == 1:\n",
    "    print(\"Azul\")\n",
    "elif cor_favorita == 2:\n",
    "    print(\"Verde\")\n",
    "elif cor_favorita == 3:\n",
    "    print(\"Amarelo\")\n",
    "elif cor_favorita == 4:\n",
    "    print(\"Preto\")\n",
    "else :\n",
    "    print(\"Branco\")"
   ]
  },
  {
   "cell_type": "code",
   "execution_count": 49,
   "metadata": {},
   "outputs": [
    {
     "name": "stdout",
     "output_type": "stream",
     "text": [
      "Novo salário:  2720.0\n"
     ]
    }
   ],
   "source": [
    "salario = float(input(\"Qual seu salário? \"))\n",
    "if salario < 2000:\n",
    "    print(\"Novo salário: \" , salario - (salario*0.1))\n",
    "elif 2000 <= salario < 5000:\n",
    "    print(\"Novo salário: \" , salario - (salario*0.2))\n",
    "elif 5000<= salario < 10000 :\n",
    "    print(\"Novo salário: \" , salario - (salario*0.24))\n",
    "else:\n",
    "    print(\"Novo salário: \" , salario - (salario*0.3))"
   ]
  },
  {
   "cell_type": "code",
   "execution_count": null,
   "metadata": {},
   "outputs": [],
   "source": [
    "salario = float(input(\"Qual seu salário? \"))\n",
    "if salario < 2000:\n",
    "    print(\"Novo salário: \" , salario - (salario*0.1))\n",
    "elif 2000 <= salario < 5000:\n",
    "    print(\"Novo salário: \" , salario - (salario*0.2))\n",
    "elif 5000<= salario < 10000 :\n",
    "    print(\"Novo salário: \" , salario - (salario*0.24))\n",
    "else:\n",
    "    print(\"Novo salário: \" , salario - (salario*0.3))"
   ]
  },
  {
   "cell_type": "code",
   "execution_count": 52,
   "metadata": {},
   "outputs": [
    {
     "name": "stdout",
     "output_type": "stream",
     "text": [
      "dia de netflix, futebol ou cinema\n"
     ]
    }
   ],
   "source": [
    "list = [\"segunda\", \"terça\", \"quarta\", \"quinta\", \"sexta\"]\n",
    "dia = input(\"qual o dia da semana?\")\n",
    "if dia == \"domingo\":\n",
    "    print(\"dia de netflix, futebol ou cinema\")\n",
    "elif dia == \"sabado\":\n",
    "    print(\"dia de balada\")\n",
    "elif dia in list:\n",
    "    print(\"dia de estudar ou trabalhar\")\n",
    "else :\n",
    "    print(\"digite um dia valido\")"
   ]
  },
  {
   "cell_type": "code",
   "execution_count": 57,
   "metadata": {},
   "outputs": [
    {
     "name": "stdout",
     "output_type": "stream",
     "text": [
      "Não pode votar\n"
     ]
    }
   ],
   "source": [
    "idade = int(input(\"Qual sua idade?\"))\n",
    "titulo = input(\"Tem titulo? \")\n",
    "if (idade >= 16 and titulo == 'sim'):\n",
    "    print(\"Pode votar\")\n",
    "elif idade < 16:\n",
    "    print(\"Não pode votar\")\n",
    "elif idade >= 18 and titulo == \"nao\":\n",
    "    print(\"Não pode votar\")"
   ]
  },
  {
   "cell_type": "code",
   "execution_count": 66,
   "metadata": {},
   "outputs": [
    {
     "name": "stdout",
     "output_type": "stream",
     "text": [
      "pode votar\n"
     ]
    }
   ],
   "source": [
    "idade = int(input(\"Qual sua idade?\"))\n",
    "if idade < 18 and idade >15:\n",
    "    querer = input(\"Quer votar?\")\n",
    "    if querer == \"nao\":\n",
    "        print(\"seu direito\")\n",
    "    else:\n",
    "        titulo = input(\"Tem titulo? \")\n",
    "        if titulo == \"nao\":\n",
    "            print(\"Não pode votar\")\n",
    "        else:\n",
    "            print(\"Pode votar\")\n",
    "elif idade < 16:\n",
    "    print(\"Não pode votar\")\n",
    "if idade >= 18:\n",
    "    titulo = input(\"Tem titulo? \")\n",
    "    if idade >= 18 and titulo == \"sim\":\n",
    "        print(\"pode votar\")\n",
    "    elif idade >= 18:\n",
    "        print('Tire seu titulo pois é obrigatorio o voto depois de 18 anos.')"
   ]
  }
 ],
 "metadata": {
  "kernelspec": {
   "display_name": "Python 3",
   "language": "python",
   "name": "python3"
  },
  "language_info": {
   "codemirror_mode": {
    "name": "ipython",
    "version": 3
   },
   "file_extension": ".py",
   "mimetype": "text/x-python",
   "name": "python",
   "nbconvert_exporter": "python",
   "pygments_lexer": "ipython3",
   "version": "3.11.4"
  },
  "orig_nbformat": 4
 },
 "nbformat": 4,
 "nbformat_minor": 2
}
