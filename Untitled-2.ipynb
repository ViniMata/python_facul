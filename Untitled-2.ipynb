{
 "cells": [
  {
   "cell_type": "code",
   "execution_count": 11,
   "metadata": {},
   "outputs": [
    {
     "name": "stdout",
     "output_type": "stream",
     "text": [
      "Reprovado\n"
     ]
    }
   ],
   "source": [
    "n1 = int(input(\"Nota 1:\"))\n",
    "n2 = int(input(\"Nota 2:\"))\n",
    "n3 = int(input(\"Nota 3:\"))\n",
    "#artigo = False\n",
    "media = (n1 + n2 + n3) /3\n",
    "artigo_resposta = input(\"tem artigo publicado?\")\n",
    "if media >= 7 or artigo_resposta == \"sim\" or artigo_resposta == \"Sim\":\n",
    "    print(\"Aprovado\", media)\n",
    "elif media>= 4 :\n",
    "    print(\"exame\")\n",
    "else:\n",
    "    print(\"Reprovado\")"
   ]
  },
  {
   "cell_type": "code",
   "execution_count": 4,
   "metadata": {},
   "outputs": [
    {
     "name": "stdout",
     "output_type": "stream",
     "text": [
      "Você foi multado em R$45. \n"
     ]
    }
   ],
   "source": [
    "velocidade_carro = int(input(\"Qual a velociadde do carro?\"))\n",
    "valor_multa = (velocidade_carro - 80) * 5\n",
    "if velocidade_carro > 80:\n",
    "    print(f\"Você foi multado em R${valor_multa}. \")\n",
    "else :\n",
    "    print(\"Não foi multado\")"
   ]
  },
  {
   "cell_type": "code",
   "execution_count": 8,
   "metadata": {},
   "outputs": [
    {
     "name": "stdout",
     "output_type": "stream",
     "text": [
      "idoso\n"
     ]
    }
   ],
   "source": [
    "idade = int(input(\"Qual sua idade?\"))\n",
    "if idade < 12:\n",
    "    print(\"Criança\")\n",
    "elif 12<= idade < 18:\n",
    "    print(\"Adolescente\")\n",
    "elif 18<= idade < 65:\n",
    "    print(\"Adulto\")\n",
    "else:\n",
    "    print(\"idoso\")"
   ]
  },
  {
   "cell_type": "code",
   "execution_count": null,
   "metadata": {},
   "outputs": [],
   "source": []
  }
 ],
 "metadata": {
  "kernelspec": {
   "display_name": "Python 3",
   "language": "python",
   "name": "python3"
  },
  "language_info": {
   "codemirror_mode": {
    "name": "ipython",
    "version": 3
   },
   "file_extension": ".py",
   "mimetype": "text/x-python",
   "name": "python",
   "nbconvert_exporter": "python",
   "pygments_lexer": "ipython3",
   "version": "3.11.4"
  },
  "orig_nbformat": 4
 },
 "nbformat": 4,
 "nbformat_minor": 2
}
