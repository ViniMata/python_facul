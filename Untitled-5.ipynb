{
 "cells": [
  {
   "cell_type": "code",
   "execution_count": 9,
   "metadata": {},
   "outputs": [
    {
     "name": "stdout",
     "output_type": "stream",
     "text": [
      "10\n",
      "9\n",
      "8\n",
      "7\n",
      "6\n",
      "5\n",
      "4\n",
      "3\n",
      "2\n",
      "1\n"
     ]
    }
   ],
   "source": []
  },
  {
   "cell_type": "code",
   "execution_count": 21,
   "metadata": {},
   "outputs": [
    {
     "name": "stdout",
     "output_type": "stream",
     "text": [
      "1\n",
      "2\n",
      "6\n",
      "24\n",
      "120\n"
     ]
    }
   ],
   "source": [
    "soma = 1\n",
    "for i in range(1,4):\n",
    "    soma += i\n",
    "    print(soma)"
   ]
  },
  {
   "cell_type": "code",
   "execution_count": 28,
   "metadata": {},
   "outputs": [
    {
     "name": "stdout",
     "output_type": "stream",
     "text": [
      "-1\n",
      "-3\n",
      "-6\n"
     ]
    }
   ],
   "source": [
    "sub = 0\n",
    "\n",
    "for i in range(1,4):\n",
    "    sub -= i\n",
    "    print(sub)"
   ]
  },
  {
   "cell_type": "code",
   "execution_count": 30,
   "metadata": {},
   "outputs": [
    {
     "name": "stdout",
     "output_type": "stream",
     "text": [
      "1\n",
      "2\n",
      "6\n"
     ]
    }
   ],
   "source": [
    "multi = 1\n",
    "for i in range(1,4):\n",
    "    multi *= i\n",
    "    print(multi)"
   ]
  },
  {
   "cell_type": "code",
   "execution_count": 38,
   "metadata": {},
   "outputs": [
    {
     "name": "stdout",
     "output_type": "stream",
     "text": [
      "1\n",
      "2\n",
      "3\n",
      "4\n",
      "esse é o cinco\n",
      "6\n",
      "7\n",
      "8\n",
      "9\n",
      "10\n"
     ]
    }
   ],
   "source": [
    "for i in range(1,11,):\n",
    "    if i == 5:\n",
    "        print(\"esse é o cinco\")\n",
    "    else:\n",
    "        print(i)\n"
   ]
  },
  {
   "cell_type": "code",
   "execution_count": 57,
   "metadata": {},
   "outputs": [
    {
     "name": "stdout",
     "output_type": "stream",
     "text": [
      "1 = impar\n",
      "2 = par\n",
      "3 = impar\n",
      "4 = par\n",
      "5 = impar\n",
      "6 = par\n",
      "7 = impar\n",
      "8 = par\n",
      "9 = impar\n",
      "10 = par\n"
     ]
    }
   ],
   "source": [
    "for k in range(1,11):\n",
    "    if k %2 == 0:\n",
    "        print(k,\"= par\")\n",
    "        continue\n",
    "    print(k,\"= impar\")\n",
    "    "
   ]
  },
  {
   "cell_type": "code",
   "execution_count": 48,
   "metadata": {},
   "outputs": [
    {
     "name": "stdout",
     "output_type": "stream",
     "text": [
      "a\n",
      "b\n",
      "d\n",
      "e\n"
     ]
    }
   ],
   "source": [
    "lista_car = ['a', 'b', 'c', 'd', 'e']\n",
    "\n",
    "for k in lista_car:\n",
    "    if k == 'c':\n",
    "        continue\n",
    "    print(k)"
   ]
  },
  {
   "attachments": {},
   "cell_type": "markdown",
   "metadata": {},
   "source": [
    "# exercicio 1\n",
    "crie uma estrutura para parar na letra a\n"
   ]
  },
  {
   "cell_type": "code",
   "execution_count": 59,
   "metadata": {},
   "outputs": [
    {
     "name": "stdout",
     "output_type": "stream",
     "text": [
      "h\n",
      "o\n",
      "j\n",
      "e\n",
      " \n",
      "é\n",
      " \n",
      "d\n",
      "i\n",
      "a\n"
     ]
    }
   ],
   "source": [
    "palavra = \"hoje é dia de happy hour\"\n",
    "\n",
    "for k in palavra:\n",
    "    print (k)\n",
    "    if k == 'a':\n",
    "        break"
   ]
  },
  {
   "attachments": {},
   "cell_type": "markdown",
   "metadata": {},
   "source": [
    "# exercicio 2\n",
    "crie uma estrutura para não mostrar as vogais "
   ]
  },
  {
   "cell_type": "code",
   "execution_count": 65,
   "metadata": {},
   "outputs": [
    {
     "name": "stdout",
     "output_type": "stream",
     "text": [
      "h\n",
      "j\n",
      " \n",
      " \n",
      "d\n",
      " \n",
      "d\n",
      " \n",
      "h\n",
      "p\n",
      "p\n",
      "y\n",
      " \n",
      "h\n",
      "r\n"
     ]
    }
   ],
   "source": [
    "vogal = ['a', 'e', 'é', 'i', 'o', 'u']\n",
    "palavra = \"hoje é dia de happy hour\"\n",
    "\n",
    "for k in palavra:\n",
    "    if k in vogal:\n",
    "        continue\n",
    "    print(k)"
   ]
  },
  {
   "attachments": {},
   "cell_type": "markdown",
   "metadata": {},
   "source": [
    "# exercicio 2\n",
    "crie uma estrutura para não mostrar as vogais o"
   ]
  },
  {
   "cell_type": "code",
   "execution_count": 67,
   "metadata": {},
   "outputs": [
    {
     "name": "stdout",
     "output_type": "stream",
     "text": [
      "h\n",
      "j\n",
      "e\n",
      " \n",
      "é\n",
      " \n",
      "d\n",
      "i\n",
      "a\n",
      " \n",
      "d\n",
      "e\n",
      " \n",
      "h\n",
      "a\n",
      "p\n",
      "p\n",
      "y\n",
      " \n",
      "h\n",
      "u\n",
      "r\n"
     ]
    }
   ],
   "source": [
    "vogal = ['A','a','E', 'e', 'é', 'I', 'i', 'O', 'o', 'U','u']\n",
    "palavra = \"hoje é dia de happy hour\"\n",
    "\n",
    "for k in palavra:\n",
    "    if k == 'o':\n",
    "        continue\n",
    "    print(k)"
   ]
  },
  {
   "attachments": {},
   "cell_type": "markdown",
   "metadata": {},
   "source": [
    "# exercicio 3\n",
    "crie um programa para solicitar ao usuario um texto. Em seguida para quebrar/parar em uma palavra selecionada pelo usuario"
   ]
  },
  {
   "cell_type": "code",
   "execution_count": 93,
   "metadata": {},
   "outputs": [
    {
     "name": "stdout",
     "output_type": "stream",
     "text": [
      "eu\n",
      "comi\n"
     ]
    }
   ],
   "source": [
    "txt_usu = str(input(\"Digite seu texto:\"))\n",
    "palavra = str(input(\"escreva uma palavra para parar em seu texto:\"))\n",
    "txt = txt_usu.split()\n",
    "\n",
    "for i in txt:\n",
    "    print(i)\n",
    "    if i == palavra:\n",
    "        break\n"
   ]
  },
  {
   "attachments": {},
   "cell_type": "markdown",
   "metadata": {},
   "source": [
    "# exercicio 4\n",
    "crie um para solicitar ao usuario um texto. Em seguida, ie uma estrutura para não mostrar uma palavra selecionada pelo usuario"
   ]
  },
  {
   "cell_type": "code",
   "execution_count": 98,
   "metadata": {},
   "outputs": [
    {
     "name": "stdout",
     "output_type": "stream",
     "text": [
      "joao\n",
      "comeu\n",
      "um\n",
      "bumbum\n",
      "de\n",
      "quentinho\n"
     ]
    }
   ],
   "source": [
    "txt_usu = str(input(\"Digite seu texto:\"))\n",
    "palavra = str(input(\"escreva uma palavra para parar em seu texto:\"))\n",
    "txt = txt_usu.split()\n",
    "\n",
    "for i in txt:\n",
    "    if i == palavra:\n",
    "        continue\n",
    "    print(i)"
   ]
  },
  {
   "cell_type": "code",
   "execution_count": 102,
   "metadata": {},
   "outputs": [
    {
     "name": "stdout",
     "output_type": "stream",
     "text": [
      "['sp']\n",
      "['rj']\n",
      "['mj']\n"
     ]
    }
   ],
   "source": [
    "cidades = []\n",
    "while True:\n",
    "    cidade = input(\"Digite uma cidade\")\n",
    "    if cidade == \"parar\" or cidade == \"Parar\":\n",
    "        break\n",
    "    cidades.append(cidade)\n",
    "    print(cidade)"
   ]
  },
  {
   "attachments": {},
   "cell_type": "markdown",
   "metadata": {},
   "source": [
    "# exercicio 5\n",
    "crie um programa para solicitar nome, sobrenome cpf e rg de quaro pessoas\n"
   ]
  }
 ],
 "metadata": {
  "kernelspec": {
   "display_name": "Python 3",
   "language": "python",
   "name": "python3"
  },
  "language_info": {
   "codemirror_mode": {
    "name": "ipython",
    "version": 3
   },
   "file_extension": ".py",
   "mimetype": "text/x-python",
   "name": "python",
   "nbconvert_exporter": "python",
   "pygments_lexer": "ipython3",
   "version": "3.11.4"
  },
  "orig_nbformat": 4
 },
 "nbformat": 4,
 "nbformat_minor": 2
}
